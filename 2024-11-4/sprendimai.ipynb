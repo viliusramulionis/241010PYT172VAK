{
 "cells": [
  {
   "cell_type": "code",
   "execution_count": null,
   "metadata": {},
   "outputs": [
    {
     "data": {
      "text/plain": [
       "2"
      ]
     },
     "execution_count": 10,
     "metadata": {},
     "output_type": "execute_result"
    }
   ],
   "source": [
    "import math\n",
    "\n",
    "#  Parašyti funkciją greičiui tikrinti: Funkcija paima argumentą -\n",
    "# automobilio greitį. Jei greitis 50 ar mažesnis, funkcija grąžina\n",
    "# ”Ok”, jei greitis didesnis nei 50 - už kiekvieną 5km/h greičio\n",
    "# viršijimą duodamas baudos taškas (pvz: greitis 70, atsakymas\n",
    "# - 4) Jei surenkami 8 taškai ir daugiau - funkcija ne tik grąžina\n",
    "# taškų sumą, bet ir priduria, jog vairuotojo teisės atimamos\n",
    "\n",
    "def greicioTikrinimas(greitis):\n",
    "    taskai = 0\n",
    "    if greitis > 50 :\n",
    "        taskai = math.floor((greitis - 50) / 5)\n",
    "\n",
    "    if taskai == 0 :\n",
    "        return \"OK\"\n",
    "    elif taskai < 8 :\n",
    "        return taskai\n",
    "    else : \n",
    "        return taskai, \"Vairuotojo teisės atimtos\"\n",
    "\n",
    "    \n",
    "greicioTikrinimas(59)\n"
   ]
  },
  {
   "cell_type": "code",
   "execution_count": 7,
   "metadata": {},
   "outputs": [
    {
     "name": "stdout",
     "output_type": "stream",
     "text": [
      "15\n",
      "16\n"
     ]
    }
   ],
   "source": [
    "import math\n",
    "\n",
    "\n",
    "# round(15.4) #15\n",
    "\n",
    "print(math.floor(15.8)) #15\n",
    "print(math.ceil(15.1)) #16"
   ]
  },
  {
   "cell_type": "code",
   "execution_count": 12,
   "metadata": {},
   "outputs": [
    {
     "data": {
      "text/plain": [
       "'sabaL'"
      ]
     },
     "execution_count": 12,
     "metadata": {},
     "output_type": "execute_result"
    }
   ],
   "source": [
    "# Parašyti funkciją, kuri priima tekstą ir grąžina atgal tekstą su\n",
    "# apkeistom pirma ir paskutine raidėmis. PVZ: Rytas sytaR.\n",
    "\n",
    "def apkeistiRaides(tekstas) :\n",
    "    return tekstas[-1] + tekstas[1:-1] + tekstas[0:1]\n",
    "\n",
    "\n",
    "apkeistiRaides(\"Labas\")"
   ]
  }
 ],
 "metadata": {
  "kernelspec": {
   "display_name": "Python 3",
   "language": "python",
   "name": "python3"
  },
  "language_info": {
   "codemirror_mode": {
    "name": "ipython",
    "version": 3
   },
   "file_extension": ".py",
   "mimetype": "text/x-python",
   "name": "python",
   "nbconvert_exporter": "python",
   "pygments_lexer": "ipython3",
   "version": "3.13.0"
  }
 },
 "nbformat": 4,
 "nbformat_minor": 2
}
