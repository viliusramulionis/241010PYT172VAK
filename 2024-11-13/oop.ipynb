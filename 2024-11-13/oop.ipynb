{
 "cells": [
  {
   "cell_type": "code",
   "execution_count": 3,
   "metadata": {},
   "outputs": [
    {
     "name": "stdout",
     "output_type": "stream",
     "text": [
      "9\n"
     ]
    }
   ],
   "source": [
    "def sum(a, b) :\n",
    "    return a + b\n",
    "\n",
    "print(sum(4, 5))"
   ]
  },
  {
   "cell_type": "code",
   "execution_count": null,
   "metadata": {},
   "outputs": [],
   "source": [
    "# OOP - Object Oriented Programming\n",
    "\n",
    "# Function Oriented Programming\n",
    "\n",
    "# Objektiniame programavime funkcija yra vadinama metodu (method)\n",
    "\n",
    "# Objekte esančios reikšmės (kaip kintamieji) yra vadinamos savybėmis (properties) "
   ]
  },
  {
   "cell_type": "code",
   "execution_count": null,
   "metadata": {},
   "outputs": [],
   "source": [
    "stringas = \"Labas Pasauli\"\n",
    "\n",
    "# Metodo pavyzdys:\n",
    "stringas.capitalize()"
   ]
  },
  {
   "cell_type": "code",
   "execution_count": null,
   "metadata": {},
   "outputs": [
    {
     "name": "stdout",
     "output_type": "stream",
     "text": [
      "Labas Pasauli\n",
      "Labas Pasauli\n",
      "Labas Pasauli\n",
      "<__main__.Product object at 0x000001DAD059A900> <__main__.Product object at 0x000001DAD0382D50> <__main__.Product object at 0x000001DAD0382C10>\n"
     ]
    }
   ],
   "source": [
    "# Pagal gerają praktiką Klasių pavadinimai rašomi pagal PascalCase metodologiją\n",
    "\n",
    "class Product() :\n",
    "    def __init__(self) :\n",
    "        # __init__ metoddas yra objekto konstruktorius\n",
    "        # __init__ metodas yra pats pirmas kuris yra iššaukiamas pagal nutylėjimą klasėje\n",
    "        print(\"Labas Pasauli\")\n",
    "\n",
    "# Objekto generavimas pagal nurodytą klasę Product()\n",
    "# Kintamasis product įgauna sugeneruoto objekto reikšmę\n",
    "# Object Instance\n",
    "product = Product() \n",
    "product1 = Product() \n",
    "product2 = Product() \n",
    "\n",
    "print(product, product1, product2)\n",
    "\n"
   ]
  },
  {
   "cell_type": "code",
   "execution_count": 6,
   "metadata": {},
   "outputs": [
    {
     "name": "stdout",
     "output_type": "stream",
     "text": [
      "Labas Pasauli\n",
      "Labas vakaras visiems\n"
     ]
    }
   ],
   "source": [
    "class Product() :\n",
    "    def __init__(self) :\n",
    "        # __init__ metoddas yra objekto konstruktorius\n",
    "        # __init__ metodas yra pats pirmas kuris yra iššaukiamas pagal nutylėjimą klasėje\n",
    "        print(\"Labas Pasauli\")\n",
    "\n",
    "    def pasisveikinimas(self) :\n",
    "        return \"Labas vakaras visiems\"\n",
    "    \n",
    "product = Product() \n",
    "\n",
    "print(product.pasisveikinimas())"
   ]
  },
  {
   "cell_type": "code",
   "execution_count": null,
   "metadata": {},
   "outputs": [
    {
     "name": "stdout",
     "output_type": "stream",
     "text": [
      "Labas Pasauli\n",
      "Labas Pasauli\n",
      "Labas Pasauli\n",
      "Labai šaunus produktas\n",
      "Labai šaunus produktas\n",
      "Labai šaunus produktas\n"
     ]
    }
   ],
   "source": [
    "class Product() :\n",
    "    # Savybės sukūrimas:\n",
    "    pavadinimas = \"Labai šaunus produktas\"\n",
    "\n",
    "    def __init__(self) :\n",
    "        print(\"Labas Pasauli\")\n",
    "    \n",
    "product = Product() \n",
    "product1 = Product() \n",
    "product2 = Product() \n",
    "\n",
    "print(product.pavadinimas)\n",
    "print(product1.pavadinimas)\n",
    "print(product2.pavadinimas)\n"
   ]
  },
  {
   "cell_type": "code",
   "execution_count": null,
   "metadata": {},
   "outputs": [
    {
     "name": "stdout",
     "output_type": "stream",
     "text": [
      "Labas Pasauli\n",
      "Labas Pasauli\n",
      "Labas Pasauli\n",
      "Labai prastas, bet daug reklamuotas produktas\n",
      "Labai šaunus produktas\n",
      "Labai šaunus produktas\n"
     ]
    }
   ],
   "source": [
    "class Product() :\n",
    "    # Savybės sukūrimas:\n",
    "    pavadinimas = \"Labai šaunus produktas\"\n",
    "\n",
    "    def __init__(self) :\n",
    "        print(\"Labas Pasauli\")\n",
    "    \n",
    "product = Product() \n",
    "product1 = Product() \n",
    "product2 = Product() \n",
    "\n",
    "# Objekto savybių reikšmių keitimas už klasės ribų: \n",
    "product.pavadinimas = \"Labai prastas, bet daug reklamuotas produktas\"\n",
    "\n",
    "print(product.pavadinimas)\n",
    "print(product1.pavadinimas)\n",
    "print(product2.pavadinimas)\n"
   ]
  },
  {
   "cell_type": "code",
   "execution_count": 23,
   "metadata": {},
   "outputs": [
    {
     "name": "stdout",
     "output_type": "stream",
     "text": [
      "Televizorius LG 1516516\n",
      "TELEFONAS IPHONE 16 PRO MAX\n",
      "Kompi...\n"
     ]
    }
   ],
   "source": [
    "class Product() :\n",
    "    # Savybės sukūrimas:\n",
    "    pavadinimas = \"Labai šaunus produktas\"\n",
    "\n",
    "    def __init__(self, pavadinimas) :\n",
    "        # self parametras nurodo objektą į kurį norime kreiptis\n",
    "        # print(pavadinimas)\n",
    "        self.pavadinimas = pavadinimas\n",
    "\n",
    "    def isDidziujuRaidziu(self) :\n",
    "        return self.pavadinimas.upper()\n",
    "    \n",
    "    def sutrumpintiPavadinima(self, ilgis) :\n",
    "        return self.pavadinimas[:ilgis] + \"...\"\n",
    "    \n",
    "\n",
    "product = Product(\"Televizorius LG 1516516\") \n",
    "product1 = Product(\"Telefonas Iphone 16 Pro Max\") \n",
    "product2 = Product(\"Kompiuteris Sony Vaio\") \n",
    "\n",
    "print(product.pavadinimas)\n",
    "print(product1.isDidziujuRaidziu())\n",
    "print(product2.sutrumpintiPavadinima(5))\n"
   ]
  },
  {
   "cell_type": "code",
   "execution_count": null,
   "metadata": {},
   "outputs": [
    {
     "name": "stdout",
     "output_type": "stream",
     "text": [
      "Objektas sukurtas\n",
      "Objektas sunaikinamas\n"
     ]
    }
   ],
   "source": [
    "class Product() :\n",
    "    def __init__(self) :\n",
    "        print(\"Objektas sukurtas\")\n",
    "\n",
    "    def __del__(self) :\n",
    "        print(\"Objektas sunaikinamas\")\n",
    "\n",
    "product = Product()\n",
    "\n",
    "del product"
   ]
  },
  {
   "cell_type": "code",
   "execution_count": 29,
   "metadata": {},
   "outputs": [
    {
     "name": "stdout",
     "output_type": "stream",
     "text": [
      "Objektas sukurtas\n",
      "Objektas sunaikinamas\n",
      "Objektas sukurtas\n",
      "Objektas sunaikinamas\n",
      "Objektas sukurtas\n",
      "Objektas sunaikinamas\n",
      "Objektas sukurtas\n",
      "Objektas sunaikinamas\n",
      "Objektas sukurtas\n",
      "Objektas sunaikinamas\n",
      "Objektas sukurtas\n",
      "Objektas sunaikinamas\n",
      "Objektas sukurtas\n",
      "Objektas sunaikinamas\n",
      "Objektas sukurtas\n",
      "Objektas sunaikinamas\n",
      "Objektas sukurtas\n",
      "Objektas sunaikinamas\n",
      "Objektas sukurtas\n",
      "Objektas sunaikinamas\n"
     ]
    }
   ],
   "source": [
    "class Product() :\n",
    "    def __init__(self) :\n",
    "        print(\"Objektas sukurtas\")\n",
    "\n",
    "    def __del__(self) :\n",
    "        print(\"Objektas sunaikinamas\")\n",
    "\n",
    "\n",
    "for i in range(10) :\n",
    "    product = Product()"
   ]
  }
 ],
 "metadata": {
  "kernelspec": {
   "display_name": "Python 3",
   "language": "python",
   "name": "python3"
  },
  "language_info": {
   "codemirror_mode": {
    "name": "ipython",
    "version": 3
   },
   "file_extension": ".py",
   "mimetype": "text/x-python",
   "name": "python",
   "nbconvert_exporter": "python",
   "pygments_lexer": "ipython3",
   "version": "3.13.0"
  }
 },
 "nbformat": 4,
 "nbformat_minor": 2
}
