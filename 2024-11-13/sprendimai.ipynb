{
 "cells": [
  {
   "cell_type": "code",
   "execution_count": 20,
   "metadata": {},
   "outputs": [
    {
     "name": "stdout",
     "output_type": "stream",
     "text": [
      "[[17, 9, 18], [21, 22, 24]]\n"
     ]
    }
   ],
   "source": [
    "import random\n",
    "\n",
    "def generate_multi_array(size, numberCount) :\n",
    "    result = []\n",
    "    \n",
    "    for x in range(size) :\n",
    "        result.append([])\n",
    "\n",
    "        for y in range(numberCount) :\n",
    "            result[x].append(random.randint(5, 25))\n",
    "    \n",
    "    return result\n",
    "\n",
    "print(generate_multi_array(2, 3))\n"
   ]
  },
  {
   "cell_type": "code",
   "execution_count": null,
   "metadata": {},
   "outputs": [
    {
     "name": "stdout",
     "output_type": "stream",
     "text": [
      "[[7, 20, 23], [14, 25, 14]]\n"
     ]
    },
    {
     "data": {
      "text/plain": [
       "5"
      ]
     },
     "execution_count": 19,
     "metadata": {},
     "output_type": "execute_result"
    }
   ],
   "source": [
    "def bigger_than_ten(data) :\n",
    "    counter = 0\n",
    "    \n",
    "    for y in range(len(data)) :\n",
    "        for x in range(len(data[y])) :\n",
    "            if data[y][x] > 10 :\n",
    "                counter += 1\n",
    "\n",
    "    return counter\n",
    "        \n",
    "\n",
    "bigger_than_ten(generate_multi_array(2, 3))\n"
   ]
  },
  {
   "cell_type": "code",
   "execution_count": null,
   "metadata": {},
   "outputs": [
    {
     "name": "stdout",
     "output_type": "stream",
     "text": [
      "[[9, 7, 13], [21, 23, 20]]\n"
     ]
    },
    {
     "data": {
      "text/plain": [
       "23"
      ]
     },
     "execution_count": 22,
     "metadata": {},
     "output_type": "execute_result"
    }
   ],
   "source": [
    "def max_element(data) :\n",
    "    max = 0\n",
    "    \n",
    "    for y in range(len(data)) :\n",
    "        for x in range(len(data[y])) :\n",
    "            if data[y][x] > max :\n",
    "                max = data[y][x]\n",
    "\n",
    "    return max\n",
    "        \n",
    "\n",
    "max_element(generate_multi_array(2, 3))\n"
   ]
  },
  {
   "cell_type": "code",
   "execution_count": null,
   "metadata": {},
   "outputs": [
    {
     "name": "stdout",
     "output_type": "stream",
     "text": [
      "[[17, 12, 8], [17, 21, 19]]\n"
     ]
    },
    {
     "data": {
      "text/plain": [
       "[34, 33, 27]"
      ]
     },
     "execution_count": 50,
     "metadata": {},
     "output_type": "execute_result"
    }
   ],
   "source": [
    "def same_index_sum(data) :\n",
    "    result = []\n",
    "    \n",
    "    for x in range(len(data[0])) :\n",
    "        sum = 0\n",
    "        for y in range(len(data)) :\n",
    "            sum += data[y][x]\n",
    "\n",
    "        result.append(sum)\n",
    "\n",
    "    return result\n",
    "        \n",
    "\n",
    "same_index_sum(generate_multi_array(2, 3))"
   ]
  },
  {
   "cell_type": "code",
   "execution_count": 58,
   "metadata": {},
   "outputs": [
    {
     "name": "stdout",
     "output_type": "stream",
     "text": [
      "12\n"
     ]
    }
   ],
   "source": [
    "def extend_multi_array(length) :\n",
    "    generatedList = generate_multi_array(10, 5)\n",
    "    newList = generate_multi_array(2, 5)\n",
    "\n",
    "    return generatedList + newList\n",
    "\n",
    "print(len(extend_multi_array(2)))\n",
    "\n",
    "\n"
   ]
  },
  {
   "cell_type": "code",
   "execution_count": null,
   "metadata": {},
   "outputs": [
    {
     "name": "stdout",
     "output_type": "stream",
     "text": [
      "[[16, 6], [24, 9], [17, 8]]\n"
     ]
    },
    {
     "data": {
      "text/plain": [
       "[22, 33, 25]"
      ]
     },
     "execution_count": 63,
     "metadata": {},
     "output_type": "execute_result"
    }
   ],
   "source": [
    "# Suskaičiuotų kiekvieno iš antro lygio sąrašų elementų sumas ir jas panaudotų kaip reikšmes sukuriant naują masyvą. \n",
    "# Pavyzdinis rezultatas:\n",
    "# [48, 49]\n",
    "\n",
    "def sum_inner_lists(data) :\n",
    "    result = []\n",
    "    for numbers in data :\n",
    "        result.append(sum(numbers))\n",
    "\n",
    "    return result\n",
    "\n",
    "sum_inner_lists(generate_multi_array(3, 2))\n"
   ]
  }
 ],
 "metadata": {
  "kernelspec": {
   "display_name": "Python 3",
   "language": "python",
   "name": "python3"
  },
  "language_info": {
   "codemirror_mode": {
    "name": "ipython",
    "version": 3
   },
   "file_extension": ".py",
   "mimetype": "text/x-python",
   "name": "python",
   "nbconvert_exporter": "python",
   "pygments_lexer": "ipython3",
   "version": "3.13.0"
  }
 },
 "nbformat": 4,
 "nbformat_minor": 2
}
