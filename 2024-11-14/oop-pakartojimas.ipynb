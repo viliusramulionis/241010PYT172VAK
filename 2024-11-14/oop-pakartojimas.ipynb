{
 "cells": [
  {
   "cell_type": "code",
   "execution_count": 2,
   "metadata": {},
   "outputs": [
    {
     "name": "stdout",
     "output_type": "stream",
     "text": [
      "Automobilis sukurtas\n",
      "Automobilis sukurtas\n",
      "Automobilis sukurtas\n"
     ]
    }
   ],
   "source": [
    "class Automobilis() :\n",
    "    def __init__(self) :\n",
    "        print(\"Automobilis sukurtas\")\n",
    "    \n",
    "automobilis = Automobilis()\n",
    "automobilis1 = Automobilis()\n",
    "automobilis2 = Automobilis()\n",
    "\n",
    "\n"
   ]
  },
  {
   "cell_type": "code",
   "execution_count": null,
   "metadata": {},
   "outputs": [],
   "source": [
    "{\n",
    "    \"gamintojas\": \"BMW\",\n",
    "    \"metai\": 2018,\n",
    "    \"spalva\": \"juoda\",\n",
    "    \"TA\": 2026\n",
    "}"
   ]
  },
  {
   "cell_type": "code",
   "execution_count": null,
   "metadata": {},
   "outputs": [
    {
     "name": "stdout",
     "output_type": "stream",
     "text": [
      "BMW\n",
      "Audi\n",
      "WV\n"
     ]
    }
   ],
   "source": [
    "class Automobilis() :\n",
    "    def __init__(self, gamintojas, metai) :\n",
    "        self.gamintojas = gamintojas\n",
    "        self.metai = metai\n",
    "    \n",
    "bmw = Automobilis(\"BMW\", 2018)\n",
    "audi = Automobilis(\"Audi\", 2010)\n",
    "wv = Automobilis(\"WV\", 2020)\n",
    "\n",
    "print(bmw.gamintojas)\n",
    "print(audi.gamintojas)\n",
    "print(wv.gamintojas)"
   ]
  },
  {
   "cell_type": "code",
   "execution_count": 15,
   "metadata": {},
   "outputs": [
    {
     "name": "stdout",
     "output_type": "stream",
     "text": [
      "2024\n",
      "Pasibaigusi registracija\n",
      "2024\n"
     ]
    }
   ],
   "source": [
    "class Automobilis() :\n",
    "    # Pagal nutylėjimą (default) priskiriama savybė (property)\n",
    "    metai = 2024\n",
    "\n",
    "    def __init__(self, gamintojas) :\n",
    "        self.gamintojas = gamintojas\n",
    "\n",
    "    def setMetai(self, metai) :\n",
    "        if metai > 2002 :\n",
    "            self.metai = metai\n",
    "        else : \n",
    "            self.metai = 'Pasibaigusi registracija'\n",
    "    \n",
    "bmw = Automobilis(\"BMW\")\n",
    "audi = Automobilis(\"Audi\")\n",
    "wv = Automobilis(\"WV\")\n",
    "\n",
    "audi.setMetai(2000)\n",
    "\n",
    "print(bmw.metai)\n",
    "print(audi.metai)\n",
    "print(wv.metai)"
   ]
  }
 ],
 "metadata": {
  "kernelspec": {
   "display_name": "Python 3",
   "language": "python",
   "name": "python3"
  },
  "language_info": {
   "codemirror_mode": {
    "name": "ipython",
    "version": 3
   },
   "file_extension": ".py",
   "mimetype": "text/x-python",
   "name": "python",
   "nbconvert_exporter": "python",
   "pygments_lexer": "ipython3",
   "version": "3.13.0"
  }
 },
 "nbformat": 4,
 "nbformat_minor": 2
}
