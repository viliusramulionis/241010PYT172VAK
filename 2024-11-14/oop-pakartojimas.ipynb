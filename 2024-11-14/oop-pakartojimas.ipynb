{
 "cells": [
  {
   "cell_type": "code",
   "execution_count": 2,
   "metadata": {},
   "outputs": [
    {
     "name": "stdout",
     "output_type": "stream",
     "text": [
      "Automobilis sukurtas\n",
      "Automobilis sukurtas\n",
      "Automobilis sukurtas\n"
     ]
    }
   ],
   "source": [
    "class Automobilis() :\n",
    "    def __init__(self) :\n",
    "        print(\"Automobilis sukurtas\")\n",
    "    \n",
    "automobilis = Automobilis()\n",
    "automobilis1 = Automobilis()\n",
    "automobilis2 = Automobilis()\n",
    "\n",
    "\n"
   ]
  },
  {
   "cell_type": "code",
   "execution_count": null,
   "metadata": {},
   "outputs": [],
   "source": [
    "{\n",
    "    \"gamintojas\": \"BMW\",\n",
    "    \"metai\": 2018,\n",
    "    \"spalva\": \"juoda\",\n",
    "    \"TA\": 2026\n",
    "}"
   ]
  },
  {
   "cell_type": "code",
   "execution_count": null,
   "metadata": {},
   "outputs": [
    {
     "name": "stdout",
     "output_type": "stream",
     "text": [
      "BMW\n",
      "Audi\n",
      "WV\n"
     ]
    }
   ],
   "source": [
    "class Automobilis() :\n",
    "    def __init__(self, gamintojas, metai) :\n",
    "        self.gamintojas = gamintojas\n",
    "        self.metai = metai\n",
    "    \n",
    "bmw = Automobilis(\"BMW\", 2018)\n",
    "audi = Automobilis(\"Audi\", 2010)\n",
    "wv = Automobilis(\"WV\", 2020)\n",
    "\n",
    "print(bmw.gamintojas)\n",
    "print(audi.gamintojas)\n",
    "print(wv.gamintojas)"
   ]
  },
  {
   "cell_type": "code",
   "execution_count": null,
   "metadata": {},
   "outputs": [
    {
     "name": "stdout",
     "output_type": "stream",
     "text": [
      "2024\n",
      "Pasibaigusi registracija\n",
      "2024\n"
     ]
    }
   ],
   "source": [
    "class Automobilis() :\n",
    "    # Pagal nutylėjimą (default) priskiriama savybė (property)\n",
    "    metai = 2024\n",
    "\n",
    "    def __init__(self, gamintojas) :\n",
    "        self.gamintojas = gamintojas\n",
    "\n",
    "    def setMetai(self, metai) :\n",
    "        if metai > 2002 :\n",
    "            self.metai = metai\n",
    "        else : \n",
    "            self.metai = 'Pasibaigusi registracija'\n",
    "\n",
    "    def getMetai(self) :\n",
    "        return self.metai\n",
    "    \n",
    "bmw = Automobilis(\"BMW\")\n",
    "audi = Automobilis(\"Audi\")\n",
    "wv = Automobilis(\"WV\")\n",
    "\n",
    "audi.setMetai(2000)\n",
    "\n",
    "print(bmw.metai)\n",
    "print(audi.metai)\n",
    "print(wv.metai)"
   ]
  },
  {
   "cell_type": "code",
   "execution_count": null,
   "metadata": {},
   "outputs": [
    {
     "name": "stdout",
     "output_type": "stream",
     "text": [
      "Objektas yra sukurtas\n",
      "<__main__.Video object at 0x0000021F9739B620>\n",
      "Objektas yra sunaikintas\n"
     ]
    }
   ],
   "source": [
    "# Parašykite klasę, kuri turėtų konstruktorių, destruktorių. Abu\n",
    "# turi spausdinti informacinį pranešimą, jog objektas yra\n",
    "# sukurtas/sunaikintas.\n",
    "\n",
    "class Video() :\n",
    "    # Konstruktoriaus aprašymas:\n",
    "    def __init__(self) :\n",
    "        print(\"Objektas yra sukurtas\")\n",
    "\n",
    "    # Destruktoriaus sukūrimas\n",
    "    def __del__(self) : \n",
    "        print(\"Objektas yra sunaikintas\") \n",
    "    \n",
    "video = Video()\n",
    "\n",
    "# Objekto pašalinimas:\n",
    "del video"
   ]
  },
  {
   "cell_type": "code",
   "execution_count": 29,
   "metadata": {},
   "outputs": [
    {
     "name": "stdout",
     "output_type": "stream",
     "text": [
      "neįvestas\n",
      "Jonas\n"
     ]
    }
   ],
   "source": [
    "# Parašykite klasę, kuri turėtų vieną atributą. Pasiekite jo\n",
    "# reikšmę, išveskite. Pakeiskite atributo reikšmę. Patikrinkite,\n",
    "# ar reikšmė pakito.\n",
    "\n",
    "class Vartotojas() :\n",
    "    vardas = \"neįvestas\"\n",
    "    \n",
    "vartotojas = Vartotojas()\n",
    "\n",
    "print(vartotojas.vardas)\n",
    "\n",
    "vartotojas.vardas = \"Jonas\"\n",
    "\n",
    "print(vartotojas.vardas)"
   ]
  },
  {
   "cell_type": "code",
   "execution_count": null,
   "metadata": {},
   "outputs": [
    {
     "name": "stdout",
     "output_type": "stream",
     "text": [
      "neįvestas\n",
      "Petras\n"
     ]
    }
   ],
   "source": [
    "# Prie ankstesnės klasės pridėkite metodus, skirtus išvesti\n",
    "# atributo reikšmę, pakeisti atributo reikšmę. patikrinkite, ar jie\n",
    "# veikia.\n",
    "\n",
    "class Vartotojas() :\n",
    "    vardas = \"neįvestas\"\n",
    "\n",
    "    # Seteriai (Setters)\n",
    "    def set_vardas(self, naujasVardas) :\n",
    "        self.vardas = naujasVardas\n",
    "\n",
    "    # Geteriai (Getters)\n",
    "    def get_vardas(self) :\n",
    "        return self.vardas\n",
    "    \n",
    "\n",
    "vartotojas = Vartotojas()\n",
    "\n",
    "# Vardo savybės susigrąžinimas\n",
    "print(vartotojas.get_vardas())\n",
    "\n",
    "# Vardo savybės keitimas\n",
    "vartotojas.set_vardas(\"Petras\")\n",
    "\n",
    "# Pakeistos reikšmės susigrąžinimas\n",
    "print(vartotojas.get_vardas())"
   ]
  }
 ],
 "metadata": {
  "kernelspec": {
   "display_name": "Python 3",
   "language": "python",
   "name": "python3"
  },
  "language_info": {
   "codemirror_mode": {
    "name": "ipython",
    "version": 3
   },
   "file_extension": ".py",
   "mimetype": "text/x-python",
   "name": "python",
   "nbconvert_exporter": "python",
   "pygments_lexer": "ipython3",
   "version": "3.13.0"
  }
 },
 "nbformat": 4,
 "nbformat_minor": 2
}
