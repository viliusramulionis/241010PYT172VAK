{
 "cells": [
  {
   "cell_type": "code",
   "execution_count": 2,
   "metadata": {},
   "outputs": [
    {
     "name": "stdout",
     "output_type": "stream",
     "text": [
      "Viso\n"
     ]
    }
   ],
   "source": [
    "# kintamasis = \"Labas\"\n",
    "\n",
    "if 10 == 10 :\n",
    "    kintamasis = \"Viso\"\n",
    "\n",
    "print(kintamasis)"
   ]
  },
  {
   "cell_type": "code",
   "execution_count": 7,
   "metadata": {},
   "outputs": [
    {
     "name": "stdout",
     "output_type": "stream",
     "text": [
      "Neperduoti jokie argumentai\n"
     ]
    }
   ],
   "source": [
    "zinute = \"\"\n",
    "\n",
    "def kitaFunkcija() :\n",
    "    global zinute\n",
    "    \n",
    "    zinute = \"Neperduoti jokie argumentai\"\n",
    "\n",
    "\n",
    "kitaFunkcija()\n",
    "print(zinute)"
   ]
  },
  {
   "cell_type": "code",
   "execution_count": 8,
   "metadata": {},
   "outputs": [
    {
     "name": "stdout",
     "output_type": "stream",
     "text": [
      "\n"
     ]
    }
   ],
   "source": [
    "zinute = \"\"\n",
    "\n",
    "def kitaFunkcija() :\n",
    "    zinute = \"Neperduoti jokie argumentai\"\n",
    "\n",
    "print(zinute)"
   ]
  },
  {
   "cell_type": "code",
   "execution_count": 3,
   "metadata": {},
   "outputs": [
    {
     "name": "stdout",
     "output_type": "stream",
     "text": [
      "Viso\n"
     ]
    }
   ],
   "source": [
    "def funkcija() :\n",
    "    kintamasis = \"Labas\"\n",
    "\n",
    "print(kintamasis)"
   ]
  },
  {
   "cell_type": "code",
   "execution_count": 2,
   "metadata": {},
   "outputs": [
    {
     "name": "stdout",
     "output_type": "stream",
     "text": [
      "Neperduoti jokie argumentai\n"
     ]
    }
   ],
   "source": [
    "def kitaFunkcija() :\n",
    "    return \"Neperduoti jokie argumentai\"\n",
    "\n",
    "zinute = kitaFunkcija()\n",
    "print(zinute)\n"
   ]
  },
  {
   "cell_type": "code",
   "execution_count": 1,
   "metadata": {},
   "outputs": [
    {
     "name": "stdout",
     "output_type": "stream",
     "text": [
      "Konfiguracijos paleidimas\n",
      "Duomenu struktura\n",
      "PINAS gautas 1234\n",
      "Prijungiamas duombazes serveris\n",
      "Prijungiami modeliai\n",
      "Prijungiamas routeris\n"
     ]
    }
   ],
   "source": [
    "def konfiguracija():\n",
    "    print(\"Konfiguracijos paleidimas\")\n",
    "\n",
    "def duomenuStruktura():\n",
    "    print(\"Duomenu struktura\")\n",
    "    duomenuBazesServeris()\n",
    "    modeliuStruktura()\n",
    "\n",
    "def routerioPrijungimas():\n",
    "    print(\"Prijungiamas routeris\")\n",
    "\n",
    "def duomenuBazesServeris() :\n",
    "    global pin\n",
    "    print(\"PINAS gautas\", pin)\n",
    "    print('Prijungiamas duombazes serveris')\n",
    "\n",
    "def modeliuStruktura() :\n",
    "    print(\"Prijungiami modeliai\")\n",
    "\n",
    "pin = \"1234\"\n",
    "\n",
    "def serveris() :\n",
    "    # Serverio paleidimas\n",
    "    konfiguracija()\n",
    "    duomenuStruktura()\n",
    "    routerioPrijungimas()\n",
    "\n",
    "serveris()"
   ]
  },
  {
   "cell_type": "code",
   "execution_count": 15,
   "metadata": {},
   "outputs": [
    {
     "name": "stdout",
     "output_type": "stream",
     "text": [
      "Viso gero Pasauli\n",
      "Labas Pasauli\n"
     ]
    }
   ],
   "source": [
    "def funkcija() :\n",
    "    antraFunkcija()\n",
    "    print(\"Labas Pasauli\")\n",
    "\n",
    "def antraFunkcija() :\n",
    "    print(\"Viso gero Pasauli\")\n",
    "\n",
    "\n",
    "funkcija()"
   ]
  },
  {
   "cell_type": "code",
   "execution_count": 28,
   "metadata": {},
   "outputs": [
    {
     "data": {
      "text/plain": [
       "99"
      ]
     },
     "execution_count": 28,
     "metadata": {},
     "output_type": "execute_result"
    }
   ],
   "source": [
    "# max(15, 20, 16, 85)\n",
    "\n",
    "\n",
    "def didziausias(*skaiciai) :\n",
    "    max = 0\n",
    "    for skaicius in skaiciai :\n",
    "        if skaicius > max :\n",
    "            max = skaicius\n",
    "\n",
    "    return max\n",
    "\n",
    "didziausias(15, 99, 0, 16, 88)\n"
   ]
  },
  {
   "cell_type": "code",
   "execution_count": 30,
   "metadata": {},
   "outputs": [
    {
     "data": {
      "text/plain": [
       "'Sveiki, Jonas Jonaitis, Jums perduoda linkėjimus jūsų giminaičiai Gediminas, Aloyzas, Giedrė, Matas'"
      ]
     },
     "execution_count": 30,
     "metadata": {},
     "output_type": "execute_result"
    }
   ],
   "source": [
    "def pasisveikinimas(vardas, pavarde, *giminaiciai) :\n",
    "    return f\"Sveiki, {vardas} {pavarde}, Jums perduoda linkėjimus jūsų giminaičiai {\", \".join(giminaiciai)}\"\n",
    "\n",
    "pasisveikinimas(\"Jonas\", \"Jonaitis\", \"Gediminas\", \"Aloyzas\", \"Giedrė\", \"Matas\")"
   ]
  },
  {
   "cell_type": "code",
   "execution_count": 32,
   "metadata": {},
   "outputs": [
    {
     "data": {
      "text/plain": [
       "'Sveiki, Gintarė Gintarytė, Jums perduoda linkėjimus jūsų giminaičiai giminaiciai, giminaiciai2, giminaiciai3'"
      ]
     },
     "execution_count": 32,
     "metadata": {},
     "output_type": "execute_result"
    }
   ],
   "source": [
    "def pasisveikinimas(vardas, pavarde, **giminaiciai) :\n",
    "    return f\"Sveiki, {vardas} {pavarde}, Jums perduoda linkėjimus jūsų giminaičiai {\", \".join(giminaiciai)}\"\n",
    "\n",
    "pasisveikinimas(\"Gintarė\", \"Gintarytė\", giminaiciai = \"Giedrius\", giminaiciai2 = \"Antanas\", giminaiciai3 = \"Ieva\")"
   ]
  }
 ],
 "metadata": {
  "kernelspec": {
   "display_name": "Python 3",
   "language": "python",
   "name": "python3"
  },
  "language_info": {
   "codemirror_mode": {
    "name": "ipython",
    "version": 3
   },
   "file_extension": ".py",
   "mimetype": "text/x-python",
   "name": "python",
   "nbconvert_exporter": "python",
   "pygments_lexer": "ipython3",
   "version": "3.13.0"
  }
 },
 "nbformat": 4,
 "nbformat_minor": 2
}
