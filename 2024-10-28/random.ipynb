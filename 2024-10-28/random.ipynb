{
 "cells": [
  {
   "cell_type": "code",
   "execution_count": 2,
   "metadata": {},
   "outputs": [
    {
     "name": "stdout",
     "output_type": "stream",
     "text": [
      "14\n"
     ]
    }
   ],
   "source": [
    "import random\n",
    "\n",
    "print(random.randint(0, 50))"
   ]
  },
  {
   "cell_type": "code",
   "execution_count": 11,
   "metadata": {},
   "outputs": [
    {
     "name": "stdout",
     "output_type": "stream",
     "text": [
      "48 20 14 2 16 100 57 56 57 98 32 51 13 17 31 36 64 37 1 88 75 68 44 73 21 63 100 22 1 23 85 66 71 61 97 66 37 18 66 39 33 0 66 80 87 89 54 1 45 33 31 50 14 6 36 22 2 91 4 78 32 22 28 50 88 72 62 97 36 67 91 22 25 62 26 26 17 85 58 4 52 48 16 8 47 91 27 72\n"
     ]
    }
   ],
   "source": [
    "import random\n",
    "\n",
    "# Sugeneruokite 88 atsitiktinius skaičius nuo 0 iki 100 ir atspausdinkite juos vienoje eilutėje. Skaičiai turi būti atskirti tarpais. \n",
    "\n",
    "rezultatas = []\n",
    "\n",
    "for x in range(88) :\n",
    "    rezultatas.append(str(random.randint(0, 100)))\n",
    "\n",
    "print(\" \".join(rezultatas))"
   ]
  }
 ],
 "metadata": {
  "kernelspec": {
   "display_name": "Python 3",
   "language": "python",
   "name": "python3"
  },
  "language_info": {
   "codemirror_mode": {
    "name": "ipython",
    "version": 3
   },
   "file_extension": ".py",
   "mimetype": "text/x-python",
   "name": "python",
   "nbconvert_exporter": "python",
   "pygments_lexer": "ipython3",
   "version": "3.13.0"
  }
 },
 "nbformat": 4,
 "nbformat_minor": 2
}
