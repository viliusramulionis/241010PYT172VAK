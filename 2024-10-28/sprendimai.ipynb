{
 "cells": [
  {
   "cell_type": "code",
   "execution_count": null,
   "metadata": {},
   "outputs": [],
   "source": [
    "tekstas = \"Aš rytais mėgstu kavą su sumuštiniais ir arbatą\"\n",
    "\n",
    "# Išveskite po vieną simbolį iš teksto. Šalia nurodykite ir\n",
    "# simbolio poziciją (indeksą) tekste.\n",
    "\n",
    "for indeksas, reiksme in enumerate(tekstas) :\n",
    "    print(reiksme, indeksas)"
   ]
  },
  {
   "cell_type": "code",
   "execution_count": null,
   "metadata": {},
   "outputs": [],
   "source": [
    "tekstas = \"Aš rytais mėgstu kavą su sumuštiniais ir arbatą\"\n",
    "\n",
    "# Išvesdami simbolį, spausdinkite jį viršutiniame registre, jei jis\n",
    "# yra lyginėje pozicijoje. Kitu atveju - žemutiniame registre.\n",
    "\n",
    "\n",
    "# for indeksas, reiksme in enumerate(tekstas) :\n",
    "#     if reiksme != \" \" :\n",
    "#         if indeksas % 2 == 0 :\n",
    "#             print(reiksme.upper())\n",
    "#         else :\n",
    "#             print(reiksme.lower())\n",
    "\n",
    "\n",
    "for indeksas, reiksme in enumerate(tekstas) :\n",
    "    if reiksme == \" \" :\n",
    "        continue\n",
    "\n",
    "    if indeksas % 2 == 0 :\n",
    "        print(reiksme.upper())\n",
    "    else :\n",
    "        print(reiksme.lower())"
   ]
  },
  {
   "cell_type": "code",
   "execution_count": null,
   "metadata": {},
   "outputs": [],
   "source": [
    "tekstas = \"Aš rytais mėgstu kavą su sumuštiniais ir arbatą\"\n",
    "\n",
    "# Išveskite po vieną žodį.\n",
    "\n",
    "for zodis in tekstas.split() : \n",
    "    print(zodis)\n"
   ]
  },
  {
   "cell_type": "code",
   "execution_count": null,
   "metadata": {},
   "outputs": [],
   "source": [
    "tekstas = \"Aš rytais mėgstu kavą su sumuštiniais ir arbatą\"\n",
    "\n",
    "# Išveskite tik tuos žodžius, kurie yra ilgesni nei nurodytas\n",
    "# simbolių kiekis, ir savyje turi nurodytą tekstą. Ilgį ir tekstą\n",
    "# nurodo vartotojas.\n",
    "\n",
    "ilgis = int(input(\"Nurodykite ieškomų žodžių ilgį: \"))\n",
    "ieskoma = input(\"Ieškomas tekstas: \")\n",
    "\n",
    "for zodis in tekstas.split() :\n",
    "    if len(zodis) > ilgis and ieskoma.lower() in zodis.lower():\n",
    "        print(zodis)\n",
    "    else : \n",
    "        print(\"Pagal kriterijus žodžių nerasta\")\n",
    "\n"
   ]
  },
  {
   "cell_type": "code",
   "execution_count": null,
   "metadata": {},
   "outputs": [],
   "source": [
    "tekstas = \"Aš rytais mėgstu kavą su sumuštiniais ir arbatą\"\n",
    "\n",
    "# Išveskite tekstą (visą vienu metu), kuriame būtų kas antras žodis parašytas didžiosiomis raidėmis.\n",
    "\n",
    "# Aš RYTAIS mėgstu KAVĄ su SUMUŠTINIAIS ir ARBATĄ\n",
    "\n",
    "# rezultatas = []\n",
    "\n",
    "# for indeksas, zodis in enumerate(tekstas.split()) :\n",
    "#     if indeksas % 2 != 0 :\n",
    "#         rezultatas.append(zodis.upper())\n",
    "#     else :\n",
    "#         rezultatas.append(zodis)\n",
    "\n",
    "# \" \".join(rezultatas)\n",
    "\n",
    "rezultatas = \"\"\n",
    "\n",
    "for indeksas, zodis in enumerate(tekstas.split()) :\n",
    "    if indeksas % 2 != 0 :\n",
    "        rezultatas += zodis.upper() + \" \"\n",
    "    else :\n",
    "        rezultatas += zodis + \" \"\n",
    "\n",
    "print(rezultatas)"
   ]
  },
  {
   "cell_type": "code",
   "execution_count": 75,
   "metadata": {},
   "outputs": [
    {
     "name": "stdout",
     "output_type": "stream",
     "text": [
      "0 1 -2\n",
      "1 1 -1\n",
      "2 1 0\n",
      "3 1 -2\n",
      "4 1 -1\n",
      "5 1 0\n",
      "6 1 -2\n",
      "7 1 -1\n",
      "8 1 0\n",
      "9 1 -2\n",
      "10 1 -1\n",
      "11 1 0\n",
      "12 1 -2\n",
      "13 1 -1\n",
      "14 1 0\n",
      "15 1 -2\n",
      "16 1 -1\n",
      "17 1 0\n",
      "18 1 -2\n",
      "19 1 -1\n",
      "20 1 0\n",
      "21 1 -2\n",
      "22 1 -1\n",
      "23 1 0\n",
      "24 1 -2\n",
      "25 1 -1\n",
      "26 1 0\n",
      "27 1 -2\n",
      "28 1 -1\n",
      "29 1 0\n",
      "30 1 -2\n",
      "31 1 -1\n",
      "32 1 0\n",
      "33 1 -2\n",
      "34 1 -1\n",
      "35 1 0\n",
      "36 1 -2\n",
      "37 1 -1\n",
      "38 1 0\n",
      "39 1 -2\n",
      "40 1 -1\n",
      "41 1 0\n",
      "42 1 -2\n",
      "43 1 -1\n",
      "44 1 0\n",
      "45 1 -2\n",
      "46 1 -1\n",
      "aš ryTaiS mĖgsTu KavĄ sU sUmuŠtiNiaIs Ir ArbAtą\n"
     ]
    }
   ],
   "source": [
    "# Išveskite tekstą su kas 𝑛-tuoju simboliu viršutiniame registre. 𝑛 įveda vartotojas.\n",
    "\n",
    "tekstas = \"Aš rytais mėgstu kavą su sumuštiniais ir arbatą\"\n",
    "\n",
    "n = 3\n",
    "\n",
    "rezultatas = []\n",
    "\n",
    "for indeksas, simbolis in enumerate(tekstas) :\n",
    "    \n",
    "    if indeksas % n - 2 == 0 :\n",
    "        rezultatas.append(simbolis.upper())\n",
    "    else :\n",
    "        rezultatas.append(simbolis.lower())\n",
    "\n",
    "print(\"\".join(rezultatas))\n"
   ]
  }
 ],
 "metadata": {
  "kernelspec": {
   "display_name": "Python 3",
   "language": "python",
   "name": "python3"
  },
  "language_info": {
   "codemirror_mode": {
    "name": "ipython",
    "version": 3
   },
   "file_extension": ".py",
   "mimetype": "text/x-python",
   "name": "python",
   "nbconvert_exporter": "python",
   "pygments_lexer": "ipython3",
   "version": "3.13.0"
  }
 },
 "nbformat": 4,
 "nbformat_minor": 2
}
