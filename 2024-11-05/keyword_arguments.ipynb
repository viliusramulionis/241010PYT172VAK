{
 "cells": [
  {
   "cell_type": "code",
   "execution_count": 9,
   "metadata": {},
   "outputs": [
    {
     "name": "stdout",
     "output_type": "stream",
     "text": [
      "Jonas\n",
      "Jonaitis\n",
      "('Begiojimas', 'Plaukimas')\n",
      "{}\n",
      "Jonas\n",
      "Jonaitis\n",
      "('Begiojimas', 'Plaukimas')\n",
      "{'gimtadienis': '1981-12-31'}\n"
     ]
    }
   ],
   "source": [
    "def funkcija(vardas, pavarde, *pomegiai, **asmenine_informacija) :\n",
    "    print(vardas)\n",
    "    print(pavarde)\n",
    "    print(pomegiai)\n",
    "    print(asmenine_informacija)\n",
    "\n",
    "funkcija(\"Jonas\", \"Jonaitis\", \"Begiojimas\", \"Plaukimas\")\n",
    "funkcija(\"Jonas\", \"Jonaitis\", \"Begiojimas\", \"Plaukimas\", gimtadienis=\"1981-12-31\")\n",
    "\n"
   ]
  },
  {
   "cell_type": "code",
   "execution_count": null,
   "metadata": {},
   "outputs": [
    {
     "name": "stdout",
     "output_type": "stream",
     "text": [
      "Sveiki gyvi mielas (-a) Jonas\n",
      "Sveiki gyvi mielas (-a) Martynas\n",
      "Sveiki gyvi mielas (-a) Aleksandaras Makedonietis\n"
     ]
    }
   ],
   "source": [
    "def funkcija(vardas = \"Vilius\", **papildomai) :\n",
    "    if \"pavarde\" in papildomai.keys(): \n",
    "        return f\"Sveiki gyvi mielas (-a) {vardas} {papildomai['pavarde']}\"\n",
    "    else :\n",
    "        return f\"Sveiki gyvi mielas (-a) {vardas}\"\n",
    "\n",
    "print(funkcija(\"Jonas\"))\n",
    "print(funkcija(\"Martynas\"))\n",
    "print(funkcija(\"Aleksandaras\", pavarde=\"Makedonietis\"))"
   ]
  }
 ],
 "metadata": {
  "kernelspec": {
   "display_name": "Python 3",
   "language": "python",
   "name": "python3"
  },
  "language_info": {
   "codemirror_mode": {
    "name": "ipython",
    "version": 3
   },
   "file_extension": ".py",
   "mimetype": "text/x-python",
   "name": "python",
   "nbconvert_exporter": "python",
   "pygments_lexer": "ipython3",
   "version": "3.13.0"
  }
 },
 "nbformat": 4,
 "nbformat_minor": 2
}
