{
 "cells": [
  {
   "cell_type": "code",
   "execution_count": 7,
   "metadata": {},
   "outputs": [
    {
     "ename": "AssertionError",
     "evalue": "Testas nepavyko",
     "output_type": "error",
     "traceback": [
      "\u001b[1;31m---------------------------------------------------------------------------\u001b[0m",
      "\u001b[1;31mAssertionError\u001b[0m                            Traceback (most recent call last)",
      "Cell \u001b[1;32mIn[7], line 3\u001b[0m\n\u001b[0;32m      1\u001b[0m zinute \u001b[38;5;241m=\u001b[39m \u001b[38;5;124m\"\u001b[39m\u001b[38;5;124mJūsų įrašas sėkmingai išsaugotas\u001b[39m\u001b[38;5;124m\"\u001b[39m\n\u001b[1;32m----> 3\u001b[0m \u001b[38;5;28;01massert\u001b[39;00m \u001b[38;5;28;01mFalse\u001b[39;00m, \u001b[38;5;124m\"\u001b[39m\u001b[38;5;124mTestas nepavyko\u001b[39m\u001b[38;5;124m\"\u001b[39m\n",
      "\u001b[1;31mAssertionError\u001b[0m: Testas nepavyko"
     ]
    }
   ],
   "source": [
    "zinute = \"Jūsų įrašas sėkmingai išsaugotas\"\n",
    "\n",
    "assert False, \"Testas nepavyko\""
   ]
  },
  {
   "cell_type": "code",
   "execution_count": null,
   "metadata": {},
   "outputs": [
    {
     "ename": "AssertionError",
     "evalue": "Matmenys turi būti teigiami",
     "output_type": "error",
     "traceback": [
      "\u001b[1;31m---------------------------------------------------------------------------\u001b[0m",
      "\u001b[1;31mAssertionError\u001b[0m                            Traceback (most recent call last)",
      "Cell \u001b[1;32mIn[9], line 7\u001b[0m\n\u001b[0;32m      2\u001b[0m     \u001b[38;5;28;01massert\u001b[39;00m length \u001b[38;5;241m>\u001b[39m \u001b[38;5;241m0\u001b[39m \u001b[38;5;129;01mand\u001b[39;00m width \u001b[38;5;241m>\u001b[39m \u001b[38;5;241m0\u001b[39m, \u001b[38;5;124m'\u001b[39m\u001b[38;5;124mMatmenys turi būti teigiami\u001b[39m\u001b[38;5;124m'\u001b[39m\n\u001b[0;32m      4\u001b[0m     \u001b[38;5;28;01mreturn\u001b[39;00m length\u001b[38;5;241m*\u001b[39mwidth\n\u001b[1;32m----> 7\u001b[0m \u001b[38;5;28mprint\u001b[39m(\u001b[43marea\u001b[49m\u001b[43m(\u001b[49m\u001b[38;5;241;43m-\u001b[39;49m\u001b[38;5;241;43m5\u001b[39;49m\u001b[43m,\u001b[49m\u001b[38;5;241;43m6\u001b[39;49m\u001b[43m)\u001b[49m)\n\u001b[0;32m      8\u001b[0m \u001b[38;5;28mprint\u001b[39m(area(\u001b[38;5;241m5\u001b[39m,\u001b[38;5;241m6\u001b[39m))\n",
      "Cell \u001b[1;32mIn[9], line 2\u001b[0m, in \u001b[0;36marea\u001b[1;34m(length, width)\u001b[0m\n\u001b[0;32m      1\u001b[0m \u001b[38;5;28;01mdef\u001b[39;00m \u001b[38;5;21marea\u001b[39m(length, width):\n\u001b[1;32m----> 2\u001b[0m     \u001b[38;5;28;01massert\u001b[39;00m length \u001b[38;5;241m>\u001b[39m \u001b[38;5;241m0\u001b[39m \u001b[38;5;129;01mand\u001b[39;00m width \u001b[38;5;241m>\u001b[39m \u001b[38;5;241m0\u001b[39m, \u001b[38;5;124m'\u001b[39m\u001b[38;5;124mMatmenys turi būti teigiami\u001b[39m\u001b[38;5;124m'\u001b[39m\n\u001b[0;32m      4\u001b[0m     \u001b[38;5;28;01mreturn\u001b[39;00m length\u001b[38;5;241m*\u001b[39mwidth\n",
      "\u001b[1;31mAssertionError\u001b[0m: Matmenys turi būti teigiami"
     ]
    }
   ],
   "source": [
    "def area(length, width):\n",
    "    assert length > 0 and width > 0, 'Matmenys turi būti teigiami'\n",
    "    \n",
    "    return length*width\n",
    "\n",
    "\n",
    "print(area(-5,6))\n",
    "\n",
    "print(area(5,6))\n",
    "\n"
   ]
  },
  {
   "cell_type": "code",
   "execution_count": null,
   "metadata": {},
   "outputs": [],
   "source": [
    "# Pirma dalis: Aprašykite funkciją kuri patikrinintų duomenis ir grąžintų visų produktų kainos sumą, bei įvertinimo vidurkį.\n",
    "\n",
    "# Antra dalis, iš vieno iš produktų žodyno pašalinkite kainos raktažodį su reikšme. Modifikuokite funkciją, jog iš išmestų klaidą (assert), jeigu prie duomenų truksta bent vienos nurodytos kainos.\n",
    "\n",
    "duomenys = [\n",
    "    {\n",
    "        \"pavadinimas\": \"3-jų lentynų komplektas Tobi 3P, baltas\",\n",
    "        \"kaina\": 49.41,\n",
    "        \"ivertinimas\": 3.7\n",
    "    },\n",
    "    {\n",
    "        \"pavadinimas\": \"Pakabinama sieninė lentyna Bilbao 4P, balta matinė\",\n",
    "        \"kaina\": 508.22,\n",
    "        \"ivertinimas\": 4.8\n",
    "    },\n",
    "    {\n",
    "        \"pavadinimas\": \"Lentyna R60, balta\",\n",
    "        \"kaina\": 47.41,\n",
    "        \"ivertinimas\": 2.5\n",
    "    }\n",
    "]"
   ]
  }
 ],
 "metadata": {
  "kernelspec": {
   "display_name": "Python 3",
   "language": "python",
   "name": "python3"
  },
  "language_info": {
   "codemirror_mode": {
    "name": "ipython",
    "version": 3
   },
   "file_extension": ".py",
   "mimetype": "text/x-python",
   "name": "python",
   "nbconvert_exporter": "python",
   "pygments_lexer": "ipython3",
   "version": "3.13.0"
  }
 },
 "nbformat": 4,
 "nbformat_minor": 2
}
