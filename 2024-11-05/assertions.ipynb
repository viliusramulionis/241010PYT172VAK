{
 "cells": [
  {
   "cell_type": "code",
   "execution_count": 7,
   "metadata": {},
   "outputs": [
    {
     "ename": "AssertionError",
     "evalue": "Testas nepavyko",
     "output_type": "error",
     "traceback": [
      "\u001b[1;31m---------------------------------------------------------------------------\u001b[0m",
      "\u001b[1;31mAssertionError\u001b[0m                            Traceback (most recent call last)",
      "Cell \u001b[1;32mIn[7], line 3\u001b[0m\n\u001b[0;32m      1\u001b[0m zinute \u001b[38;5;241m=\u001b[39m \u001b[38;5;124m\"\u001b[39m\u001b[38;5;124mJūsų įrašas sėkmingai išsaugotas\u001b[39m\u001b[38;5;124m\"\u001b[39m\n\u001b[1;32m----> 3\u001b[0m \u001b[38;5;28;01massert\u001b[39;00m \u001b[38;5;28;01mFalse\u001b[39;00m, \u001b[38;5;124m\"\u001b[39m\u001b[38;5;124mTestas nepavyko\u001b[39m\u001b[38;5;124m\"\u001b[39m\n",
      "\u001b[1;31mAssertionError\u001b[0m: Testas nepavyko"
     ]
    }
   ],
   "source": [
    "zinute = \"Jūsų įrašas sėkmingai išsaugotas\"\n",
    "\n",
    "assert False, \"Testas nepavyko\""
   ]
  },
  {
   "cell_type": "code",
   "execution_count": null,
   "metadata": {},
   "outputs": [
    {
     "ename": "AssertionError",
     "evalue": "Matmenys turi būti teigiami",
     "output_type": "error",
     "traceback": [
      "\u001b[1;31m---------------------------------------------------------------------------\u001b[0m",
      "\u001b[1;31mAssertionError\u001b[0m                            Traceback (most recent call last)",
      "Cell \u001b[1;32mIn[9], line 7\u001b[0m\n\u001b[0;32m      2\u001b[0m     \u001b[38;5;28;01massert\u001b[39;00m length \u001b[38;5;241m>\u001b[39m \u001b[38;5;241m0\u001b[39m \u001b[38;5;129;01mand\u001b[39;00m width \u001b[38;5;241m>\u001b[39m \u001b[38;5;241m0\u001b[39m, \u001b[38;5;124m'\u001b[39m\u001b[38;5;124mMatmenys turi būti teigiami\u001b[39m\u001b[38;5;124m'\u001b[39m\n\u001b[0;32m      4\u001b[0m     \u001b[38;5;28;01mreturn\u001b[39;00m length\u001b[38;5;241m*\u001b[39mwidth\n\u001b[1;32m----> 7\u001b[0m \u001b[38;5;28mprint\u001b[39m(\u001b[43marea\u001b[49m\u001b[43m(\u001b[49m\u001b[38;5;241;43m-\u001b[39;49m\u001b[38;5;241;43m5\u001b[39;49m\u001b[43m,\u001b[49m\u001b[38;5;241;43m6\u001b[39;49m\u001b[43m)\u001b[49m)\n\u001b[0;32m      8\u001b[0m \u001b[38;5;28mprint\u001b[39m(area(\u001b[38;5;241m5\u001b[39m,\u001b[38;5;241m6\u001b[39m))\n",
      "Cell \u001b[1;32mIn[9], line 2\u001b[0m, in \u001b[0;36marea\u001b[1;34m(length, width)\u001b[0m\n\u001b[0;32m      1\u001b[0m \u001b[38;5;28;01mdef\u001b[39;00m \u001b[38;5;21marea\u001b[39m(length, width):\n\u001b[1;32m----> 2\u001b[0m     \u001b[38;5;28;01massert\u001b[39;00m length \u001b[38;5;241m>\u001b[39m \u001b[38;5;241m0\u001b[39m \u001b[38;5;129;01mand\u001b[39;00m width \u001b[38;5;241m>\u001b[39m \u001b[38;5;241m0\u001b[39m, \u001b[38;5;124m'\u001b[39m\u001b[38;5;124mMatmenys turi būti teigiami\u001b[39m\u001b[38;5;124m'\u001b[39m\n\u001b[0;32m      4\u001b[0m     \u001b[38;5;28;01mreturn\u001b[39;00m length\u001b[38;5;241m*\u001b[39mwidth\n",
      "\u001b[1;31mAssertionError\u001b[0m: Matmenys turi būti teigiami"
     ]
    }
   ],
   "source": [
    "def area(length, width):\n",
    "    assert length > 0 and width > 0, 'Matmenys turi būti teigiami'\n",
    "    \n",
    "    return length*width\n",
    "\n",
    "\n",
    "print(area(-5,6))\n",
    "\n",
    "print(area(5,6))\n",
    "\n"
   ]
  },
  {
   "cell_type": "code",
   "execution_count": null,
   "metadata": {},
   "outputs": [
    {
     "name": "stdout",
     "output_type": "stream",
     "text": [
      "Kaina yra patalpinta\n",
      "Kaina yra patalpinta\n",
      "Kaina yra patalpinta\n",
      "(605.04, 3.6666666666666665)\n",
      "Kaina yra patalpinta\n"
     ]
    },
    {
     "ename": "AssertionError",
     "evalue": "Produktas neturi kainos",
     "output_type": "error",
     "traceback": [
      "\u001b[1;31m---------------------------------------------------------------------------\u001b[0m",
      "\u001b[1;31mAssertionError\u001b[0m                            Traceback (most recent call last)",
      "Cell \u001b[1;32mIn[12], line 59\u001b[0m\n\u001b[0;32m     56\u001b[0m     \u001b[38;5;28;01mreturn\u001b[39;00m suma, ivertinimas \u001b[38;5;241m/\u001b[39m \u001b[38;5;28mlen\u001b[39m(data)\n\u001b[0;32m     58\u001b[0m \u001b[38;5;28mprint\u001b[39m(processData(duomenys))\n\u001b[1;32m---> 59\u001b[0m \u001b[38;5;28mprint\u001b[39m(\u001b[43mprocessData\u001b[49m\u001b[43m(\u001b[49m\u001b[43mduomenys2\u001b[49m\u001b[43m)\u001b[49m)\n",
      "Cell \u001b[1;32mIn[12], line 49\u001b[0m, in \u001b[0;36mprocessData\u001b[1;34m(data)\u001b[0m\n\u001b[0;32m     47\u001b[0m     \u001b[38;5;28mprint\u001b[39m(\u001b[38;5;124m\"\u001b[39m\u001b[38;5;124mKaina yra patalpinta\u001b[39m\u001b[38;5;124m\"\u001b[39m)\n\u001b[0;32m     48\u001b[0m \u001b[38;5;28;01melse\u001b[39;00m : \n\u001b[1;32m---> 49\u001b[0m     \u001b[38;5;28;01mraise\u001b[39;00m \u001b[38;5;167;01mAssertionError\u001b[39;00m(\u001b[38;5;124m\"\u001b[39m\u001b[38;5;124mProduktas neturi kainos\u001b[39m\u001b[38;5;124m\"\u001b[39m)\n\u001b[0;32m     51\u001b[0m \u001b[38;5;66;03m# assert \"kaina\" in product.keys(), \"Produktas neturi kainos\"\u001b[39;00m\n\u001b[0;32m     53\u001b[0m suma \u001b[38;5;241m+\u001b[39m\u001b[38;5;241m=\u001b[39m product[\u001b[38;5;124m'\u001b[39m\u001b[38;5;124mkaina\u001b[39m\u001b[38;5;124m'\u001b[39m]\n",
      "\u001b[1;31mAssertionError\u001b[0m: Produktas neturi kainos"
     ]
    }
   ],
   "source": [
    "# Pirma dalis: Aprašykite funkciją kuri patikrinintų duomenis ir grąžintų visų produktų kainos sumą, bei įvertinimo vidurkį.\n",
    "\n",
    "# Antra dalis, iš vieno iš produktų žodyno pašalinkite kainos raktažodį su reikšme. \n",
    "# Modifikuokite funkciją, jog iš išmestų klaidą (assert), jeigu prie duomenų truksta bent vienos nurodytos kainos.\n",
    "\n",
    "duomenys = [\n",
    "    {\n",
    "        \"pavadinimas\": \"3-jų lentynų komplektas Tobi 3P, baltas\",\n",
    "        \"kaina\": 49.41,\n",
    "        \"ivertinimas\": 3.7\n",
    "    },\n",
    "    {\n",
    "        \"pavadinimas\": \"Pakabinama sieninė lentyna Bilbao 4P, balta matinė\",\n",
    "        \"kaina\": 508.22,\n",
    "        \"ivertinimas\": 4.8\n",
    "    },\n",
    "    {\n",
    "        \"pavadinimas\": \"Lentyna R60, balta\",\n",
    "        \"kaina\": 47.41,\n",
    "        \"ivertinimas\": 2.5\n",
    "    }\n",
    "]\n",
    "\n",
    "duomenys2 = [\n",
    "    {\n",
    "        \"pavadinimas\": \"3-jų lentynų komplektas Tobi 3P, baltas\",\n",
    "        \"kaina\": 49.41,\n",
    "        \"ivertinimas\": 3.7\n",
    "    },\n",
    "    {\n",
    "        \"pavadinimas\": \"Pakabinama sieninė lentyna Bilbao 4P, balta matinė\",\n",
    "        \"ivertinimas\": 4.8\n",
    "    },\n",
    "    {\n",
    "        \"pavadinimas\": \"Lentyna R60, balta\",\n",
    "        \"kaina\": 47.41,\n",
    "        \"ivertinimas\": 2.5\n",
    "    }\n",
    "]\n",
    "\n",
    "def processData(data) :\n",
    "    suma = 0\n",
    "    ivertinimas = 0\n",
    "\n",
    "    for product in data :\n",
    "        # if \"kaina\" in product.keys() :\n",
    "        #     print(\"Kaina yra patalpinta\")\n",
    "        # else : \n",
    "        #     raise AssertionError(\"Produktas neturi kainos\")\n",
    "\n",
    "        assert \"kaina\" in product.keys(), \"Produktas neturi kainos\"\n",
    "\n",
    "        suma += product['kaina']\n",
    "        ivertinimas += product['ivertinimas']\n",
    "\n",
    "    return suma, ivertinimas / len(data)\n",
    "\n",
    "print(processData(duomenys))\n",
    "print(processData(duomenys2))"
   ]
  }
 ],
 "metadata": {
  "kernelspec": {
   "display_name": "Python 3",
   "language": "python",
   "name": "python3"
  },
  "language_info": {
   "codemirror_mode": {
    "name": "ipython",
    "version": 3
   },
   "file_extension": ".py",
   "mimetype": "text/x-python",
   "name": "python",
   "nbconvert_exporter": "python",
   "pygments_lexer": "ipython3",
   "version": "3.13.0"
  }
 },
 "nbformat": 4,
 "nbformat_minor": 2
}
