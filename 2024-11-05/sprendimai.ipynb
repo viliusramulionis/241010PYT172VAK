{
 "cells": [
  {
   "cell_type": "code",
   "execution_count": null,
   "metadata": {},
   "outputs": [
    {
     "name": "stdout",
     "output_type": "stream",
     "text": [
      "12.333333333333334\n"
     ]
    }
   ],
   "source": [
    "# Parašykite funkciją, kuri suskaičiuotų aritmetinį arba\n",
    "# geometrinį vidurkį iš pateiktų skaičių. Pateikiamų skaičių\n",
    "# kiekis neapibrėžtas. Panaudokite raktažodžius, kad\n",
    "# nurodytumėte, kokį vidurkį reikia apskaičiuoti.\n",
    "\n",
    "def vidurkis(*skaiciai) :\n",
    "    suma = sum(skaiciai)\n",
    "\n",
    "    return suma / len(skaiciai)\n",
    "\n",
    "print(vidurkis(3, 5, 8, 15, 25, 18))\n"
   ]
  },
  {
   "cell_type": "code",
   "execution_count": 18,
   "metadata": {},
   "outputs": [
    {
     "name": "stdout",
     "output_type": "stream",
     "text": [
      "1.4142135623730951\n"
     ]
    }
   ],
   "source": [
    "def geometrinisVidurkis(*skaiciai) :\n",
    "    suma = 1\n",
    "\n",
    "    for skaicius in skaiciai :\n",
    "        suma *= skaicius\n",
    "\n",
    "    return suma**(1/len(skaiciai))\n",
    "    \n",
    "\n",
    "print(geometrinisVidurkis(1, 2))"
   ]
  },
  {
   "cell_type": "code",
   "execution_count": null,
   "metadata": {},
   "outputs": [
    {
     "name": "stdout",
     "output_type": "stream",
     "text": [
      "1.4142135623730951\n"
     ]
    }
   ],
   "source": [
    "def vidurkis(tipas, *skaiciai) :\n",
    "    if tipas :\n",
    "        suma = sum(skaiciai)\n",
    "\n",
    "        return suma / len(skaiciai)\n",
    "    else :\n",
    "        suma = 1\n",
    "\n",
    "        for skaicius in skaiciai :\n",
    "            suma *= skaicius\n",
    "\n",
    "        return suma**(1/len(skaiciai))\n",
    "    \n",
    "artimetinis = vidurkis(True, 1, 2)\n",
    "geometrinis = vidurkis(False, 1, 2)"
   ]
  },
  {
   "cell_type": "code",
   "execution_count": null,
   "metadata": {},
   "outputs": [
    {
     "name": "stdout",
     "output_type": "stream",
     "text": [
      "1.5\n",
      "1.4142135623730951\n"
     ]
    }
   ],
   "source": [
    "def vidurkis(*skaiciai, **keys) :\n",
    "    if \"geometrinis\" in keys.keys() : \n",
    "        suma = sum(skaiciai)\n",
    "\n",
    "        return suma / len(skaiciai)\n",
    "    else :\n",
    "        suma = 1\n",
    "\n",
    "        for skaicius in skaiciai :\n",
    "            suma *= skaicius\n",
    "\n",
    "        return suma**(1/len(skaiciai))\n",
    "    \n",
    "artimetinis = vidurkis(1, 2, geometrinis = True)\n",
    "geometrinis = vidurkis(1, 2)\n",
    "\n",
    "print(artimetinis)\n",
    "print(geometrinis)"
   ]
  },
  {
   "cell_type": "code",
   "execution_count": null,
   "metadata": {},
   "outputs": [
    {
     "name": "stdout",
     "output_type": "stream",
     "text": [
      "[15, 14, 11, 24, 13, 15, 22, 19, 6, 12, 24, 25, 18, 9, 7, 15, 14, 7, 18, 21, 22, 25, 24, 19, 7, 17, 22, 17, 15, 16]\n"
     ]
    }
   ],
   "source": [
    "import random\n",
    "\n",
    "def skaiciuGeneravimas(ilgis) :\n",
    "    skaiciai = []\n",
    "\n",
    "    for indeksas in range(ilgis) :\n",
    "        skaiciai.append(random.randint(5, 25))\n",
    "\n",
    "    return skaiciai\n",
    "\n",
    "skaiciai = skaiciuGeneravimas(30)\n",
    "\n",
    "print(skaiciai)"
   ]
  }
 ],
 "metadata": {
  "kernelspec": {
   "display_name": "Python 3",
   "language": "python",
   "name": "python3"
  },
  "language_info": {
   "codemirror_mode": {
    "name": "ipython",
    "version": 3
   },
   "file_extension": ".py",
   "mimetype": "text/x-python",
   "name": "python",
   "nbconvert_exporter": "python",
   "pygments_lexer": "ipython3",
   "version": "3.13.0"
  }
 },
 "nbformat": 4,
 "nbformat_minor": 2
}
