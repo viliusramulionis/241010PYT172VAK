{
 "cells": [
  {
   "cell_type": "code",
   "execution_count": null,
   "metadata": {},
   "outputs": [
    {
     "name": "stdout",
     "output_type": "stream",
     "text": [
      "12.333333333333334\n"
     ]
    }
   ],
   "source": [
    "# Parašykite funkciją, kuri suskaičiuotų aritmetinį arba\n",
    "# geometrinį vidurkį iš pateiktų skaičių. Pateikiamų skaičių\n",
    "# kiekis neapibrėžtas. Panaudokite raktažodžius, kad\n",
    "# nurodytumėte, kokį vidurkį reikia apskaičiuoti.\n",
    "\n",
    "def vidurkis(*skaiciai) :\n",
    "    suma = sum(skaiciai)\n",
    "\n",
    "    return suma / len(skaiciai)\n",
    "\n",
    "print(vidurkis(3, 5, 8, 15, 25, 18))\n"
   ]
  },
  {
   "cell_type": "code",
   "execution_count": 18,
   "metadata": {},
   "outputs": [
    {
     "name": "stdout",
     "output_type": "stream",
     "text": [
      "1.4142135623730951\n"
     ]
    }
   ],
   "source": [
    "def geometrinisVidurkis(*skaiciai) :\n",
    "    suma = 1\n",
    "\n",
    "    for skaicius in skaiciai :\n",
    "        suma *= skaicius\n",
    "\n",
    "    return suma**(1/len(skaiciai))\n",
    "    \n",
    "\n",
    "print(geometrinisVidurkis(1, 2))"
   ]
  },
  {
   "cell_type": "code",
   "execution_count": null,
   "metadata": {},
   "outputs": [
    {
     "name": "stdout",
     "output_type": "stream",
     "text": [
      "1.4142135623730951\n"
     ]
    }
   ],
   "source": [
    "def vidurkis(tipas, *skaiciai) :\n",
    "    if tipas :\n",
    "        suma = sum(skaiciai)\n",
    "\n",
    "        return suma / len(skaiciai)\n",
    "    else :\n",
    "        suma = 1\n",
    "\n",
    "        for skaicius in skaiciai :\n",
    "            suma *= skaicius\n",
    "\n",
    "        return suma**(1/len(skaiciai))\n",
    "    \n",
    "artimetinis = vidurkis(True, 1, 2)\n",
    "geometrinis = vidurkis(False, 1, 2)"
   ]
  },
  {
   "cell_type": "code",
   "execution_count": null,
   "metadata": {},
   "outputs": [
    {
     "name": "stdout",
     "output_type": "stream",
     "text": [
      "1.5\n",
      "1.4142135623730951\n"
     ]
    }
   ],
   "source": [
    "def vidurkis(*skaiciai, **keys) :\n",
    "    if \"geometrinis\" in keys.keys() : \n",
    "        suma = sum(skaiciai)\n",
    "\n",
    "        return suma / len(skaiciai)\n",
    "    else :\n",
    "        suma = 1\n",
    "\n",
    "        for skaicius in skaiciai :\n",
    "            suma *= skaicius\n",
    "\n",
    "        return suma**(1/len(skaiciai))\n",
    "    \n",
    "artimetinis = vidurkis(1, 2, geometrinis = True)\n",
    "geometrinis = vidurkis(1, 2)\n",
    "\n",
    "print(artimetinis)\n",
    "print(geometrinis)"
   ]
  },
  {
   "cell_type": "code",
   "execution_count": 23,
   "metadata": {},
   "outputs": [
    {
     "name": "stdout",
     "output_type": "stream",
     "text": [
      "[9, 18, 14, 25, 24, 23, 8, 10, 5, 10, 5, 10, 19, 25, 18, 25, 14, 17, 13, 15, 17, 12, 12, 6, 14, 18, 16, 6, 23, 10]\n"
     ]
    }
   ],
   "source": [
    "import random\n",
    "\n",
    "def skaiciuGeneravimas(ilgis) :\n",
    "    skaiciai = []\n",
    "\n",
    "    for indeksas in range(ilgis) :\n",
    "        skaiciai.append(random.randint(5, 25))\n",
    "\n",
    "    return skaiciai\n",
    "\n",
    "sarasas = skaiciuGeneravimas(30)\n",
    "\n",
    "print(sarasas)\n",
    "# print(skaiciuGeneravimas(30))"
   ]
  },
  {
   "cell_type": "code",
   "execution_count": 20,
   "metadata": {},
   "outputs": [
    {
     "name": "stdout",
     "output_type": "stream",
     "text": [
      "5\n",
      "6\n"
     ]
    }
   ],
   "source": [
    "import random\n",
    "\n",
    "def randomSkaicius() :\n",
    "    skaicius = random.randint(5, 25)\n",
    "\n",
    "    return skaicius\n",
    "\n",
    "print(randomSkaicius())\n",
    "print(randomSkaicius())"
   ]
  },
  {
   "cell_type": "code",
   "execution_count": null,
   "metadata": {},
   "outputs": [
    {
     "name": "stdout",
     "output_type": "stream",
     "text": [
      "[24, 7, 21, 13, 10, 20, 15, 18, 10, 22, 7, 24, 17, 12, 17, 8, 9, 8, 10, 7, 15, 11, 7, 22, 25, 17, 20, 18, 24, 24]\n"
     ]
    },
    {
     "ename": "NameError",
     "evalue": "name 'skaiciai' is not defined",
     "output_type": "error",
     "traceback": [
      "\u001b[1;31m---------------------------------------------------------------------------\u001b[0m",
      "\u001b[1;31mNameError\u001b[0m                                 Traceback (most recent call last)",
      "Cell \u001b[1;32mIn[1], line 29\u001b[0m\n\u001b[0;32m     25\u001b[0m duomenys \u001b[38;5;241m=\u001b[39m skaiciuGeneravimas(\u001b[38;5;241m30\u001b[39m)\n\u001b[0;32m     27\u001b[0m \u001b[38;5;28mprint\u001b[39m(duomenys)\n\u001b[1;32m---> 29\u001b[0m \u001b[38;5;28mprint\u001b[39m(\u001b[43mskaiciai\u001b[49m)\n\u001b[0;32m     31\u001b[0m \u001b[38;5;28mprint\u001b[39m(\u001b[38;5;124m\"\u001b[39m\u001b[38;5;124mSkaičių didesnių nei dešimt yra:\u001b[39m\u001b[38;5;124m\"\u001b[39m, didesniNeiDesimt(duomenys))\n",
      "\u001b[1;31mNameError\u001b[0m: name 'skaiciai' is not defined"
     ]
    }
   ],
   "source": [
    "import random\n",
    "\n",
    "# Grąžina sąrašą su atsitiktiniais skaičiais\n",
    "def skaiciuGeneravimas(ilgis) :\n",
    "    skaiciai = []\n",
    "\n",
    "    for indeksas in range(ilgis) :\n",
    "        skaiciai.append(random.randint(5, 25))\n",
    "\n",
    "    return skaiciai\n",
    "\n",
    "\n",
    "# suskaičiuoja kiek sąraše yra skaičių didesniu nei dešimt\n",
    "def didesniNeiDesimt(skaiciai) :\n",
    "    skaiciuotuvas = 0\n",
    "\n",
    "    for skaicius in skaiciai :\n",
    "        if skaicius > 10 :\n",
    "            skaiciuotuvas += 1\n",
    "\n",
    "    return skaiciuotuvas\n",
    "\n",
    "duomenys = skaiciuGeneravimas(30)\n",
    "\n",
    "print(duomenys)\n",
    "\n",
    "print(\"Skaičių didesnių nei dešimt yra:\", didesniNeiDesimt(duomenys))"
   ]
  }
 ],
 "metadata": {
  "kernelspec": {
   "display_name": "Python 3",
   "language": "python",
   "name": "python3"
  },
  "language_info": {
   "codemirror_mode": {
    "name": "ipython",
    "version": 3
   },
   "file_extension": ".py",
   "mimetype": "text/x-python",
   "name": "python",
   "nbconvert_exporter": "python",
   "pygments_lexer": "ipython3",
   "version": "3.13.0"
  }
 },
 "nbformat": 4,
 "nbformat_minor": 2
}
