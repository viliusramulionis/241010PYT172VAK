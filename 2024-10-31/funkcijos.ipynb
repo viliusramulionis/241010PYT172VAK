{
 "cells": [
  {
   "cell_type": "code",
   "execution_count": null,
   "metadata": {},
   "outputs": [
    {
     "name": "stdout",
     "output_type": "stream",
     "text": [
      "Stringas yra tuščias\n",
      "Stringas yra tuščias\n",
      "Laisves al 18\n"
     ]
    }
   ],
   "source": [
    "# DRY - Don't repeat yourself\n",
    "\n",
    "vardas = \"\"\n",
    "\n",
    "if len(vardas) == 0 :\n",
    "    print(\"Stringas yra tuščias\")\n",
    "else : \n",
    "    print(vardas)\n",
    "\n",
    "pavarde = \"\"\n",
    "\n",
    "if len(pavarde) == 0 :\n",
    "    print(\"Stringas yra tuščias\")\n",
    "else : \n",
    "    print(pavarde)\n",
    "\n",
    "adresas = \"Laisves al 18\"\n",
    "\n",
    "if len(adresas) == 0 :\n",
    "    print(\"Stringas yra tuščias\")\n",
    "else : \n",
    "    print(adresas)"
   ]
  },
  {
   "cell_type": "code",
   "execution_count": 9,
   "metadata": {},
   "outputs": [
    {
     "name": "stdout",
     "output_type": "stream",
     "text": [
      "Labas vakaras visiems!\n",
      "Labas vakaras visiems!\n",
      "Labas vakaras visiems!\n",
      "Labas vakaras visiems!\n"
     ]
    }
   ],
   "source": [
    "def pasisveikinimas() :\n",
    "    print(\"Labas vakaras visiems!\")\n",
    "\n",
    "# Skliausteliai šalia funkcijos pavadinimo nurodo jos inciavimą\n",
    "pasisveikinimas()\n",
    "pasisveikinimas()\n",
    "pasisveikinimas()\n",
    "pasisveikinimas()"
   ]
  },
  {
   "cell_type": "code",
   "execution_count": 11,
   "metadata": {},
   "outputs": [
    {
     "name": "stdout",
     "output_type": "stream",
     "text": [
      "Hello World\n",
      "Labas Pasauli\n"
     ]
    }
   ],
   "source": [
    "def sum(pirmasParametras, antrasParametras) :\n",
    "    print(pirmasParametras, antrasParametras)\n",
    "\n",
    "sum(\"Hello\", \"World\")\n",
    "sum(\"Labas\", \"Pasauli\")"
   ]
  },
  {
   "cell_type": "code",
   "execution_count": 19,
   "metadata": {},
   "outputs": [
    {
     "name": "stdout",
     "output_type": "stream",
     "text": [
      "20\n"
     ]
    }
   ],
   "source": [
    "def sum(pirmasParametras, antrasParametras) :\n",
    "    print(pirmasParametras + antrasParametras)\n",
    "\n",
    "sum(15, 5)"
   ]
  },
  {
   "cell_type": "code",
   "execution_count": null,
   "metadata": {},
   "outputs": [
    {
     "name": "stdout",
     "output_type": "stream",
     "text": [
      "Jonas\n",
      "Stringas yra tuščias\n",
      "Laisves al 18\n"
     ]
    }
   ],
   "source": [
    "def tikrinameStringa(stringas) :\n",
    "    if len(stringas) == 0 :\n",
    "        print(\"Stringas yra tuščias\")\n",
    "    else : \n",
    "        print(stringas)\n",
    "\n",
    "tikrinameStringa(\"Jonas\")\n",
    "tikrinameStringa(\"\")\n",
    "tikrinameStringa(\"Laisves al 18\")"
   ]
  },
  {
   "cell_type": "code",
   "execution_count": 23,
   "metadata": {},
   "outputs": [
    {
     "name": "stdout",
     "output_type": "stream",
     "text": [
      "Labas Gražus Pasauli<<Eilutes pabaiga"
     ]
    }
   ],
   "source": [
    "print(\"Labas\", \"Gražus\", \"Pasauli\", end = \"<<Eilutes pabaiga\")"
   ]
  },
  {
   "cell_type": "code",
   "execution_count": 25,
   "metadata": {},
   "outputs": [
    {
     "name": "stdout",
     "output_type": "stream",
     "text": [
      "10\n"
     ]
    }
   ],
   "source": [
    "def kelimasLaipsniu(skaicius, laipsnis) :\n",
    "    print(skaicius * laipsnis)\n",
    "\n",
    "kelimasLaipsniu(laipsnis = 2, skaicius = 5)"
   ]
  },
  {
   "cell_type": "code",
   "execution_count": 49,
   "metadata": {},
   "outputs": [
    {
     "name": "stdout",
     "output_type": "stream",
     "text": [
      "Hello World\n"
     ]
    }
   ],
   "source": [
    "def pasisveikinimas(kalba = 0) :\n",
    "    # if kalba == 0 :\n",
    "    #     print(\"Hello World\")\n",
    "    if kalba == 1 :\n",
    "        print(\"Hej verden\")\n",
    "    elif kalba == 2 :\n",
    "        print(\"Sveika pasaule\")\n",
    "    elif kalba == 3 :\n",
    "        print(\"Hej världen\")\n",
    "    elif kalba == 4 :\n",
    "        print(\"Moien Welt\")\n",
    "    elif kalba == 5 :\n",
    "        print(\"Selam Dünya\")\n",
    "    else :\n",
    "        print(\"Hello World\")\n",
    "\n",
    "pasisveikinimas()"
   ]
  },
  {
   "cell_type": "code",
   "execution_count": 54,
   "metadata": {},
   "outputs": [
    {
     "data": {
      "text/plain": [
       "5.0"
      ]
     },
     "execution_count": 54,
     "metadata": {},
     "output_type": "execute_result"
    }
   ],
   "source": [
    "def divide(a, b) :\n",
    "    return a / b\n",
    "\n",
    "divide(10, 2)"
   ]
  },
  {
   "cell_type": "code",
   "execution_count": 59,
   "metadata": {},
   "outputs": [
    {
     "name": "stdout",
     "output_type": "stream",
     "text": [
      "Hello World\n"
     ]
    }
   ],
   "source": [
    "zodziai = [\"Hello\", \"World\"]\n",
    "\n",
    "pirmas = zodziai[0]\n",
    "antras = zodziai[1]\n",
    "\n",
    "# Reikšmių išpakavimo (unpack) pavyzdys:\n",
    "pirmas, antras = [\"Hello\", \"World\"]\n",
    "\n",
    "print(pirmas, antras)"
   ]
  },
  {
   "cell_type": "code",
   "execution_count": 60,
   "metadata": {},
   "outputs": [
    {
     "name": "stdout",
     "output_type": "stream",
     "text": [
      "Hello World\n"
     ]
    }
   ],
   "source": [
    "pirmas, antras = (\"Hello\", \"World\")\n",
    "\n",
    "print(pirmas, antras)"
   ]
  },
  {
   "cell_type": "code",
   "execution_count": null,
   "metadata": {},
   "outputs": [
    {
     "name": "stdout",
     "output_type": "stream",
     "text": [
      "10 20 30\n"
     ]
    }
   ],
   "source": [
    "def funkcija() :\n",
    "    return 10, 20, 30\n",
    "\n",
    "skaiciai = funkcija()\n",
    "\n",
    "print(skaiciai[0], skaiciai[1], skaiciai[2])"
   ]
  },
  {
   "cell_type": "code",
   "execution_count": 62,
   "metadata": {},
   "outputs": [
    {
     "name": "stdout",
     "output_type": "stream",
     "text": [
      "10 20 30\n"
     ]
    }
   ],
   "source": [
    "def funkcija() :\n",
    "    return 10, 20, 30\n",
    "\n",
    "pirmas, antras, trecias = funkcija()\n",
    "\n",
    "print(pirmas, antras, trecias)"
   ]
  },
  {
   "cell_type": "code",
   "execution_count": null,
   "metadata": {},
   "outputs": [
    {
     "data": {
      "text/plain": [
       "'Hello World'"
      ]
     },
     "execution_count": 64,
     "metadata": {},
     "output_type": "execute_result"
    }
   ],
   "source": [
    "def funkcija() :\n",
    "    # Po return komandos visas likęs kodas nebeskaitomas\n",
    "    return \"Hello World\"\n",
    "\n",
    "    print(\"Funkcijos pabaiga\")\n",
    "\n",
    "funkcija()"
   ]
  },
  {
   "cell_type": "code",
   "execution_count": null,
   "metadata": {},
   "outputs": [
    {
     "name": "stdout",
     "output_type": "stream",
     "text": [
      "Gauta reikšmė praėjo mūsų validaciją\n"
     ]
    }
   ],
   "source": [
    "# def tikrinameRiksme(reiksme) :\n",
    "#         if len(reiksme) > 5 : \n",
    "#             if len(reiksme) < 10 :\n",
    "#                 if reiksme != \"testas\" :\n",
    "#                     print(\"Gauta reikšmė praėjo mūsų validaciją\")\n",
    "\n",
    "\n",
    "def tikrinameRiksme(reiksme) :\n",
    "    # Guard prijungimas\n",
    "    if len(reiksme) <= 5 :\n",
    "        return \n",
    "\n",
    "    if len(reiksme) >= 10 :\n",
    "        return\n",
    "    \n",
    "    if reiksme == \"testas\" :\n",
    "        return\n",
    "                    \n",
    "    print(\"Gauta reikšmė praėjo mūsų validaciją\")\n",
    "\n",
    "\n",
    "tikrinameRiksme(\"Piniginė\")"
   ]
  },
  {
   "cell_type": "code",
   "execution_count": 69,
   "metadata": {},
   "outputs": [
    {
     "name": "stdout",
     "output_type": "stream",
     "text": [
      "10 [20, 30, 40] 50\n"
     ]
    }
   ],
   "source": [
    "t = (10, 20, 30, 40, 50)\n",
    "\n",
    "pirma, *vidurys, penkta = t\n",
    "\n",
    "print(pirma, vidurys, penkta)"
   ]
  },
  {
   "cell_type": "code",
   "execution_count": 71,
   "metadata": {},
   "outputs": [
    {
     "name": "stdout",
     "output_type": "stream",
     "text": [
      "10 [20, 30, 40, 50]\n",
      "200\n",
      "300\n",
      "400\n",
      "500\n"
     ]
    }
   ],
   "source": [
    "t = (10, 20, 30, 40, 50)\n",
    "\n",
    "pirma, *likusios = t\n",
    "\n",
    "print(pirma, likusios)\n",
    "\n",
    "# Pirmą reikšmę padauginkite iš visų eilutėje likusių reikšmių\n",
    "\n",
    "for reiksme in likusios :\n",
    "    print(pirma * reiksme)"
   ]
  },
  {
   "cell_type": "code",
   "execution_count": 72,
   "metadata": {},
   "outputs": [
    {
     "name": "stdout",
     "output_type": "stream",
     "text": [
      "10 [20, 30, 40, 50]\n",
      "200\n",
      "300\n",
      "400\n",
      "500\n"
     ]
    }
   ],
   "source": [
    "def funkcija() :\n",
    "    return 10, 20, 30, 40, 50\n",
    "\n",
    "pirma, *likusios = funkcija()\n",
    "\n",
    "print(pirma, likusios)\n",
    "\n",
    "# Pirmą reikšmę padauginkite iš visų eilutėje likusių reikšmių\n",
    "\n",
    "for reiksme in likusios :\n",
    "    print(pirma * reiksme)"
   ]
  },
  {
   "cell_type": "code",
   "execution_count": 1,
   "metadata": {},
   "outputs": [
    {
     "name": "stdout",
     "output_type": "stream",
     "text": [
      "['Jonas', 'Jonaitis', 1982]\n"
     ]
    }
   ],
   "source": [
    "def union(pirmas, antras) :\n",
    "    vartotojas = pirmas + antras\n",
    "\n",
    "    rezultatas = []\n",
    "\n",
    "    for data in vartotojas :\n",
    "        if not data in rezultatas :\n",
    "            rezultatas.append(data)\n",
    "\n",
    "    return rezultatas\n",
    "\n",
    "\n",
    "user_1 = [\"Jonas\", \"Jonaitis\"]\n",
    "user_2 = [\"Jonas\", \"Jonaitis\", 1982]\n",
    "\n",
    "print(union(user_1, user_2))"
   ]
  }
 ],
 "metadata": {
  "kernelspec": {
   "display_name": "Python 3",
   "language": "python",
   "name": "python3"
  },
  "language_info": {
   "codemirror_mode": {
    "name": "ipython",
    "version": 3
   },
   "file_extension": ".py",
   "mimetype": "text/x-python",
   "name": "python",
   "nbconvert_exporter": "python",
   "pygments_lexer": "ipython3",
   "version": "3.13.0"
  }
 },
 "nbformat": 4,
 "nbformat_minor": 2
}
