{
 "cells": [
  {
   "cell_type": "code",
   "execution_count": null,
   "metadata": {},
   "outputs": [
    {
     "name": "stdout",
     "output_type": "stream",
     "text": [
      "182474.0\n",
      "91237.0\n"
     ]
    }
   ],
   "source": [
    "# Paskaičiuoti pelną pardavus visas prekes. Informacija apie kainą\n",
    "# ir kiekius yra pateikiama kaip žodynai (dictionary):\n",
    "\n",
    "\n",
    "d1 = {\n",
    "    \"cost_price\": 32.67,\n",
    "    \"sell_price\": 45.00,\n",
    "    \"inventory\": 1200\n",
    "}\n",
    "\n",
    "d2 = {\n",
    "    \"cost_price\": 225.89,\n",
    "    \"sell_price\": 550.00,\n",
    "    \"inventory\": 100\n",
    "}\n",
    "\n",
    "d3 = {\n",
    "    \"cost_price\": 2.77,\n",
    "    \"sell_price\": 7.95,\n",
    "    \"inventory\": 8500\n",
    "}\n",
    "\n",
    "suma = (d1[\"sell_price\"] * d1[\"inventory\"]) - (d1[\"cost_price\"] * d1[\"inventory\"])\n",
    "suma += (d2[\"sell_price\"] * d2[\"inventory\"]) - (d2[\"cost_price\"] * d2[\"inventory\"])\n",
    "suma += (d3[\"sell_price\"] * d3[\"inventory\"]) - (d3[\"cost_price\"] * d3[\"inventory\"])\n",
    "\n",
    "print(suma)"
   ]
  }
 ],
 "metadata": {
  "kernelspec": {
   "display_name": "Python 3",
   "language": "python",
   "name": "python3"
  },
  "language_info": {
   "codemirror_mode": {
    "name": "ipython",
    "version": 3
   },
   "file_extension": ".py",
   "mimetype": "text/x-python",
   "name": "python",
   "nbconvert_exporter": "python",
   "pygments_lexer": "ipython3",
   "version": "3.13.0"
  }
 },
 "nbformat": 4,
 "nbformat_minor": 2
}
