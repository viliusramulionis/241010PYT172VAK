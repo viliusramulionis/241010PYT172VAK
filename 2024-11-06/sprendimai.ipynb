{
 "cells": [
  {
   "cell_type": "code",
   "execution_count": 2,
   "metadata": {},
   "outputs": [],
   "source": [
    "import random\n",
    "\n",
    "# Grąžina sąrašą su atsitiktiniais skaičiais\n",
    "def skaiciuGeneravimas(ilgis) :\n",
    "    skaiciai = []\n",
    "\n",
    "    for indeksas in range(ilgis) :\n",
    "        skaiciai.append(random.randint(5, 25))\n",
    "\n",
    "    return skaiciai"
   ]
  },
  {
   "cell_type": "code",
   "execution_count": null,
   "metadata": {},
   "outputs": [
    {
     "name": "stdout",
     "output_type": "stream",
     "text": [
      "[16, 9, 10, 24, 20, 21, 24, 15, 8, 19]\n",
      "(24, [3, 6])\n"
     ]
    }
   ],
   "source": [
    "# Aprašykite funkciją kuri rastų didžiausią masyvo reikšmę. \n",
    "# Priskirkite papildomą parametrą kurį perdavus funkcija taipogi grąžintų ir didžiausio skaičiaus \n",
    "# indeksą arba indeksus jeigu yra keli;\n",
    "\n",
    "def didziausioPaieska(sarasas, **argumentai) :\n",
    "    didziausias = max(sarasas)\n",
    "\n",
    "    if \"indeksai\" in argumentai.keys() :\n",
    "        indeksai = []\n",
    "        \n",
    "        for indeksas, reiksme in enumerate(sarasas) :\n",
    "            if reiksme == didziausias : \n",
    "                indeksai.append(indeksas)\n",
    "\n",
    "        return didziausias, indeksai\n",
    "    else : \n",
    "        return didziausias\n",
    "\n",
    "duomenys = skaiciuGeneravimas(10)\n",
    "\n",
    "print(didziausioPaieska(duomenys, indeksai = True))\n"
   ]
  },
  {
   "cell_type": "code",
   "execution_count": null,
   "metadata": {},
   "outputs": [
    {
     "name": "stdout",
     "output_type": "stream",
     "text": [
      "16\n",
      "10\n",
      "20\n",
      "24\n",
      "8\n",
      "78\n"
     ]
    }
   ],
   "source": [
    "# Sukurkite funkciją kuri suskaičiuotų visų porinių (lyginių) indeksų reikšmių sumą;\n",
    "\n",
    "l = [16, 9, 10, 24, 20, 21, 24, 15, 8, 19]\n",
    "\n",
    "def lyginiuIndeksuReiksiuSuma(sarasas) :\n",
    "    kasAntras = sarasas[::2]\n",
    "    \n",
    "    # return sum(kasAntras)\n",
    "\n",
    "    suma = 0\n",
    "\n",
    "    for skaicius in kasAntras :\n",
    "        suma += skaicius\n",
    "\n",
    "    return suma\n",
    "\n",
    "\n",
    "print(lyginiuIndeksuReiksiuSuma(l))\n",
    "# kasAntras[0] + \n",
    "# kasAntras[1] + \n",
    "# kasAntras[2] + \n",
    "# kasAntras[3] + \n",
    "# kasAntras[4] "
   ]
  },
  {
   "cell_type": "code",
   "execution_count": 24,
   "metadata": {},
   "outputs": [
    {
     "name": "stdout",
     "output_type": "stream",
     "text": [
      "[15, 20, 5, 5]\n"
     ]
    }
   ],
   "source": [
    "# Sukurkite funkciją kuri priimtų sąrašą ir grąžintų naują, \n",
    "# kurio reikšmės būtų priimto sąrašo reikšmė minus indeksas;\n",
    "# pvz [15, 21, 7, 8] rezultatas [15, 20, 5, 5]\n",
    "\n",
    "def minusuojamiIndeksai(sarasas) :\n",
    "    rezultatas = []\n",
    "    for indeksas, skaicius in enumerate(sarasas) :\n",
    "        rezultatas.append(skaicius - indeksas)\n",
    "\n",
    "    return rezultatas\n",
    "\n",
    "print(minusuojamiIndeksai([15, 21, 7, 8]))"
   ]
  }
 ],
 "metadata": {
  "kernelspec": {
   "display_name": "Python 3",
   "language": "python",
   "name": "python3"
  },
  "language_info": {
   "codemirror_mode": {
    "name": "ipython",
    "version": 3
   },
   "file_extension": ".py",
   "mimetype": "text/x-python",
   "name": "python",
   "nbconvert_exporter": "python",
   "pygments_lexer": "ipython3",
   "version": "3.13.0"
  }
 },
 "nbformat": 4,
 "nbformat_minor": 2
}
