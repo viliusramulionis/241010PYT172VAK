{
 "cells": [
  {
   "cell_type": "code",
   "execution_count": 13,
   "metadata": {},
   "outputs": [
    {
     "name": "stdout",
     "output_type": "stream",
     "text": [
      "9, 18, 27, 36, 45, 54, 63, 72, 81, 90, 99, 108, 117, 126, 135, 144, 153, 162, 171, 180, 189, 198, 207, 216, 225, 234, 243, 252, 261, 270, 279, 288, 297, 306, 315, 324, 333, 342, 351, 360, 369, 378, 387, 396, 405, 414, 423, 432, 441, 450, 459, 468, 477, 486, 495\n"
     ]
    }
   ],
   "source": [
    "# Vienoje eilutėje atspausdinkite visus skaičius nuo 1 iki 3000, kurie dalijasi iš 77 \n",
    "# be liekanos. Skaičius atskirkite kableliais. Po paskutinio skaičiaus kablelio neturi būti.\n",
    "\n",
    "limitas = int(input(\"Įveskite limitą\"))\n",
    "daliklis = int(input(\"Įveskite daliklį\"))\n",
    "\n",
    "rezultatas = \"\"\n",
    "\n",
    "for skaicius in range(1, limitas + 1) :\n",
    "    if skaicius % daliklis == 0 :\n",
    "        if skaicius == limitas - (limitas % daliklis) :\n",
    "            rezultatas += str(skaicius)\n",
    "        else : \n",
    "            rezultatas += str(skaicius) + \", \"\n",
    "\n",
    "print(rezultatas)"
   ]
  },
  {
   "cell_type": "code",
   "execution_count": 14,
   "metadata": {},
   "outputs": [
    {
     "name": "stdout",
     "output_type": "stream",
     "text": [
      "2, 4, 6, 8, 10, 12, 14\n"
     ]
    }
   ],
   "source": [
    "# Vienoje eilutėje atspausdinkite visus skaičius nuo 1 iki 3000, kurie dalijasi iš 77 \n",
    "# be liekanos. Skaičius atskirkite kableliais. Po paskutinio skaičiaus kablelio neturi būti.\n",
    "\n",
    "limitas = int(input(\"Įveskite limitą\"))\n",
    "daliklis = int(input(\"Įveskite daliklį\"))\n",
    "\n",
    "rezultatas = \"\"\n",
    "\n",
    "for skaicius in range(1, limitas + 1) :\n",
    "    if skaicius % daliklis == 0 :\n",
    "        rezultatas += str(skaicius) if skaicius == limitas - (limitas % daliklis) else str(skaicius) + \", \"\n",
    "\n",
    "print(rezultatas)"
   ]
  },
  {
   "cell_type": "code",
   "execution_count": 17,
   "metadata": {},
   "outputs": [
    {
     "name": "stdout",
     "output_type": "stream",
     "text": [
      "8, 16, 24, 32, 40, 48, 56, 64, 72, 80, 88, 96\n"
     ]
    }
   ],
   "source": [
    "# Vienoje eilutėje atspausdinkite visus skaičius nuo 1 iki 3000, kurie dalijasi iš 77 \n",
    "# be liekanos. Skaičius atskirkite kableliais. Po paskutinio skaičiaus kablelio neturi būti.\n",
    "\n",
    "limitas = int(input(\"Įveskite limitą\"))\n",
    "daliklis = int(input(\"Įveskite daliklį\"))\n",
    "\n",
    "rezultatas = []\n",
    "\n",
    "for skaicius in range(1, limitas + 1) :\n",
    "    if skaicius % daliklis == 0 :\n",
    "        rezultatas.append(str(skaicius))\n",
    "\n",
    "print(\", \".join(rezultatas))"
   ]
  },
  {
   "cell_type": "code",
   "execution_count": 41,
   "metadata": {},
   "outputs": [
    {
     "name": "stdout",
     "output_type": "stream",
     "text": [
      "* * * \n",
      "*   *\n",
      "* * * \n"
     ]
    }
   ],
   "source": [
    "# Nupieškite tuščiavidurį kvadratą iš vartotojo įvedamo simbolio, kurio kraštinių kiekį taipogi leiskite įvesti vartotojui.\n",
    "# * * * * * * *\n",
    "# *           *\n",
    "# *           *\n",
    "# *           *\n",
    "# *           *\n",
    "# *           *\n",
    "# * * * * * * * \n",
    "\n",
    "kiekis = int(input(\"Įveskite kiekį\"))\n",
    "\n",
    "for y in range(kiekis) :\n",
    "    if y == 0 or y == kiekis - 1:\n",
    "        print(\"* \" * kiekis)\n",
    "    else :\n",
    "        print(\"* \" + \"  \" * (kiekis - 2) + \"*\")\n"
   ]
  },
  {
   "cell_type": "code",
   "execution_count": 54,
   "metadata": {},
   "outputs": [
    {
     "name": "stdout",
     "output_type": "stream",
     "text": [
      "5***5\n",
      "*5*5*\n",
      "**5**\n",
      "*5*5*\n",
      "5***5\n"
     ]
    }
   ],
   "source": [
    "# Nupieškite kvadratą iš vartotojo įvedamo simbolio, kurio kraštinių kiekį taipogi leiskite įvesti vartotojui.\n",
    "\n",
    "# 5**** \n",
    "# *5*** \n",
    "# **5** \n",
    "# ***5*\n",
    "# ****5\n",
    "\n",
    "kiekis = 5\n",
    "\n",
    "for y in range(kiekis) : \n",
    "    for x in range(kiekis) :\n",
    "        if x == y or x == kiekis - y - 1:\n",
    "            print(\"5\", end = \"\")\n",
    "        else :\n",
    "            print(\"*\", end = \"\")\n",
    "\n",
    "    print(\"\")"
   ]
  },
  {
   "cell_type": "code",
   "execution_count": 85,
   "metadata": {},
   "outputs": [
    {
     "name": "stdout",
     "output_type": "stream",
     "text": [
      "Sukasi\n"
     ]
    }
   ],
   "source": [
    "import random \n",
    "\n",
    "sustojo = False\n",
    "\n",
    "while not sustojo :\n",
    "    \n",
    "    print(\"Sukasi\")\n",
    "\n",
    "    if random.randint(0, 1) == 0 :\n",
    "        sustojo = True"
   ]
  },
  {
   "cell_type": "code",
   "execution_count": 88,
   "metadata": {},
   "outputs": [
    {
     "name": "stdout",
     "output_type": "stream",
     "text": [
      "Augalas jau miręs\n"
     ]
    }
   ],
   "source": [
    "gyvas = False\n",
    "\n",
    "if not gyvas :\n",
    "    print(\"Augalas jau miręs\")"
   ]
  },
  {
   "cell_type": "code",
   "execution_count": 99,
   "metadata": {},
   "outputs": [
    {
     "name": "stdout",
     "output_type": "stream",
     "text": [
      "H\n",
      "S\n",
      "H\n",
      "S\n",
      "S\n",
      "S\n",
      "S\n",
      "H\n"
     ]
    }
   ],
   "source": [
    "# Metam monetą. Monetos kritimo rezultatą imituojam random.randint() funkcija, kur 0 yra herbas, o 1 - skaičius. \n",
    "# Monetos metimo rezultatus išvedame į ekraną atskiroje eilutėje: “S” jeigu iškrito skaičius ir “H” jeigu herbas. \n",
    "# Suprogramuokite tris skirtingus scenarijus kai monetos metimą stabdome:\n",
    "# Iškritus herbui;\n",
    "# Tris kartus iškritus herbui;\n",
    "# Tris kartus iš eilės iškritus herbui;\n",
    "\n",
    "import random\n",
    "\n",
    "# Iškritus herbui;\n",
    "\n",
    "while True :\n",
    "    if random.randint(0, 1) == 0 :\n",
    "        print(\"H\")\n",
    "        break\n",
    "    else : \n",
    "        print(\"S\")\n",
    "\n"
   ]
  },
  {
   "cell_type": "code",
   "execution_count": null,
   "metadata": {},
   "outputs": [],
   "source": [
    "import random\n",
    "\n",
    "# Tris kartus iškritus herbui;\n",
    "count = 0\n",
    "max = 3\n",
    "\n",
    "while count < max :\n",
    "    if random.randint(0, 1) == 0 :\n",
    "        print(\"H\")\n",
    "        count += 1\n",
    "    else : \n",
    "        print(\"S\")\n"
   ]
  },
  {
   "cell_type": "code",
   "execution_count": 103,
   "metadata": {},
   "outputs": [
    {
     "name": "stdout",
     "output_type": "stream",
     "text": [
      "S\n",
      "S\n",
      "H\n",
      "S\n",
      "S\n",
      "S\n",
      "H\n",
      "S\n",
      "S\n",
      "S\n",
      "H\n"
     ]
    }
   ],
   "source": [
    "import random\n",
    "\n",
    "# Tris kartus iškritus herbui;\n",
    "count = 0\n",
    "max = 3\n",
    "\n",
    "while True :\n",
    "    if count == max :\n",
    "        break\n",
    "\n",
    "    if random.randint(0, 1) == 0 :\n",
    "        print(\"H\")\n",
    "        count += 1\n",
    "    else : \n",
    "        print(\"S\")"
   ]
  },
  {
   "cell_type": "code",
   "execution_count": 113,
   "metadata": {},
   "outputs": [
    {
     "name": "stdout",
     "output_type": "stream",
     "text": [
      "S\n",
      "S\n",
      "H\n",
      "S\n",
      "S\n",
      "S\n",
      "H\n",
      "S\n",
      "S\n",
      "S\n",
      "S\n",
      "S\n",
      "H\n",
      "S\n",
      "S\n",
      "H\n",
      "H\n",
      "S\n",
      "S\n",
      "S\n",
      "S\n",
      "S\n",
      "S\n",
      "H\n",
      "H\n",
      "H\n"
     ]
    }
   ],
   "source": [
    "import random\n",
    "\n",
    "# Tris kartus iš eilės iškritus herbui;\n",
    "count = 0\n",
    "max = 3\n",
    "\n",
    "while count < max:\n",
    "    if random.randint(0, 1) == 0 :\n",
    "        print(\"H\")\n",
    "        count += 1\n",
    "    else : \n",
    "        print(\"S\")\n",
    "        count = 0"
   ]
  }
 ],
 "metadata": {
  "kernelspec": {
   "display_name": "Python 3",
   "language": "python",
   "name": "python3"
  },
  "language_info": {
   "codemirror_mode": {
    "name": "ipython",
    "version": 3
   },
   "file_extension": ".py",
   "mimetype": "text/x-python",
   "name": "python",
   "nbconvert_exporter": "python",
   "pygments_lexer": "ipython3",
   "version": "3.13.0"
  }
 },
 "nbformat": 4,
 "nbformat_minor": 2
}
