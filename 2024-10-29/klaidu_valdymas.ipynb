{
 "cells": [
  {
   "cell_type": "code",
   "execution_count": 4,
   "metadata": {},
   "outputs": [
    {
     "ename": "TypeError",
     "evalue": "can only concatenate str (not \"int\") to str",
     "output_type": "error",
     "traceback": [
      "\u001b[1;31m---------------------------------------------------------------------------\u001b[0m",
      "\u001b[1;31mTypeError\u001b[0m                                 Traceback (most recent call last)",
      "Cell \u001b[1;32mIn[4], line 2\u001b[0m\n\u001b[0;32m      1\u001b[0m \u001b[38;5;66;03m# Įvyksianti klaida:\u001b[39;00m\n\u001b[1;32m----> 2\u001b[0m \u001b[38;5;28mprint\u001b[39m(\u001b[38;5;124;43m\"\u001b[39;49m\u001b[38;5;124;43mSkaičius yra: \u001b[39;49m\u001b[38;5;124;43m\"\u001b[39;49m\u001b[43m \u001b[49m\u001b[38;5;241;43m+\u001b[39;49m\u001b[43m \u001b[49m\u001b[38;5;241;43m5\u001b[39;49m) \n\u001b[0;32m      4\u001b[0m \u001b[38;5;66;03m# Likęs kodas po jos nebėra skaitomas\u001b[39;00m\n\u001b[0;32m      5\u001b[0m \u001b[38;5;28mprint\u001b[39m(\u001b[38;5;124m\"\u001b[39m\u001b[38;5;124mSekantis veiksmas\u001b[39m\u001b[38;5;124m\"\u001b[39m)\n",
      "\u001b[1;31mTypeError\u001b[0m: can only concatenate str (not \"int\") to str"
     ]
    }
   ],
   "source": [
    "# Įvyksianti klaida:\n",
    "print(\"Skaičius yra: \" + 5) \n",
    "\n",
    "# Likęs kodas po jos nebėra skaitomas\n",
    "print(\"Sekantis veiksmas\")\n",
    "print(\"Sekantis veiksmas\")\n",
    "print(\"Sekantis veiksmas\")\n",
    "print(\"Sekantis veiksmas\")\n",
    "print(\"Sekantis veiksmas\")\n",
    "print(\"Sekantis veiksmas\")\n",
    "print(\"Sekantis veiksmas\")\n",
    "print(\"Sekantis veiksmas\")\n",
    "print(\"Sekantis veiksmas\")\n",
    "print(\"Sekantis veiksmas\")\n",
    "print(\"Sekantis veiksmas\")\n",
    "print(\"Sekantis veiksmas\")"
   ]
  },
  {
   "cell_type": "code",
   "execution_count": 13,
   "metadata": {},
   "outputs": [
    {
     "name": "stdout",
     "output_type": "stream",
     "text": [
      "Nepavyko atvaizduoti skaičiaus\n",
      "Sekantis veiksmas\n"
     ]
    }
   ],
   "source": [
    "try :\n",
    "    print(\"Skaičius yra: \" + 5) \n",
    "except : \n",
    "    print(\"Nepavyko atvaizduoti skaičiaus\")\n",
    "\n",
    "print(\"Sekantis veiksmas\")"
   ]
  },
  {
   "cell_type": "code",
   "execution_count": 17,
   "metadata": {},
   "outputs": [
    {
     "name": "stdout",
     "output_type": "stream",
     "text": [
      "Įvyko klaida name 'neegzistuojantis' is not defined\n",
      "Sekantis veiksmas\n"
     ]
    }
   ],
   "source": [
    "try :\n",
    "    print(neegzistuojantis)\n",
    "except Exception as klaida : \n",
    "    print(\"Įvyko klaida\", klaida)\n",
    "\n",
    "print(\"Sekantis veiksmas\")"
   ]
  },
  {
   "cell_type": "code",
   "execution_count": 19,
   "metadata": {},
   "outputs": [
    {
     "name": "stdout",
     "output_type": "stream",
     "text": [
      "Įvyko klaida 'str' object has no attribute 'splitas'\n",
      "Sekantis veiksmas\n"
     ]
    }
   ],
   "source": [
    "try :\n",
    "    # Jeigu klaidos mūsų bloke nėra:\n",
    "    zodziai = \"Labas Pasauli\".splitas()\n",
    "\n",
    "    for zodis in zodziai :\n",
    "        print(zodis)\n",
    "\n",
    "except Exception as klaida : \n",
    "    print(\"Įvyko klaida\", klaida)\n",
    "\n",
    "print(\"Sekantis veiksmas\")"
   ]
  },
  {
   "cell_type": "code",
   "execution_count": 20,
   "metadata": {},
   "outputs": [
    {
     "name": "stdout",
     "output_type": "stream",
     "text": [
      "Labas\n",
      "Pasauli\n",
      "Sekantis veiksmas\n"
     ]
    }
   ],
   "source": [
    "try :\n",
    "    # Patikriname ar eilutė nesukelia klaidos\n",
    "    zodziai = \"Labas Pasauli\".split()\n",
    "except Exception as klaida : \n",
    "    # Jeigu kiltų klaida:\n",
    "    print(\"Įvyko klaida\", klaida)\n",
    "else : \n",
    "    # Vykdomas kodas jeigu klaida neįvyko:\n",
    "    zodziai = \"Labas Pasauli\".split()\n",
    "\n",
    "    for zodis in zodziai :\n",
    "        print(zodis)\n",
    "\n",
    "print(\"Sekantis veiksmas\")"
   ]
  },
  {
   "cell_type": "code",
   "execution_count": 23,
   "metadata": {},
   "outputs": [
    {
     "name": "stdout",
     "output_type": "stream",
     "text": [
      "Labas\n",
      "Pasauli\n",
      "Kodo tikrinimas baigtas\n",
      "Sekantis veiksmas\n"
     ]
    }
   ],
   "source": [
    "try :\n",
    "    # Patikriname ar eilutė nesukelia klaidos\n",
    "    zodziai = \"Labas Pasauli\".split()\n",
    "except Exception as klaida : \n",
    "    # Jeigu kiltų klaida:\n",
    "    print(\"Įvyko klaida\", klaida)\n",
    "else : \n",
    "    # Vykdomas kodas jeigu klaida neįvyko:\n",
    "    zodziai = \"Labas Pasauli\".split()\n",
    "\n",
    "    for zodis in zodziai :\n",
    "        print(zodis)\n",
    "finally: \n",
    "    # Bet kuriuo atveju įvykdomas kodas\n",
    "    print(\"Kodo tikrinimas baigtas\")\n",
    "\n",
    "print(\"Sekantis veiksmas\")\n",
    "\n"
   ]
  },
  {
   "cell_type": "code",
   "execution_count": 25,
   "metadata": {},
   "outputs": [
    {
     "ename": "Exception",
     "evalue": "Neivesti duomenys",
     "output_type": "error",
     "traceback": [
      "\u001b[1;31m---------------------------------------------------------------------------\u001b[0m",
      "\u001b[1;31mException\u001b[0m                                 Traceback (most recent call last)",
      "Cell \u001b[1;32mIn[25], line 3\u001b[0m\n\u001b[0;32m      1\u001b[0m \u001b[38;5;66;03m# Norint iššaukti klaidą:\u001b[39;00m\n\u001b[1;32m----> 3\u001b[0m \u001b[38;5;28;01mraise\u001b[39;00m \u001b[38;5;167;01mException\u001b[39;00m(\u001b[38;5;124m\"\u001b[39m\u001b[38;5;124mNeivesti duomenys\u001b[39m\u001b[38;5;124m\"\u001b[39m)\n",
      "\u001b[1;31mException\u001b[0m: Neivesti duomenys"
     ]
    }
   ],
   "source": [
    "# Norint iššaukti klaidą:\n",
    "\n",
    "raise Exception(\"Neivesti duomenys\")"
   ]
  },
  {
   "cell_type": "code",
   "execution_count": 27,
   "metadata": {},
   "outputs": [
    {
     "ename": "TypeError",
     "evalue": "find expected at least 1 argument, got 0",
     "output_type": "error",
     "traceback": [
      "\u001b[1;31m---------------------------------------------------------------------------\u001b[0m",
      "\u001b[1;31mTypeError\u001b[0m                                 Traceback (most recent call last)",
      "Cell \u001b[1;32mIn[27], line 1\u001b[0m\n\u001b[1;32m----> 1\u001b[0m \u001b[38;5;124;43m\"\u001b[39;49m\u001b[38;5;124;43mLabas Pasauli\u001b[39;49m\u001b[38;5;124;43m\"\u001b[39;49m\u001b[38;5;241;43m.\u001b[39;49m\u001b[43mfind\u001b[49m\u001b[43m(\u001b[49m\u001b[43m)\u001b[49m\n",
      "\u001b[1;31mTypeError\u001b[0m: find expected at least 1 argument, got 0"
     ]
    }
   ],
   "source": [
    "\"Labas Pasauli\".find()"
   ]
  },
  {
   "cell_type": "code",
   "execution_count": 28,
   "metadata": {},
   "outputs": [
    {
     "ename": "TypeError",
     "evalue": "Neteisingai įvardintas kintamasis",
     "output_type": "error",
     "traceback": [
      "\u001b[1;31m---------------------------------------------------------------------------\u001b[0m",
      "\u001b[1;31mTypeError\u001b[0m                                 Traceback (most recent call last)",
      "Cell \u001b[1;32mIn[28], line 1\u001b[0m\n\u001b[1;32m----> 1\u001b[0m \u001b[38;5;28;01mraise\u001b[39;00m \u001b[38;5;167;01mTypeError\u001b[39;00m(\u001b[38;5;124m\"\u001b[39m\u001b[38;5;124mNeteisingai įvardintas kintamasis\u001b[39m\u001b[38;5;124m\"\u001b[39m)\n",
      "\u001b[1;31mTypeError\u001b[0m: Neteisingai įvardintas kintamasis"
     ]
    }
   ],
   "source": [
    "raise TypeError(\"Neteisingai įvardintas kintamasis\")"
   ]
  },
  {
   "cell_type": "code",
   "execution_count": 29,
   "metadata": {},
   "outputs": [
    {
     "name": "stdout",
     "output_type": "stream",
     "text": [
      "Įvyko klaida Neteisingai įvardintas kintamasis\n"
     ]
    }
   ],
   "source": [
    "try :\n",
    "    raise TypeError(\"Neteisingai įvardintas kintamasis\")\n",
    "except Exception as err :\n",
    "    # Exception = bendrai visos galimos klaidos\n",
    "    print(\"Įvyko klaida\", err)"
   ]
  },
  {
   "cell_type": "code",
   "execution_count": 34,
   "metadata": {},
   "outputs": [
    {
     "name": "stdout",
     "output_type": "stream",
     "text": [
      "Įvyko klaida Neteisingai įvardintas kintamasis\n",
      "Veiksmas vyksta toliau\n"
     ]
    }
   ],
   "source": [
    "try :\n",
    "    raise TypeError(\"Neteisingai įvardintas kintamasis\")\n",
    "except Exception as err :\n",
    "    # Exception = bendrai visos galimos klaidos\n",
    "    print(\"Įvyko klaida\", err)\n",
    "\n",
    "print(\"Veiksmas vyksta toliau\")\n"
   ]
  },
  {
   "cell_type": "code",
   "execution_count": 62,
   "metadata": {},
   "outputs": [
    {
     "name": "stdout",
     "output_type": "stream",
     "text": [
      "Dalyba iš nulio negalima\n",
      "Kodo pabaiga\n"
     ]
    }
   ],
   "source": [
    "import random \n",
    "\n",
    "try : \n",
    "    print(random.randint(0, 10) / random.randint(0, 10))\n",
    "except ZeroDivisionError as klaida :\n",
    "    print(\"Dalyba iš nulio negalima\")\n",
    "\n",
    "\n",
    "print(\"Kodo pabaiga\")"
   ]
  }
 ],
 "metadata": {
  "kernelspec": {
   "display_name": "Python 3",
   "language": "python",
   "name": "python3"
  },
  "language_info": {
   "codemirror_mode": {
    "name": "ipython",
    "version": 3
   },
   "file_extension": ".py",
   "mimetype": "text/x-python",
   "name": "python",
   "nbconvert_exporter": "python",
   "pygments_lexer": "ipython3",
   "version": "3.13.0"
  }
 },
 "nbformat": 4,
 "nbformat_minor": 2
}
