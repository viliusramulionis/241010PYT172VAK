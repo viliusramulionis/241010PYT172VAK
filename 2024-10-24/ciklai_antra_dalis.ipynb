{
 "cells": [
  {
   "cell_type": "code",
   "execution_count": 1,
   "metadata": {},
   "outputs": [
    {
     "name": "stdout",
     "output_type": "stream",
     "text": [
      "0\n",
      "5\n",
      "18\n",
      "18\n",
      "40\n"
     ]
    }
   ],
   "source": [
    "# Sukurkite 5 elementų sąrašą kuriame būtų skaičiai nuo 5 iki 12\n",
    "# Visas reikšmes esančias sąraše padauginkite iš jos indekso\n",
    "\n",
    "sarasas = [8, 5, 9, 6, 10]\n",
    "\n",
    "indeksas = 0\n",
    "\n",
    "for skaicius in sarasas :\n",
    "    print(skaicius * indeksas)\n",
    "    indeksas += 1\n",
    "\n"
   ]
  },
  {
   "cell_type": "code",
   "execution_count": 4,
   "metadata": {},
   "outputs": [
    {
     "name": "stdout",
     "output_type": "stream",
     "text": [
      "0\n",
      "5\n",
      "18\n",
      "18\n",
      "40\n"
     ]
    }
   ],
   "source": [
    "# Indekso ir reikšmės susigrąžinimas panaudojant enumerate() funkciją\n",
    "\n",
    "sarasas = [8, 5, 9, 6, 10]\n",
    "\n",
    "for indeksas, skaicius in enumerate(sarasas) :\n",
    "    print(skaicius * indeksas)"
   ]
  },
  {
   "cell_type": "code",
   "execution_count": 14,
   "metadata": {},
   "outputs": [
    {
     "name": "stdout",
     "output_type": "stream",
     "text": [
      "27\n",
      "21\n",
      "39\n",
      "6\n",
      "39\n"
     ]
    }
   ],
   "source": [
    "# Sudėkite dviejų sąrašų reikšmes pagal jų indeksus ir jas atspausdinkite:\n",
    "\n",
    "pirmas = [22, 15, 17, 6, 9]\n",
    "antras = [5, 6, 22, 0, 30]\n",
    "\n",
    "# JEIGU NETURIME CIKLO:\n",
    "# print(pirmas[0] + antras[0])\n",
    "# print(pirmas[1] + antras[1])\n",
    "# print(pirmas[2] + antras[2])\n",
    "# print(pirmas[3] + antras[3])\n",
    "# print(pirmas[4] + antras[4])\n",
    "\n",
    "for indeksas, skaicius in enumerate(pirmas) :\n",
    "    print(skaicius + antras[indeksas])"
   ]
  },
  {
   "cell_type": "code",
   "execution_count": 18,
   "metadata": {},
   "outputs": [
    {
     "name": "stdout",
     "output_type": "stream",
     "text": [
      "27\n",
      "21\n",
      "39\n",
      "6\n",
      "39\n"
     ]
    }
   ],
   "source": [
    "pirmas = [22, 15, 17, 6, 9]\n",
    "antras = [5, 6, 22, 0, 30, 4, 55]\n",
    "\n",
    "for a, b in zip(pirmas, antras, strict=False) :\n",
    "    print(a + b)"
   ]
  },
  {
   "cell_type": "code",
   "execution_count": 22,
   "metadata": {},
   "outputs": [
    {
     "name": "stdout",
     "output_type": "stream",
     "text": [
      "69\n",
      "122\n"
     ]
    }
   ],
   "source": [
    "# Susumuokite visus pirmame ir antrame sąrašuose esančius skaičius\n",
    "\n",
    "pirmas = [22, 15, 17, 6, 9]\n",
    "\n",
    "# print(22 + 15 + 17 + 6 + 9)\n",
    "\n",
    "antras = [5, 6, 22, 0, 30, 4, 55]\n",
    "\n",
    "# print(5 + 6 + 22 + 0 + 30 + 4 + 55)\n",
    "\n",
    "pirmoSuma = 0\n",
    "\n",
    "for skaicius in pirmas :\n",
    "    pirmoSuma += skaicius\n",
    "\n",
    "print(pirmoSuma)\n",
    "\n",
    "antroSuma = 0\n",
    "\n",
    "for skaicius in antras :\n",
    "    antroSuma += skaicius\n",
    "\n",
    "print(antroSuma)"
   ]
  },
  {
   "cell_type": "code",
   "execution_count": 25,
   "metadata": {},
   "outputs": [
    {
     "name": "stdout",
     "output_type": "stream",
     "text": [
      "69\n",
      "122\n"
     ]
    }
   ],
   "source": [
    "pirmas = [22, 15, 17, 6, 9]\n",
    "antras = [5, 6, 22, 0, 30, 4, 55]\n",
    "\n",
    "print(sum(pirmas))\n",
    "print(sum(antras))"
   ]
  },
  {
   "cell_type": "code",
   "execution_count": 29,
   "metadata": {},
   "outputs": [
    {
     "name": "stdout",
     "output_type": "stream",
     "text": [
      "**********\n",
      "**********\n",
      "**********\n",
      "**********\n",
      "**********\n",
      "**********\n",
      "**********\n",
      "**********\n"
     ]
    }
   ],
   "source": [
    "simbolis = \"*\"\n",
    "kiekis = 10\n",
    "\n",
    "# print(\"**********\")\n",
    "# print(\"**********\")\n",
    "# print(\"**********\")\n",
    "# print(\"**********\")\n",
    "# print(\"**********\")\n",
    "# print(\"**********\")\n",
    "# print(\"**********\")\n",
    "# print(\"**********\")\n",
    "# print(\"**********\")\n",
    "# print(\"**********\")\n",
    "\n",
    "# print(\"**********\\n**********\\n**********\\n**********\\n**********\\n**********\\n**********\\n**********\")\n"
   ]
  }
 ],
 "metadata": {
  "kernelspec": {
   "display_name": "Python 3",
   "language": "python",
   "name": "python3"
  },
  "language_info": {
   "codemirror_mode": {
    "name": "ipython",
    "version": 3
   },
   "file_extension": ".py",
   "mimetype": "text/x-python",
   "name": "python",
   "nbconvert_exporter": "python",
   "pygments_lexer": "ipython3",
   "version": "3.13.0"
  }
 },
 "nbformat": 4,
 "nbformat_minor": 2
}
