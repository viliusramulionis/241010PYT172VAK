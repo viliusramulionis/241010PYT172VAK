{
 "cells": [
  {
   "cell_type": "code",
   "execution_count": null,
   "metadata": {},
   "outputs": [],
   "source": [
    "simbolis = input(\"Įveskite simbolį\")\n",
    "\n",
    "while True :\n",
    "    if simbolis == \"\" :\n",
    "        simbolis = input(\"Įveskite simbolį\")\n",
    "    else :\n",
    "        break\n",
    "\n",
    "kiekis = int(input(\"Įveskite kiekį\"))\n",
    "\n",
    "# print(simbolis, kiekis)\n",
    "\n",
    "for indeksas in range(kiekis) :\n",
    "    print(simbolis * kiekis)"
   ]
  },
  {
   "cell_type": "code",
   "execution_count": 18,
   "metadata": {},
   "outputs": [
    {
     "name": "stdout",
     "output_type": "stream",
     "text": [
      "Vilnius\n",
      "Rokiškis\n",
      "Mažeikiai\n"
     ]
    }
   ],
   "source": [
    "# Spausdinkite tik tuos miestus, kurių pavadinimai ilgesni nei 6simboliai.\n",
    "\n",
    "miestai = ['Vilnius', 'Kaunas', 'Alytus', 'Rokiškis', 'Ūla', 'Mažeikiai', 'Akmena']\n",
    "\n",
    "for miestas in miestai :\n",
    "    if len(miestas) > 6 :\n",
    "        print(miestas)\n"
   ]
  },
  {
   "cell_type": "code",
   "execution_count": 24,
   "metadata": {},
   "outputs": [
    {
     "name": "stdout",
     "output_type": "stream",
     "text": [
      "*\n",
      "**\n",
      "***\n",
      "****\n",
      "*****\n",
      "******\n",
      "*******\n",
      "********\n",
      "*********\n",
      "**********\n",
      "***********\n",
      "************\n",
      "*************\n",
      "**************\n",
      "***************\n"
     ]
    }
   ],
   "source": [
    "simbolis = input(\"Įveskite simbolį\")\n",
    "\n",
    "sukasi = True\n",
    "\n",
    "while sukasi :\n",
    "    if simbolis == \"\" :\n",
    "        simbolis = input(\"Įveskite simbolį\")\n",
    "    else :\n",
    "        break\n",
    "\n",
    "kiekis = int(input(\"Įveskite kiekį\"))\n",
    "\n",
    "for indeksas in range(kiekis) :\n",
    "    print(simbolis * (indeksas + 1))"
   ]
  }
 ],
 "metadata": {
  "kernelspec": {
   "display_name": "Python 3",
   "language": "python",
   "name": "python3"
  },
  "language_info": {
   "codemirror_mode": {
    "name": "ipython",
    "version": 3
   },
   "file_extension": ".py",
   "mimetype": "text/x-python",
   "name": "python",
   "nbconvert_exporter": "python",
   "pygments_lexer": "ipython3",
   "version": "3.13.0"
  }
 },
 "nbformat": 4,
 "nbformat_minor": 2
}
