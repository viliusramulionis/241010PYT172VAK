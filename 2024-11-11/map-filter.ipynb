{
 "cells": [
  {
   "cell_type": "code",
   "execution_count": 7,
   "metadata": {},
   "outputs": [
    {
     "name": "stdout",
     "output_type": "stream",
     "text": [
      "20\n",
      "40\n",
      "60\n",
      "80\n"
     ]
    }
   ],
   "source": [
    "sarasas = [10, 20, 30, 40] #[20, 40, 60, 80]\n",
    "\n",
    "def dauginam(skaicius) :\n",
    "    return skaicius * 2\n",
    "\n",
    "# map()\n",
    "\n",
    "# print(dauginam(sarasas[0]))\n",
    "# print(dauginam(sarasas[1]))\n",
    "# print(dauginam(sarasas[2]))\n",
    "# print(dauginam(sarasas[3]))\n",
    "\n",
    "for skaicius in sarasas :\n",
    "    print(dauginam(skaicius))"
   ]
  },
  {
   "cell_type": "code",
   "execution_count": 6,
   "metadata": {},
   "outputs": [
    {
     "name": "stdout",
     "output_type": "stream",
     "text": [
      "[20, 40, 60, 80]\n"
     ]
    }
   ],
   "source": [
    "sarasas = [10, 20, 30, 40] #[20, 40, 60, 80]\n",
    "\n",
    "def dauginam(skaicius) :\n",
    "    return skaicius * 2\n",
    "\n",
    "rezultatas = []\n",
    "\n",
    "for skaicius in sarasas :\n",
    "    rezultatas.append(dauginam(skaicius))\n",
    "\n",
    "print(rezultatas)"
   ]
  },
  {
   "cell_type": "code",
   "execution_count": null,
   "metadata": {},
   "outputs": [
    {
     "name": "stdout",
     "output_type": "stream",
     "text": [
      "[20, 40, 60, 80]\n"
     ]
    }
   ],
   "source": [
    "sarasas = [10, 20, 30, 40] #[20, 40, 60, 80]\n",
    "\n",
    "def dauginam(skaicius) :\n",
    "    return skaicius * 2\n",
    "\n",
    "rezultatas = map(dauginam, sarasas)\n",
    "\n",
    "print(list(rezultatas))\n"
   ]
  },
  {
   "cell_type": "code",
   "execution_count": null,
   "metadata": {},
   "outputs": [
    {
     "name": "stdout",
     "output_type": "stream",
     "text": [
      "[60, 70, 80, 90]\n"
     ]
    },
    {
     "data": {
      "text/plain": [
       "[10, 20, 30, 40]"
      ]
     },
     "execution_count": 14,
     "metadata": {},
     "output_type": "execute_result"
    }
   ],
   "source": [
    "sarasas = [10, 20, 30, 40]\n",
    "\n",
    "def apdorojimas(skaicius) :\n",
    "    return skaicius + 50\n",
    "\n",
    "rezultatas = map(apdorojimas, sarasas)\n",
    "\n",
    "print(list(rezultatas))\n",
    "\n",
    "# [\n",
    "#     10, # 60\n",
    "#     20, # 70\n",
    "#     30, # 80\n",
    "#     40  # 90\n",
    "# ]"
   ]
  },
  {
   "cell_type": "code",
   "execution_count": null,
   "metadata": {},
   "outputs": [
    {
     "name": "stdout",
     "output_type": "stream",
     "text": [
      "[60, 70, 80, 90]\n",
      "[3.3333333333333335, 6.666666666666667, 10.0, 13.333333333333334]\n"
     ]
    }
   ],
   "source": [
    "# Funkcija map naudojama pakeisti buvusias sąrašo reikšmes naujomis\n",
    "\n",
    "sarasas = [10, 20, 30, 40]\n",
    "\n",
    "# def apdorojimas(skaicius) :\n",
    "#     return skaicius + 50\n",
    "\n",
    "rezultatas = map(lambda skaicius : skaicius + 50, sarasas)\n",
    "\n",
    "print(list(rezultatas))\n",
    "\n",
    "rezultatas = map(lambda skaicius : skaicius / 3, sarasas)\n",
    "\n",
    "print(list(rezultatas))"
   ]
  },
  {
   "cell_type": "code",
   "execution_count": 19,
   "metadata": {},
   "outputs": [
    {
     "name": "stdout",
     "output_type": "stream",
     "text": [
      "[0, 22, 5, 8, 0]\n"
     ]
    }
   ],
   "source": [
    "# Sukurkite funkciją kuri priimtų sąrašą ir grąžintų jo elementus su poriniais indeksais pavertusi 0 jeigu reikšmė buvo didesnė už 15;\n",
    "# pvz [18, 22, 5, 8, 16] rezultatas [0, 22, 5, 8, 0] \n",
    "\n",
    "sarasas = [18, 22, 5, 8, 16]\n",
    "\n",
    "def nulintasSarasas(sarasas) :\n",
    "    rezultatas = []\n",
    "\n",
    "    for indeksas, skaicius in enumerate(sarasas) : \n",
    "        if skaicius > 15 and indeksas % 2 == 0:\n",
    "            rezultatas.append(0)\n",
    "        else : \n",
    "            rezultatas.append(skaicius)\n",
    "\n",
    "    return rezultatas\n",
    "\n",
    "\n",
    "print(nulintasSarasas(sarasas)) "
   ]
  },
  {
   "cell_type": "code",
   "execution_count": null,
   "metadata": {},
   "outputs": [
    {
     "name": "stdout",
     "output_type": "stream",
     "text": [
      "[0, 0, 5, 8, 0]\n"
     ]
    }
   ],
   "source": [
    "sarasas = [18, 22, 5, 8, 16]\n",
    "\n",
    "print(list(map(lambda skaicius : skaicius if skaicius <= 15 else 0, sarasas)))"
   ]
  },
  {
   "cell_type": "code",
   "execution_count": 15,
   "metadata": {},
   "outputs": [
    {
     "name": "stdout",
     "output_type": "stream",
     "text": [
      "[88, 44, 28, 23]\n"
     ]
    }
   ],
   "source": [
    "# Filter funkcijos panaudojimas\n",
    "# filter() funkcija skirta išmesti iš sąrašo netinkamas reikšmes pagal sąlygą kuri nurodyta funkcijoje\n",
    "# Filter() callback funkcija grąžina tik du galimus atsakymas: True arba False \n",
    "\n",
    "def filtravimas(skaicius) :\n",
    "    if skaicius > 15 :\n",
    "        return True\n",
    "    else :\n",
    "        return False\n",
    "    \n",
    "sarasas = [88, 2, 44, 28, 23]\n",
    "\n",
    "# filtravimas(sarasas[0])\n",
    "# filtravimas(sarasas[1])\n",
    "\n",
    "print(list(filter(filtravimas, sarasas)))"
   ]
  },
  {
   "cell_type": "code",
   "execution_count": 17,
   "metadata": {},
   "outputs": [
    {
     "name": "stdout",
     "output_type": "stream",
     "text": [
      "[88, 44, 28, 23]\n"
     ]
    }
   ],
   "source": [
    "sarasas = [88, 2, 44, 28, 23]\n",
    "\n",
    "# filtravimas(sarasas[0])\n",
    "# filtravimas(sarasas[1])\n",
    "\n",
    "print(list(filter(lambda skaicius : skaicius > 15, sarasas)))"
   ]
  },
  {
   "cell_type": "code",
   "execution_count": null,
   "metadata": {},
   "outputs": [
    {
     "name": "stdout",
     "output_type": "stream",
     "text": [
      "['Telefonas 109.99', 'AKCIJA! Televizorius Buvusi kaina: 299.99, Dabartinė kaina: 199.99']\n"
     ]
    }
   ],
   "source": [
    "produktai = [\n",
    "    {\n",
    "        \"pavadinimas\": \"Telefonas\",\n",
    "        \"kaina\": 109.99,\n",
    "        \"specialiKaina\": 109.99\n",
    "    },\n",
    "    # Telefonas 109.99\n",
    "    {\n",
    "        \"pavadinimas\": \"Televizorius\",\n",
    "        \"kaina\": 299.99,\n",
    "        \"specialiKaina\": 199.99\n",
    "    }\n",
    "    # AKCIJA! Televizorius Buvusi kaina: 299.99, Dabartinė kaina: 199.99\n",
    "]\n",
    "\n",
    "rezultatas = []\n",
    "\n",
    "for produktas in produktai : \n",
    "    if produktas[\"specialiKaina\"] < produktas[\"kaina\"] :\n",
    "        rezultatas.append(f\"AKCIJA! {produktas[\"pavadinimas\"]} Buvusi kaina: {produktas[\"kaina\"]}, Dabartinė kaina: {produktas[\"specialiKaina\"]}\")\n",
    "    else : \n",
    "        rezultatas.append(f\"{produktas[\"pavadinimas\"]} {produktas[\"kaina\"]}\")\n",
    "\n",
    "print(rezultatas)\n",
    "\n"
   ]
  },
  {
   "cell_type": "code",
   "execution_count": 19,
   "metadata": {},
   "outputs": [
    {
     "name": "stdout",
     "output_type": "stream",
     "text": [
      "['Telefonas 109.99', 'AKCIJA! Televizorius Buvusi kaina: 299.99, Dabartinė kaina: 199.99']\n"
     ]
    }
   ],
   "source": [
    "produktai = [\n",
    "    {\n",
    "        \"pavadinimas\": \"Telefonas\",\n",
    "        \"kaina\": 109.99,\n",
    "        \"specialiKaina\": 109.99\n",
    "    },\n",
    "    # Telefonas 109.99\n",
    "    {\n",
    "        \"pavadinimas\": \"Televizorius\",\n",
    "        \"kaina\": 299.99,\n",
    "        \"specialiKaina\": 199.99\n",
    "    }\n",
    "    # AKCIJA! Televizorius Buvusi kaina: 299.99, Dabartinė kaina: 199.99\n",
    "]\n",
    "\n",
    "print(list(map(lambda produktas : \n",
    "                f\"AKCIJA! {produktas[\"pavadinimas\"]} Buvusi kaina: {produktas[\"kaina\"]}, Dabartinė kaina: {produktas[\"specialiKaina\"]}\" \n",
    "                if produktas[\"specialiKaina\"] < produktas[\"kaina\"] \n",
    "                else  \n",
    "                f\"{produktas[\"pavadinimas\"]} {produktas[\"kaina\"]}\"\n",
    "            , produktai)))"
   ]
  }
 ],
 "metadata": {
  "kernelspec": {
   "display_name": "Python 3",
   "language": "python",
   "name": "python3"
  },
  "language_info": {
   "codemirror_mode": {
    "name": "ipython",
    "version": 3
   },
   "file_extension": ".py",
   "mimetype": "text/x-python",
   "name": "python",
   "nbconvert_exporter": "python",
   "pygments_lexer": "ipython3",
   "version": "3.13.0"
  }
 },
 "nbformat": 4,
 "nbformat_minor": 2
}
