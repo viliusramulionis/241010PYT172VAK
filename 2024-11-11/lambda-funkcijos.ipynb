{
 "cells": [
  {
   "cell_type": "code",
   "execution_count": null,
   "metadata": {},
   "outputs": [
    {
     "name": "stdout",
     "output_type": "stream",
     "text": [
      "37\n",
      "28\n"
     ]
    }
   ],
   "source": [
    "# Aprašykite funkciją kuri priimtų skaičių masyvą ir suskaičiuotų visų jame esančių reikšmių sumą kurios yra didesnės nei 10\n",
    "\n",
    "# DRY principas - Don't repeat yourself\n",
    "\n",
    "def suma(data) :\n",
    "    suma = 0\n",
    "\n",
    "    for skaicius in data :\n",
    "        if skaicius > 10 :\n",
    "            suma += skaicius\n",
    "\n",
    "    return suma\n",
    "\n",
    "print(suma([15, 5, 4, 22]))\n",
    "print(suma([5, 28, 1, 0]))\n",
    "\n"
   ]
  },
  {
   "cell_type": "code",
   "execution_count": null,
   "metadata": {},
   "outputs": [
    {
     "name": "stdout",
     "output_type": "stream",
     "text": [
      "37\n",
      "22\n"
     ]
    }
   ],
   "source": [
    "# Aprašykite funkciją kuri priimtų skaičių masyvą ir suskaičiuotų visų jame esančių reikšmių sumą kurios yra didesnės nei 10\n",
    "\n",
    "def salyga(skaicius, riba) :\n",
    "    if skaicius > riba :\n",
    "        return skaicius\n",
    "    else : \n",
    "        return 0\n",
    "\n",
    "def suma(data, riba) :\n",
    "    suma = 0\n",
    "\n",
    "    for skaicius in data :\n",
    "        suma += salyga(skaicius, riba)\n",
    "\n",
    "    return suma\n",
    "\n",
    "# Suma skaiciu kurie yra didesni nei 10\n",
    "print(suma([15, 5, 4, 22], 10))\n",
    "\n",
    "# Suma skaiciu kurie yra didesni nei 15\n",
    "print(suma([15, 5, 4, 22], 15))"
   ]
  },
  {
   "cell_type": "code",
   "execution_count": 25,
   "metadata": {},
   "outputs": [
    {
     "name": "stdout",
     "output_type": "stream",
     "text": [
      "<function suma at 0x00000161ABF5ECA0>\n",
      "Funkcija veikia\n"
     ]
    }
   ],
   "source": [
    "def suma() :\n",
    "    print(\"Funkcija veikia\")\n",
    "\n",
    "# Funkcija yra aktyvuojama tik tokiu atveju, jei šalia jos pavadinimo prirašomi skliausteliai\n",
    "print(suma)    \n",
    "\n",
    "funkcija = suma\n",
    "\n",
    "funkcija()"
   ]
  },
  {
   "cell_type": "code",
   "execution_count": 26,
   "metadata": {},
   "outputs": [
    {
     "name": "stdout",
     "output_type": "stream",
     "text": [
      "Callback funkcija iššaukta\n"
     ]
    }
   ],
   "source": [
    "def suma(funkcija) :\n",
    "    funkcija()\n",
    "\n",
    "def pirmaKondicija() :\n",
    "    print(\"Callback funkcija iššaukta\")\n",
    "\n",
    "suma(pirmaKondicija)"
   ]
  },
  {
   "cell_type": "code",
   "execution_count": 27,
   "metadata": {},
   "outputs": [
    {
     "name": "stdout",
     "output_type": "stream",
     "text": [
      "Pirma Callback funkcija iššaukta\n",
      "Antra Callback funkcija iššaukta\n"
     ]
    }
   ],
   "source": [
    "def suma(funkcija) :\n",
    "    funkcija()\n",
    "\n",
    "def pirmaKondicija() :\n",
    "    print(\"Pirma Callback funkcija iššaukta\")\n",
    "\n",
    "def antraKondicija() :\n",
    "    print(\"Antra Callback funkcija iššaukta\")\n",
    "\n",
    "suma(pirmaKondicija)\n",
    "suma(antraKondicija)"
   ]
  },
  {
   "cell_type": "code",
   "execution_count": 30,
   "metadata": {},
   "outputs": [
    {
     "name": "stdout",
     "output_type": "stream",
     "text": [
      "37\n",
      "22\n"
     ]
    }
   ],
   "source": [
    "# Aprašykite funkciją kuri priimtų skaičių masyvą ir suskaičiuotų visų jame esančių reikšmių sumą kurios yra didesnės nei 10 ir mažesnės nei 50\n",
    "\n",
    "def didesniNeiDesimtirMazesniNeiPenkiasdesimt(skaicius) :\n",
    "    if skaicius > 10 and skaicius < 50 :\n",
    "        return skaicius\n",
    "    else : \n",
    "        return 0\n",
    "    \n",
    "def didesniNeiPenkiolika(skaicius) :\n",
    "    if skaicius > 15 :\n",
    "        return skaicius\n",
    "    else : \n",
    "        return 0\n",
    "\n",
    "def suma(data, callback) :\n",
    "    # callback function (atsišaukiamoji funkcija) panaudojimas\n",
    "    suma = 0\n",
    "    \n",
    "    for skaicius in data :\n",
    "        suma += callback(skaicius)\n",
    "\n",
    "    return suma\n",
    "\n",
    "# Suma skaiciu kurie yra didesni nei 10\n",
    "print(suma([15, 5, 4, 22], didesniNeiDesimtirMazesniNeiPenkiasdesimt))\n",
    "\n",
    "# Suma skaiciu kurie yra didesni nei 15\n",
    "print(suma([15, 5, 4, 22], didesniNeiPenkiolika))"
   ]
  },
  {
   "cell_type": "code",
   "execution_count": null,
   "metadata": {},
   "outputs": [
    {
     "name": "stdout",
     "output_type": "stream",
     "text": [
      "Antra funkcija veikia\n"
     ]
    }
   ],
   "source": [
    "def funkcija() :\n",
    "    print(\"Pirma funkcija veikia\")\n",
    "\n",
    "def funkcija() :\n",
    "    print(\"Antra funkcija veikia\")\n",
    "\n",
    "funkcija()"
   ]
  },
  {
   "cell_type": "code",
   "execution_count": null,
   "metadata": {},
   "outputs": [
    {
     "name": "stdout",
     "output_type": "stream",
     "text": [
      "30\n"
     ]
    }
   ],
   "source": [
    "# Labda funkcijos aprašymas:\n",
    "# Naudojamas raktažodis lambda nurodo, jog tai bus vienos eilutės funkcija\n",
    "# a ir b yra parametrai kurie yra priimami funkcijoje\n",
    "# dvitaškis nurodo koks vienos eilutės veiksmas bus atliekamas funkcijoje\n",
    "# atliktas veiksmas yra tas pats kaip, kad normalioje funkcijoje aprašytas veiksmas prie return komandos\n",
    "suma = lambda a, b : a + b\n",
    "\n",
    "print(suma(10, 20))\n",
    "\n",
    "# Toks pat aprašymas su normalia funkcija:\n",
    "\n",
    "# def suma(a, b) :\n",
    "#     return a + b\n",
    "\n",
    "\n",
    "\n",
    "\n"
   ]
  },
  {
   "cell_type": "code",
   "execution_count": 38,
   "metadata": {},
   "outputs": [
    {
     "name": "stdout",
     "output_type": "stream",
     "text": [
      "37\n",
      "22\n"
     ]
    }
   ],
   "source": [
    "# Aprašykite funkciją kuri priimtų skaičių masyvą ir suskaičiuotų visų jame esančių reikšmių sumą kurios yra didesnės nei 10 ir mažesnės nei 50\n",
    "def suma(data, callback) :\n",
    "    # callback function (atsišaukiamoji funkcija) panaudojimas\n",
    "    suma = 0\n",
    "    \n",
    "    for skaicius in data :\n",
    "        suma += callback(skaicius)\n",
    "\n",
    "    return suma\n",
    "\n",
    "# Suma skaiciu kurie yra didesni nei 10 ir mazesni nei 50\n",
    "print(suma([15, 5, 4, 22], lambda skaicius : skaicius if skaicius > 10 and skaicius < 50 else 0))\n",
    "\n",
    "# Suma skaiciu kurie yra didesni nei 15\n",
    "print(suma([15, 5, 4, 22], lambda skaicius : skaicius if skaicius > 15 else 0 ))"
   ]
  },
  {
   "cell_type": "code",
   "execution_count": 41,
   "metadata": {},
   "outputs": [
    {
     "name": "stdout",
     "output_type": "stream",
     "text": [
      "19\n"
     ]
    }
   ],
   "source": [
    "# Sukurkite funkciją kuri suskaičiuotų visų porinių (lyginių) indeksų reikšmių sumą;\n",
    "\n",
    "def suma(data, callback) :\n",
    "    # callback function (atsišaukiamoji funkcija) panaudojimas\n",
    "    suma = 0\n",
    "    \n",
    "    for indeksas, skaicius in enumerate(data) :\n",
    "        suma += callback(skaicius, indeksas)\n",
    "\n",
    "    return suma\n",
    "\n",
    "print(suma([15, 5, 4, 22], lambda skaicius, indeksas : skaicius if indeksas % 2 == 0 else 0))\n",
    "\n",
    "# Suma skaiciu kurie yra didesni nei 15\n",
    "# print(suma([15, 5, 4, 22], lambda skaicius : skaicius if skaicius > 15 else 0 ))"
   ]
  },
  {
   "cell_type": "code",
   "execution_count": 49,
   "metadata": {},
   "outputs": [
    {
     "name": "stdout",
     "output_type": "stream",
     "text": [
      "37\n",
      "19\n"
     ]
    }
   ],
   "source": [
    "def suma(data, callback) :\n",
    "    # callback function (atsišaukiamoji funkcija) panaudojimas\n",
    "    suma = 0\n",
    "    \n",
    "    for indeksas, skaicius in enumerate(data) :\n",
    "        suma += callback(skaicius, indeksas)\n",
    "\n",
    "    return suma\n",
    "\n",
    "# Aprašykite funkciją kuri priimtų skaičių masyvą ir suskaičiuotų visų jame esančių reikšmių sumą kurios yra didesnės nei 10\n",
    "print(suma([15, 5, 4, 22], lambda skaicius, indeksas : skaicius if skaicius > 10 else 0))\n",
    "\n",
    "print(suma([15, 5, 4, 22], lambda skaicius, indeksas : skaicius if indeksas % 2 == 0 else 0))\n"
   ]
  },
  {
   "cell_type": "code",
   "execution_count": null,
   "metadata": {},
   "outputs": [],
   "source": [
    "def suma(data, callback) :\n",
    "    suma = 0\n",
    "    for indeksas,skaicius in enumerate(data):\n",
    "        if indeksas % 2 == 0:\n",
    "            suma += callback(skaicius)\n",
    "        print(\"Indeksas: \", indeksas)\n",
    "    return suma\n",
    "\n",
    "def sumaSkaiciuKurieYraDidesniNei10(data, callback) :\n",
    "    suma = 0\n",
    "    for indeksas,skaicius in enumerate(data):\n",
    "        if skaicius > 10:\n",
    "            suma += callback(skaicius)\n",
    "        print(\"Indeksas: \", indeksas)\n",
    "    return suma\n",
    "\n",
    "print(\"Lyginiu/poriniu indeksu suma:\", suma([15,5,4,22], lambda indeksas : indeksas ))\n",
    "\n"
   ]
  }
 ],
 "metadata": {
  "kernelspec": {
   "display_name": "Python 3",
   "language": "python",
   "name": "python3"
  },
  "language_info": {
   "codemirror_mode": {
    "name": "ipython",
    "version": 3
   },
   "file_extension": ".py",
   "mimetype": "text/x-python",
   "name": "python",
   "nbconvert_exporter": "python",
   "pygments_lexer": "ipython3",
   "version": "3.13.0"
  }
 },
 "nbformat": 4,
 "nbformat_minor": 2
}
