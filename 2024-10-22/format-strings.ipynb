{
 "cells": [
  {
   "cell_type": "code",
   "execution_count": 15,
   "metadata": {},
   "outputs": [
    {
     "name": "stdout",
     "output_type": "stream",
     "text": [
      "Mano vardas yra 11.000\n",
      "Mano vardas yra 11.00\n",
      "Populiariausiu gamintoju išrinktas Acer, antroje vietoje HP, trečioje Apple\n",
      "Populiariausiu gamintoju išrinktas Acer, antroje vietoje HP, trečioje Apple\n"
     ]
    }
   ],
   "source": [
    "skaicius = 10.9999999\n",
    "\n",
    "print(\"Mano vardas yra {:.3f}\".format(skaicius))\n",
    "\n",
    "print(f\"Mano vardas yra {skaicius:.2f}\")\n",
    "\n",
    "pirmas = 'Acer'\n",
    "antras = 'HP'\n",
    "trecias = 'Apple'\n",
    "\n",
    "print(f\"Populiariausiu gamintoju išrinktas {pirmas}, antroje vietoje {antras}, trečioje {trecias}\")\n",
    "\n",
    "print(\"Populiariausiu gamintoju išrinktas {pirmas}, antroje vietoje {antras}, trečioje {trecias}\".format(pirmas = 'Acer', antras = 'HP', trecias = \"Apple\"))\n",
    "\n",
    "rezultatas = f\"Skaicius yra {skaicius}\"\n",
    "print(rezultatas)"
   ]
  },
  {
   "cell_type": "code",
   "execution_count": null,
   "metadata": {},
   "outputs": [],
   "source": []
  }
 ],
 "metadata": {
  "kernelspec": {
   "display_name": "Python 3",
   "language": "python",
   "name": "python3"
  },
  "language_info": {
   "codemirror_mode": {
    "name": "ipython",
    "version": 3
   },
   "file_extension": ".py",
   "mimetype": "text/x-python",
   "name": "python",
   "nbconvert_exporter": "python",
   "pygments_lexer": "ipython3",
   "version": "3.13.0"
  }
 },
 "nbformat": 4,
 "nbformat_minor": 2
}
