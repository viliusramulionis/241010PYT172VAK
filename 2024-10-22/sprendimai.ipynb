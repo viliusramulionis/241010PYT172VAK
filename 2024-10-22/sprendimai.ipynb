{
 "cells": [
  {
   "cell_type": "code",
   "execution_count": 1,
   "metadata": {},
   "outputs": [
    {
     "name": "stdout",
     "output_type": "stream",
     "text": [
      "Jūs galite balsuoti\n"
     ]
    }
   ],
   "source": [
    "# Liepkite vartotojui suvesti savo amžių. Patikrinkite ar amžius\n",
    "# yra didesnis arba lygus 18-ai, jei taip - išveskite “jūs galite\n",
    "# balsuoti”\n",
    "\n",
    "\n",
    "amzius = int(input(\"Suveskite savo amžių: \"))\n",
    "\n",
    "if amzius >= 18 :\n",
    "    print(\"Jūs galite balsuoti\")  \n",
    "else :\n",
    "    print(\"Susitikite per kitus rinkimus\")"
   ]
  },
  {
   "cell_type": "code",
   "execution_count": 5,
   "metadata": {},
   "outputs": [
    {
     "name": "stdout",
     "output_type": "stream",
     "text": [
      "Vidurkis yra: 4.00\n"
     ]
    }
   ],
   "source": [
    "# Leiskite vartotojui suvesti norimą kiekį pažymių (pavyzdžiui,\n",
    "# jūs nusimatote 3-is kintamuosius, tai leidžiate padaryti 3\n",
    "# įvedimus). Raskite šių pažymių vidurkį. Patikrinkite ar\n",
    "# vidurkis teigiamas (daugiau arba lygu 5-iems), jei taip -\n",
    "# išveskite 'vidurkis teigiamas'.\n",
    "\n",
    "pirmas = int(input(\"Įveskite pirmajį pažymį: \"))\n",
    "antras = int(input(\"Įveskite antrajį pažymį: \"))\n",
    "trecias = int(input(\"Įveskite trečiajį pažymį: \"))\n",
    "\n",
    "vidurkis = (pirmas + antras + trecias) / 3\n",
    "\n",
    "print(f\"Vidurkis yra: {vidurkis:.2f}\")\n",
    "\n",
    "if vidurkis >= 5 :\n",
    "    print(\"Vidurkis yra teigiamas\") "
   ]
  },
  {
   "cell_type": "code",
   "execution_count": 27,
   "metadata": {},
   "outputs": [
    {
     "name": "stdout",
     "output_type": "stream",
     "text": [
      "Įvestas skaičius: 18 Kvadratas: 324 Dalyba: 9.0\n",
      "Gauta suma: 25 Gautas skirtumas 11\n"
     ]
    }
   ],
   "source": [
    "# Susikurkite skaičiaus kintamąjį arba leiskite šį skaičių įvesti vartotojui.\n",
    "\n",
    "skaicius = int(input(\"Įveskite skaičių:\"))\n",
    "\n",
    "# Atlikite šiuos patikrinimus ir veiksmus:\n",
    "# 1. Jei skaičius dalinasi iš 5, tuomet išveskite šio skaičiaus\n",
    "# daugybos lentelę nuo 1 iki 5.\n",
    "\n",
    "if skaicius % 5 == 0 :\n",
    "    print(skaicius * 1)\n",
    "    print(skaicius * 2)\n",
    "    print(skaicius * 3)\n",
    "    print(skaicius * 4)\n",
    "    print(skaicius * 5)\n",
    "\n",
    "# 2. Jei skaičius lyginis, tuomet išveskite šį skaičių, jo kvadratą ir\n",
    "# jį padalintą iš 2.\n",
    "\n",
    "if skaicius % 2 == 0 :\n",
    "    # print(skaicius, skaicius * skaicius, skaicius / 2)\n",
    "    print(f\"Įvestas skaičius: {skaicius} Kvadratas: {skaicius * skaicius} Dalyba: {skaicius / 2}\")\n",
    "    # print(\"Hi\", \"Hello\", sep = \"-\", end = \"; Reikšmės baigėsi\" )\n",
    "\n",
    "# Jei skaičius nesidalina iš 7, tuomet susikurkite antrąjį\n",
    "# kintamąjį, išveskite šio skaičiaus ir 7-to sumą, skirtumą,\n",
    "\n",
    "if skaicius % 7 != 0 :\n",
    "    print(f\"Gauta suma: {skaicius + 7} Gautas skirtumas {skaicius - 7}\")\n",
    "\n",
    "\n"
   ]
  },
  {
   "cell_type": "code",
   "execution_count": 31,
   "metadata": {},
   "outputs": [
    {
     "name": "stdout",
     "output_type": "stream",
     "text": [
      "Skaičiai yra lygūs\n"
     ]
    }
   ],
   "source": [
    "# Parašyti programą, kuri paklaustų dviejų skaičių, ir juos palygintų.\n",
    "\n",
    "pirmas = int(input(\"Įveskite pirmą skaičių:\"))\n",
    "antras = int(input(\"Įveskite antrą skaičių:\"))\n",
    "\n",
    "if pirmas > antras :\n",
    "    print(\"Pirmas skaičius yra didesnis nei antras\")\n",
    "elif pirmas == antras :\n",
    "    print(\"Skaičiai yra lygūs\")\n",
    "else : \n",
    "    print(\"Antras skaičius yra didesnis nei pirmas\")"
   ]
  },
  {
   "cell_type": "code",
   "execution_count": 40,
   "metadata": {},
   "outputs": [
    {
     "name": "stdout",
     "output_type": "stream",
     "text": [
      "Radome tokį žodį arba frazę mūsų tekste\n"
     ]
    }
   ],
   "source": [
    "# Paklausti teksto, ir patikrinti, ar tas tekstas yra sakinyje \n",
    "# \"Vilnius yra UNESCO paveldas nuo 1996 metų.\"\n",
    "\n",
    "ivestasTekstas = input(\"Įveskite tekstą\")\n",
    "\n",
    "tekstas = \"Vilnius yra UNESCO paveldas nuo 1996 metų.\"\n",
    "\n",
    "if ivestasTekstas.lower() in tekstas.lower() :\n",
    "    print(\"Radome tokį žodį arba frazę mūsų tekste\")\n"
   ]
  },
  {
   "cell_type": "code",
   "execution_count": 46,
   "metadata": {},
   "outputs": [
    {
     "name": "stdout",
     "output_type": "stream",
     "text": [
      "15 yra tarp 10 ir 20\n",
      "15 yra tarp 10 ir 20\n",
      "15\n"
     ]
    }
   ],
   "source": [
    "# Patikrinti įvestą skaičių, ar jis yra tarp 10 ir 20. Pavyzdžiui,įvedus 15, turi spausdinti: \"15 yra tarp 10 ir 20\"\n",
    "\n",
    "skaicius = int(input(\"Įveskite skaičių\"))\n",
    "\n",
    "if skaicius >= 10 and skaicius <= 20 :\n",
    "    print(f\"{skaicius} yra tarp 10 ir 20\")\n",
    "\n",
    "\n",
    "if skaicius >= 10 :\n",
    "    if skaicius <= 20 :\n",
    "        print(f\"{skaicius} yra tarp 10 ir 20\")\n",
    "\n"
   ]
  },
  {
   "cell_type": "code",
   "execution_count": 50,
   "metadata": {},
   "outputs": [
    {
     "name": "stdout",
     "output_type": "stream",
     "text": [
      "Skaičius yra lyginis\n"
     ]
    }
   ],
   "source": [
    "# • Patikrinti, ar vartotojo įvestas skaičius yra lyginis, ar ne.\n",
    "\n",
    "skaicius = int(input(\"Įveskite skaičių\"))\n",
    "\n",
    "if skaicius % 2 == 0 :\n",
    "    print(\"Skaičius yra lyginis\")"
   ]
  },
  {
   "cell_type": "code",
   "execution_count": 59,
   "metadata": {},
   "outputs": [
    {
     "name": "stdout",
     "output_type": "stream",
     "text": [
      "16\n"
     ]
    }
   ],
   "source": [
    "# • parašyti programą 'FizzBuzz'. Įvedus skaičių, kuris dalinasi\n",
    "# iš 3, spausdinamas žodis \"Fizz\", jei dalinasi iš 5 - \"Buzz\", o jei\n",
    "# dalinasi ir iš 3 ir iš 5 - \"FizzBuzz\". Jei nesidalina nei iš 3, nei iš\n",
    "# 5 - spausdinamas įvestas skaičius.\n",
    "\n",
    "skaicius = int(input(\"Įveskite skaičių\"))\n",
    "\n",
    "if skaicius % 3 == 0 and skaicius % 5 == 0 :\n",
    "    print(\"FizzBuzz\")\n",
    "\n",
    "elif skaicius % 3 == 0 :\n",
    "    print(\"Fizz\")\n",
    "\n",
    "elif skaicius % 5 == 0 :\n",
    "    print(\"Buzz\")\n",
    "\n",
    "else :\n",
    "    print(skaicius)\n",
    "\n",
    "\n",
    "# if skaicius % 3 == 0 :\n",
    "#     if skaicius % 5 == 0 :\n",
    "#         print(\"FizzBuzz\")\n",
    "#     else :\n",
    "#         print(\"FIzz\")\n",
    "# else : \n",
    "#     if skaicius % 5 == 0 :\n",
    "#         print(\"Buzz\")\n",
    "#     else :\n",
    "#         print(skaicius)\n",
    "\n",
    "\n"
   ]
  },
  {
   "cell_type": "code",
   "execution_count": 70,
   "metadata": {},
   "outputs": [
    {
     "name": "stdout",
     "output_type": "stream",
     "text": [
      "Tekste vien tik raidės\n",
      "Tekste nėra specialiųjų simbolių\n",
      "Tekstas iš didžiųjų raidžių\n"
     ]
    }
   ],
   "source": [
    "# Patikrinkite vartotojo įvestą tekstą:\n",
    "\n",
    "# Ar vartotojas apskritai ką nors įvedė?\n",
    "\n",
    "tekstas = input(\"Įveskite tekstą:\")\n",
    "\n",
    "if tekstas == \"\" :\n",
    "    tekstas = input(\"Įveskite tekstą:\")\n",
    "\n",
    "# • Ar jame vien tik skaičiai?\n",
    "if tekstas.isnumeric() :\n",
    "    print(\"Įvesta vien tik skaičiai\")\n",
    "\n",
    "# Ar jame vien tik raidės?\n",
    "if tekstas.isalpha() :\n",
    "    print(\"Tekste vien tik raidės\")\n",
    "\n",
    "# Ar jame nėra specialiųjų simbolių?\n",
    "if tekstas.isalnum() :\n",
    "    print(\"Tekste nėra specialiųjų simbolių\")\n",
    "\n",
    "# Kokiu registru parašytas tekstas?\n",
    "if tekstas.islower() :\n",
    "    print(\"Tekstas iš mažūjų raidžių\")\n",
    "elif tekstas.isupper() :\n",
    "    print(\"Tekstas iš didžiųjų raidžių\")\n",
    "else :\n",
    "    print(\"Mišrus tekstas\")"
   ]
  },
  {
   "cell_type": "code",
   "execution_count": null,
   "metadata": {},
   "outputs": [],
   "source": []
  }
 ],
 "metadata": {
  "kernelspec": {
   "display_name": "Python 3",
   "language": "python",
   "name": "python3"
  },
  "language_info": {
   "codemirror_mode": {
    "name": "ipython",
    "version": 3
   },
   "file_extension": ".py",
   "mimetype": "text/x-python",
   "name": "python",
   "nbconvert_exporter": "python",
   "pygments_lexer": "ipython3",
   "version": "3.13.0"
  }
 },
 "nbformat": 4,
 "nbformat_minor": 2
}
