{
 "cells": [
  {
   "cell_type": "code",
   "execution_count": null,
   "metadata": {},
   "outputs": [
    {
     "name": "stdout",
     "output_type": "stream",
     "text": [
      "25\n",
      "(25, (1, 4))\n"
     ]
    }
   ],
   "source": [
    "# Aprašykite funkciją kuri rastų didžiausią masyvo reikšmę. Priskirkite papildomą parametrą kurį perdavus \n",
    "# funkcija taipogi grąžintų ir didžiausio skaičiaus indeksą arba indeksus jeigu yra keli;\n",
    "\n",
    "def findBiggestNumber(data, findIndex = None) :\n",
    "    number = max(data)\n",
    "\n",
    "    if findIndex :\n",
    "        indexes = []\n",
    "\n",
    "        for index, value in enumerate(data) :\n",
    "            if number == value :\n",
    "                indexes.append(index)\n",
    "\n",
    "        return number, tuple(indexes)\n",
    "\n",
    "    return number\n",
    "\n",
    "print(findBiggestNumber([15, 25, 18, 24, 25]))\n",
    "print(findBiggestNumber([15, 25, 18, 24, 25], True))"
   ]
  },
  {
   "cell_type": "code",
   "execution_count": null,
   "metadata": {},
   "outputs": [
    {
     "name": "stdout",
     "output_type": "stream",
     "text": [
      "25\n"
     ]
    }
   ],
   "source": [
    "def findBiggestNumber(data) :\n",
    "    didziausias = 0\n",
    "\n",
    "    for skaicius in data :\n",
    "        if skaicius > didziausias :\n",
    "            didziausias = skaicius\n",
    "\n",
    "    return didziausias\n",
    "\n",
    "\n",
    "print(findBiggestNumber([15, 25, 18, 24, 25, 5]))"
   ]
  },
  {
   "cell_type": "code",
   "execution_count": 24,
   "metadata": {},
   "outputs": [
    {
     "name": "stdout",
     "output_type": "stream",
     "text": [
      "([15, 18], [25, 24])\n"
     ]
    }
   ],
   "source": [
    "# Sukurkite funkciją kuri priimtų sąrašą ir grąžintų du naujus. Pirmas turi būti \n",
    "# sudarytas iš neporinių indeksų reikšmių, o kitas iš porinių; Aprašykite papildomą priimamą \n",
    "# parametrą kurį perdavus reikšmės grąžinamuose sąrašuose būtų unikalios.\n",
    "\n",
    "def splitList(data, unique = None) :\n",
    "    lyginiai = []\n",
    "    nelyginiai = []\n",
    "\n",
    "    for index, value in enumerate(data) :\n",
    "        if index % 2 == 0 :\n",
    "            if unique and value not in lyginiai :\n",
    "                lyginiai.append(value)\n",
    "        else :\n",
    "            if unique and value not in nelyginiai :\n",
    "                nelyginiai.append(value)\n",
    "\n",
    "        \n",
    "\n",
    "    return lyginiai, nelyginiai\n",
    "\n",
    "print(splitList([15, 25, 18, 24, 15, 25], True))"
   ]
  },
  {
   "cell_type": "code",
   "execution_count": 26,
   "metadata": {},
   "outputs": [
    {
     "name": "stdout",
     "output_type": "stream",
     "text": [
      "((18, 15), (24, 25))\n"
     ]
    }
   ],
   "source": [
    "# Sukurkite funkciją kuri priimtų sąrašą ir grąžintų du naujus. Pirmas turi būti \n",
    "# sudarytas iš neporinių indeksų reikšmių, o kitas iš porinių; Aprašykite papildomą priimamą \n",
    "# parametrą kurį perdavus reikšmės grąžinamuose sąrašuose būtų unikalios.\n",
    "\n",
    "def splitList(data, unique = None) :\n",
    "    lyginiai = []\n",
    "    nelyginiai = []\n",
    "\n",
    "    for index, value in enumerate(data) :\n",
    "        if index % 2 == 0 :\n",
    "            lyginiai.append(value)\n",
    "        else :\n",
    "            nelyginiai.append(value)\n",
    "\n",
    "    if unique :\n",
    "        lyginiai = tuple(set(lyginiai))\n",
    "        nelyginiai = tuple(set(nelyginiai))\n",
    "        \n",
    "\n",
    "    return lyginiai, nelyginiai\n",
    "\n",
    "print(splitList([15, 25, 18, 24, 15, 25], True))"
   ]
  },
  {
   "cell_type": "code",
   "execution_count": null,
   "metadata": {},
   "outputs": [
    {
     "name": "stdout",
     "output_type": "stream",
     "text": [
      "2\n",
      "[2, 3, 4]\n"
     ]
    }
   ],
   "source": [
    "# Sukurkite funkciją kuri priimtų skaičius kaip parametrus (Ne kaip sąrašą) \n",
    "# ir grąžintų pirmo skaičiaus indeksą kurio reikšmė didesnė nei dešimt. \n",
    "# Patalpinkite papildomą pasirenkamą parametrą, kurį perdavus grąžinami visų skaičių kurie yra didesni nei dešimt indeksai.\n",
    "\n",
    "def didesniNeiDesimt(*data, visiIndeksai = None) :\n",
    "    indeksai = []\n",
    "\n",
    "    for indeksas, skaicius in enumerate(data) :\n",
    "        if skaicius > 10 :\n",
    "            indeksai.append(indeksas)\n",
    "\n",
    "            if not visiIndeksai : \n",
    "                return indeksas\n",
    "\n",
    "    return indeksai\n",
    "    \n",
    " \n",
    "print(didesniNeiDesimt(2, 5, 18, 24, 25, 5))\n",
    "print(didesniNeiDesimt(2, 5, 18, 24, 25, 5, visiIndeksai=True))"
   ]
  },
  {
   "cell_type": "code",
   "execution_count": 33,
   "metadata": {},
   "outputs": [
    {
     "name": "stdout",
     "output_type": "stream",
     "text": [
      "[2, 59, 17, 19]\n",
      "[2, 59, 17, 19]\n"
     ]
    }
   ],
   "source": [
    "# 3. Jums duotas stringas: “54 77 2 59 17 19 108”. Aprašykite funkciją kuri priima parametrą kaip stringą, sąrašą arba argumentus perduotus per kablelį. \n",
    "# Paimkite visus perduotus skaičius ir patikrinkite juos ar jie yra pirminiai. T.y. ar natūralusis skaičius yra didesnis nei 1 ir be liekanos dalinasi tik iš savęs ir iš vieneto. \n",
    "# https://en.wikipedia.org/wiki/Prime_number \n",
    "# Funkcija turi grąžinti visus skaičius kurie yra pirminiai iš anksčiau perduotų.\n",
    "# Rezultatas kurio tikimasi: [2, 59, 17, 19]\n",
    "\n",
    "# 11\n",
    "\n",
    "# print(10 % 2) \n",
    "# print(10 % 3) \n",
    "# print(10 % 4) \n",
    "# print(10 % 5) \n",
    "# print(10 % 6) \n",
    "# print(10 % 7) \n",
    "# print(10 % 8) \n",
    "# print(10 % 9) \n",
    "\n",
    "def arPirminis(skaicius) :\n",
    "    for daliklis in range(2, skaicius - 1) : \n",
    "        if skaicius % daliklis == 0 :\n",
    "            return False\n",
    "\n",
    "    return True\n",
    "\n",
    "# arPirminis(59)\n",
    "\n",
    "def rastiPirminiusSkaicius(*skaiciai) :\n",
    "    # if type(skaiciai[0]) is str :\n",
    "    if isinstance(skaiciai[0], str) :\n",
    "        konvertavimas = []\n",
    "        for skaicius in skaiciai[0].split() :\n",
    "            konvertavimas.append(int(skaicius))\n",
    "\n",
    "        skaiciai = konvertavimas\n",
    "\n",
    "    rezultatas = []\n",
    "\n",
    "    for skaicius in skaiciai :\n",
    "        if arPirminis(skaicius) :\n",
    "            rezultatas.append(skaicius)\n",
    "\n",
    "    return rezultatas\n",
    "\n",
    "\n",
    "print(rastiPirminiusSkaicius(54, 77, 2, 59, 17, 19, 108))\n",
    "print(rastiPirminiusSkaicius(\"54 77 2 59 17 19 108\"))\n"
   ]
  },
  {
   "cell_type": "code",
   "execution_count": null,
   "metadata": {},
   "outputs": [
    {
     "name": "stdout",
     "output_type": "stream",
     "text": [
      "['[-9]', '{25}', '{34}', '{2}', '(0)']\n"
     ]
    }
   ],
   "source": [
    "# Jums duotas sąrašas su skaičiais: [-9, 25, 34, 2, 0]\n",
    "# Neigiamus skaičius apgliaubkite laužtiniais skliaustais []\n",
    "# 0 - ()\n",
    "# Teigiamus - {}\n",
    "\n",
    "def skaiciausFormatavimas(skaicius) :\n",
    "    if skaicius < 0 :\n",
    "        return f\"[{skaicius}]\"\n",
    "    \n",
    "    if skaicius == 0 :\n",
    "        return f\"({skaicius})\"\n",
    "    \n",
    "    if skaicius > 0 :\n",
    "        return \"{\" + str(skaicius) + \"}\"\n",
    "\n",
    "print(list(map(skaiciausFormatavimas, [-9, 25, 34, 2, 0])))"
   ]
  },
  {
   "cell_type": "code",
   "execution_count": 37,
   "metadata": {},
   "outputs": [
    {
     "name": "stdout",
     "output_type": "stream",
     "text": [
      "[2, 59, 17, 19]\n"
     ]
    }
   ],
   "source": [
    "# Duodamas sąrašas: [54 77 2 59 17 19 108]\n",
    "# Pašalinkite iš jo visus skaičius kurie nėra pirminiai.\n",
    "# Rezultatas: [2, 59, 17, 19]\n",
    "\n",
    "def arPirminis(skaicius) :\n",
    "    for daliklis in range(2, skaicius - 1) : \n",
    "        if skaicius % daliklis == 0 :\n",
    "            return False\n",
    "\n",
    "    return True\n",
    "\n",
    "print(list(filter(lambda skaicius : arPirminis(skaicius), [54, 77, 2, 59, 17, 19, 108])))"
   ]
  },
  {
   "cell_type": "code",
   "execution_count": 40,
   "metadata": {},
   "outputs": [
    {
     "data": {
      "text/plain": [
       "'Leonardo DiCaprio stiliaus pamokos, pasimokyti ikoniškiausių pasaulio'"
      ]
     },
     "execution_count": 40,
     "metadata": {},
     "output_type": "execute_result"
    }
   ],
   "source": [
    "# Jums duotas stringas \"Leonardo DiCaprio – 50 metų: stiliaus pamokos, kurių galite pasimokyti iš vieno ikoniškiausių pasaulio vyrų\". \n",
    "# Pašalinkite iš jo visus žodžius kurie yra trumpesni nei 6 simboliai.\n",
    "\n",
    "zodziai = \"Leonardo DiCaprio – 50 metų: stiliaus pamokos, kurių galite pasimokyti iš vieno ikoniškiausių pasaulio vyrų\".split()\n",
    "\n",
    "\" \".join(list(filter(lambda zodis : len(zodis) > 6, zodziai)))"
   ]
  },
  {
   "cell_type": "code",
   "execution_count": 46,
   "metadata": {},
   "outputs": [
    {
     "name": "stdout",
     "output_type": "stream",
     "text": [
      "vilniuscodingschool"
     ]
    }
   ],
   "source": [
    "# gjrgkjxvbsigdvifpjqyzlzxsxzjnvgojlziaofdfnufymsjqsxxyknqcchmpepoljekhydgmfvhwipvopllndyuddcgxnleutsmprxqlcnxxthdhtpnutqocvtuanouumbkmlxexzmc\n",
    "\n",
    "zinute = \"gjrgkjxvbsigdvifpjqyzlzxsxzjnvgojlziaofdfnufymsjqsxxyknqcchmpepoljekhydgmfvhwipvopllndyuddcgxnleutsmprxqlcnxxthdhtpnutqocvtuanouumbkmlxexzmc\"\n",
    "\n",
    "for indeksas in range(0, len(zinute), 7) :\n",
    "    if indeksas != 0 :\n",
    "        print(zinute[indeksas], end = \"\")"
   ]
  },
  {
   "cell_type": "code",
   "execution_count": 47,
   "metadata": {},
   "outputs": [
    {
     "data": {
      "text/plain": [
       "[[10, 25, 35], [15, 10, 25]]"
      ]
     },
     "execution_count": 47,
     "metadata": {},
     "output_type": "execute_result"
    }
   ],
   "source": [
    "[\n",
    "    [10, 25, 35],\n",
    "    [15, 10, 25],\n",
    "]\n",
    "\n"
   ]
  },
  {
   "cell_type": "code",
   "execution_count": null,
   "metadata": {},
   "outputs": [
    {
     "name": "stdout",
     "output_type": "stream",
     "text": [
      "Paslėpta žinutė: vilniuscodingschool\n"
     ]
    }
   ],
   "source": [
    "def issifruoti_zinute(zinute) :\n",
    "    return zinute [::7]\n",
    "\n",
    "uzsifruota_zinute = \"gjrgkjxvbsigdvifpjqyzlzxsxzjnvgojlziaofdfnufymsjqsxxyknqcchmpepoljekhydgmfvhwipvopllndyuddcgxnleutsmprxqlcnxxthdhtpnutqocvtuanouumbkmlxexzmc\"\n",
    "issifruota_zinute = issifruoti_zinute(uzsifruota_zinute)\n",
    "print(\"Paslėpta žinutė:\", issifruota_zinute[1:])\n",
    "\n"
   ]
  }
 ],
 "metadata": {
  "kernelspec": {
   "display_name": "Python 3",
   "language": "python",
   "name": "python3"
  },
  "language_info": {
   "codemirror_mode": {
    "name": "ipython",
    "version": 3
   },
   "file_extension": ".py",
   "mimetype": "text/x-python",
   "name": "python",
   "nbconvert_exporter": "python",
   "pygments_lexer": "ipython3",
   "version": "3.13.0"
  }
 },
 "nbformat": 4,
 "nbformat_minor": 2
}
