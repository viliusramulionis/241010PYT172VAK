{
 "cells": [
  {
   "cell_type": "code",
   "execution_count": null,
   "metadata": {},
   "outputs": [
    {
     "name": "stdout",
     "output_type": "stream",
     "text": [
      "40\n",
      "25\n",
      "15\n"
     ]
    }
   ],
   "source": [
    "# Globali apimtis\n",
    "pirmas = 15\n",
    "\n",
    "def funkcija() :\n",
    "    # Lokali (funkcijos) apimtis\n",
    "    pirmas = 25\n",
    "    amtras = 35\n",
    "\n",
    "    print(pirmas)\n",
    "\n",
    "funkcija()\n",
    "\n",
    "print(pirmas)\n",
    "\n",
    "# Kintamasis antras neegzistuoja už funkcijos ribų\n",
    "# print(antras)"
   ]
  },
  {
   "cell_type": "code",
   "execution_count": 7,
   "metadata": {},
   "outputs": [
    {
     "name": "stdout",
     "output_type": "stream",
     "text": [
      "Suma yra 40\n"
     ]
    }
   ],
   "source": [
    "def suma(*skaiciai) :\n",
    "    return sum(skaiciai)\n",
    "\n",
    "def funkcija() :\n",
    "    # Inkapsuliacija yra duomenų slėpimas, kuomet funkcijos arba kintamieji yra prieinami tik tam tikroje pozicijoje\n",
    "    def suma(a, b) :\n",
    "        return f\"Suma yra {a + b}\"\n",
    "    \n",
    "    print(suma(15, 25))\n",
    "\n",
    "funkcija()"
   ]
  },
  {
   "cell_type": "code",
   "execution_count": null,
   "metadata": {},
   "outputs": [
    {
     "name": "stdout",
     "output_type": "stream",
     "text": [
      "0\n",
      "1\n",
      "2\n",
      "3\n",
      "4\n",
      "5\n",
      "6\n",
      "7\n",
      "8\n",
      "9\n",
      "0\n",
      "1\n",
      "2\n",
      "3\n",
      "4\n",
      "5\n",
      "6\n",
      "7\n",
      "8\n",
      "9\n"
     ]
    }
   ],
   "source": [
    "# Iteracinis ciklas\n",
    "for i in range(0, 10) :\n",
    "    print(i)\n",
    "\n"
   ]
  },
  {
   "cell_type": "code",
   "execution_count": null,
   "metadata": {},
   "outputs": [],
   "source": [
    "# While taipogi yra Iteracinis ciklas:\n",
    "x = 0\n",
    "\n",
    "while x < 10 :\n",
    "    print(x)\n",
    "    x += 1"
   ]
  },
  {
   "cell_type": "code",
   "execution_count": null,
   "metadata": {},
   "outputs": [],
   "source": [
    "# Begalinio rekursinio ciklo pavyzdys:\n",
    "def funkcija() :\n",
    "    print(\"Veikia\")\n",
    "    funkcija()\n",
    "\n",
    "funkcija()"
   ]
  },
  {
   "cell_type": "code",
   "execution_count": null,
   "metadata": {},
   "outputs": [
    {
     "name": "stdout",
     "output_type": "stream",
     "text": [
      "0\n",
      "1\n",
      "2\n",
      "3\n",
      "4\n",
      "5\n",
      "6\n",
      "7\n",
      "8\n",
      "9\n",
      "0\n",
      "1\n",
      "2\n",
      "3\n",
      "4\n",
      "5\n",
      "6\n",
      "7\n",
      "8\n",
      "9\n",
      "0\n",
      "1\n",
      "2\n",
      "3\n",
      "4\n",
      "5\n",
      "6\n",
      "7\n",
      "8\n",
      "9\n",
      "0\n",
      "1\n",
      "2\n",
      "3\n",
      "4\n",
      "5\n",
      "6\n",
      "7\n",
      "8\n",
      "9\n",
      "0\n",
      "1\n",
      "2\n",
      "3\n",
      "4\n",
      "5\n",
      "6\n",
      "7\n",
      "8\n",
      "9\n",
      "0\n",
      "1\n",
      "2\n",
      "3\n",
      "4\n",
      "5\n",
      "6\n",
      "7\n",
      "8\n",
      "9\n",
      "0\n",
      "1\n",
      "2\n",
      "3\n",
      "4\n",
      "5\n",
      "6\n",
      "7\n",
      "8\n",
      "9\n",
      "0\n",
      "1\n",
      "2\n",
      "3\n",
      "4\n",
      "5\n",
      "6\n",
      "7\n",
      "8\n",
      "9\n",
      "0\n",
      "1\n",
      "2\n",
      "3\n",
      "4\n",
      "5\n",
      "6\n",
      "7\n",
      "8\n",
      "9\n",
      "0\n",
      "1\n",
      "2\n",
      "3\n",
      "4\n",
      "5\n",
      "6\n",
      "7\n",
      "8\n",
      "9\n",
      "0\n",
      "1\n",
      "2\n",
      "3\n",
      "4\n",
      "5\n",
      "6\n",
      "7\n",
      "8\n",
      "9\n"
     ]
    }
   ],
   "source": [
    "def rekursija(skaicius) : \n",
    "    if skaicius > 0 :\n",
    "        rekursija(skaicius - 1) \n",
    "\n",
    "rekursija(10)"
   ]
  },
  {
   "cell_type": "code",
   "execution_count": null,
   "metadata": {},
   "outputs": [],
   "source": [
    "def rekursija(skaicius) : \n",
    "    def vidineFunkcija(skaicius) :\n",
    "        if skaicius > 0 :\n",
    "            vidineFunkcija(skaicius - 1)\n",
    "\n",
    "    vidineFunkcija()\n",
    "\n",
    "    if skaicius > 0 :\n",
    "        rekursija(skaicius - 1) \n",
    "\n",
    "rekursija(10)"
   ]
  },
  {
   "cell_type": "code",
   "execution_count": null,
   "metadata": {},
   "outputs": [],
   "source": [
    "# Camel case pavyzdys:\n",
    "def isBiggerThanTen(data) :\n",
    "    '''\n",
    "    Checks if given integer is bigger than number ten\n",
    "    data : number\n",
    "    return : bool \n",
    "    '''\n",
    "    if data > 10 :\n",
    "        return True\n",
    "\n",
    "    return False"
   ]
  },
  {
   "cell_type": "code",
   "execution_count": null,
   "metadata": {},
   "outputs": [],
   "source": [
    "# Snake case pavyzdys:\n",
    "# def is_bigger_than_ten() :\n",
    "    "
   ]
  }
 ],
 "metadata": {
  "kernelspec": {
   "display_name": "Python 3",
   "language": "python",
   "name": "python3"
  },
  "language_info": {
   "codemirror_mode": {
    "name": "ipython",
    "version": 3
   },
   "file_extension": ".py",
   "mimetype": "text/x-python",
   "name": "python",
   "nbconvert_exporter": "python",
   "pygments_lexer": "ipython3",
   "version": "3.13.0"
  }
 },
 "nbformat": 4,
 "nbformat_minor": 2
}
