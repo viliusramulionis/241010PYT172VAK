{
 "cells": [
  {
   "cell_type": "code",
   "execution_count": 5,
   "metadata": {},
   "outputs": [
    {
     "name": "stdout",
     "output_type": "stream",
     "text": [
      "Perkama 1569 žvakių už 1521.93 EUR\n"
     ]
    }
   ],
   "source": [
    "# Įmonė parduoda žvakes po 1 EUR. Perkant daugiau kaip 1000 vienetų taikoma 3 % nuolaida, \n",
    "# daugiau kaip 2000 vienetų- 4 % nuolaida. Parašykite programą, kuri skaičiuos \n",
    "# žvakių kainą ir atspausdintų atsakymą kiek žvakių ir kokia kaina perkama. \n",
    "# Žvakių kiekis įvedamas vartotojo (naudokite input funkciją)\n",
    "\n",
    "kiekis = int(input(\"Įveskite perkamą kiekį:\"))\n",
    "nuolaida = 0\n",
    "\n",
    "if kiekis > 1000 :\n",
    "    nuolaida = 0.03\n",
    "\n",
    "if kiekis > 2000 :\n",
    "    nuolaida = 0.04\n",
    "    \n",
    "print(f\"Perkama {kiekis} žvakių už {kiekis - (kiekis * nuolaida):.2f} EUR\")"
   ]
  },
  {
   "cell_type": "code",
   "execution_count": 10,
   "metadata": {},
   "outputs": [
    {
     "name": "stdout",
     "output_type": "stream",
     "text": [
      "Vidurkis yra 35.666666666666664\n",
      "Netinkamos reikšmės\n"
     ]
    }
   ],
   "source": [
    "# Paprašykite vartotojo įvesti tris skaičius. Suskaičiuokite įvesčių \n",
    "# aritmetinį vidurkį. Ir aritmetinį vidurkį atmetus tas reikšmes, \n",
    "# kurios yra mažesnės nei 10 arba didesnės nei 90. Abu vidurkius atspausdinkite. \n",
    "\n",
    "pirmas = int(input(\"Įveskite pirmąjį skaičių:\"))\n",
    "antras = int(input(\"Įveskite antrajį skaičių:\"))\n",
    "trecias = int(input(\"Įveskite trečiajį skaičių:\"))\n",
    "\n",
    "suma = 0\n",
    "kiekis = 0\n",
    "\n",
    "print(f\"Vidurkis yra {(pirmas + antras + trecias) / 3}\")\n",
    "\n",
    "if pirmas >= 10 and pirmas <= 90 :\n",
    "    suma += pirmas\n",
    "    kiekis += 1\n",
    "\n",
    "if antras >= 10 and antras <= 90 :\n",
    "    suma += antras\n",
    "    kiekis += 1\n",
    "\n",
    "if trecias >= 10 and trecias <= 90 :\n",
    "    suma += trecias\n",
    "    kiekis += 1\n",
    "\n",
    "if kiekis > 0 and suma > 0 :\n",
    "    print(f\"Vidurkis atmetus reikšmes kurios yra mažesnės nei 10 ir didesnės nei 90 yra {suma / kiekis}\")\n",
    "else :\n",
    "    print(\"Netinkamos reikšmės\")\n",
    "\n",
    "\n"
   ]
  },
  {
   "cell_type": "code",
   "execution_count": 17,
   "metadata": {},
   "outputs": [
    {
     "name": "stdout",
     "output_type": "stream",
     "text": [
      "Vartotojas įvedė 2 nulių, 1 vienetų, 1 dvejetų\n"
     ]
    }
   ],
   "source": [
    "# Vartotojas įveda keturis skaičius, kurie privalo būti nuo 0 iki 2. \n",
    "# Suskaičiuokite kiek yra įvesta nulių, vienetų ir dvejetų. \n",
    "\n",
    "pirmas = int(input(\"Įveskite pirmąjį skaičių:\"))\n",
    "antras = int(input(\"Įveskite antrajį skaičių:\"))\n",
    "trecias = int(input(\"Įveskite trečiajį skaičių:\"))\n",
    "ketvirtas = int(input(\"Įveskite ketvirtajį skaičių:\"))\n",
    "\n",
    "nuliai = 0\n",
    "vienetai = 0\n",
    "dvejetai = 0\n",
    "\n",
    "if pirmas == 0 :\n",
    "    nuliai += 1\n",
    "if pirmas == 1 :\n",
    "    vienetai += 1\n",
    "if pirmas == 2 :\n",
    "    dvejetai += 1\n",
    "\n",
    "if antras == 0 :\n",
    "    nuliai += 1\n",
    "if antras == 1 :\n",
    "    vienetai += 1\n",
    "if antras == 2 :\n",
    "    dvejetai += 1\n",
    "\n",
    "if trecias == 0 :\n",
    "    nuliai += 1\n",
    "if trecias == 1 :\n",
    "    vienetai += 1\n",
    "if trecias == 2 :\n",
    "    dvejetai += 1\n",
    "\n",
    "if ketvirtas == 0 :\n",
    "    nuliai += 1\n",
    "if ketvirtas == 1 :\n",
    "    vienetai += 1\n",
    "if ketvirtas == 2 :\n",
    "    dvejetai += 1\n",
    "\n",
    "print(f\"Vartotojas įvedė {nuliai} nulių, {vienetai} vienetų, {dvejetai} dvejetų\")"
   ]
  },
  {
   "cell_type": "code",
   "execution_count": 28,
   "metadata": {},
   "outputs": [
    {
     "name": "stdout",
     "output_type": "stream",
     "text": [
      "Vidurinis skaičius yra 20\n"
     ]
    }
   ],
   "source": [
    "# Vartotojas įveda tris skaičius. Raskite ir atspausdinkite vidurinį skaičių. \n",
    "\n",
    "pirmas = int(input(\"Įveskite pirmąjį skaičių:\"))\n",
    "antras = int(input(\"Įveskite antrajį skaičių:\"))\n",
    "trecias = int(input(\"Įveskite trečiajį skaičių:\"))\n",
    "\n",
    "# pirmas = 10\n",
    "# antras = 20\n",
    "# trecias = 30\n",
    "\n",
    "vidurinis = 0\n",
    "\n",
    "if antras >= pirmas :\n",
    "    if trecias >= antras :\n",
    "        vidurinis = antras\n",
    "    elif trecias <= antras :\n",
    "        vidurinis = trecias\n",
    "    else : \n",
    "        vidurinis = pirmas\n",
    "else :\n",
    "    if pirmas <= trecias :\n",
    "        vidurinis = pirmas\n",
    "    else :\n",
    "        vidurinis = antras\n",
    "\n",
    "\n",
    "print(f\"Vidurinis skaičius yra {vidurinis}\")\n",
    "\n",
    "max = max(pirmas, antras, trecias)\n",
    "min = min(pirmas, antras, trecias)\n",
    "\n",
    "print(f\"Vidurinė reikšmė yra: {(pirmas + antras + trecias) - (min + max)}\")\n",
    "\n",
    "\n"
   ]
  }
 ],
 "metadata": {
  "kernelspec": {
   "display_name": "Python 3",
   "language": "python",
   "name": "python3"
  },
  "language_info": {
   "codemirror_mode": {
    "name": "ipython",
    "version": 3
   },
   "file_extension": ".py",
   "mimetype": "text/x-python",
   "name": "python",
   "nbconvert_exporter": "python",
   "pygments_lexer": "ipython3",
   "version": "3.13.0"
  }
 },
 "nbformat": 4,
 "nbformat_minor": 2
}
