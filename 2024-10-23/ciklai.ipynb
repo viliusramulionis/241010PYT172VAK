{
 "cells": [
  {
   "cell_type": "code",
   "execution_count": 2,
   "metadata": {},
   "outputs": [
    {
     "name": "stdout",
     "output_type": "stream",
     "text": [
      "Kintamasis i yra: 0\n",
      "Kintamasis i yra: 1\n",
      "Kintamasis i yra: 2\n",
      "Kintamasis i yra: 3\n",
      "Kintamasis i yra: 4\n",
      "Kintamasis i yra: 5\n",
      "Kintamasis i yra: 6\n",
      "Kintamasis i yra: 7\n",
      "Kintamasis i yra: 8\n",
      "Kintamasis i yra: 9\n"
     ]
    }
   ],
   "source": [
    "# CIKLAI\n",
    "\n",
    "# While ciklas\n",
    "\n",
    "# BEGALINIO CIKLO APRAŠYMAS:\n",
    "# while True :\n",
    "#     print(\"Ciklas yra paleistas\")\n",
    "\n",
    "i = 0\n",
    "\n",
    "sarasas = []\n",
    "\n",
    "while i < 10 :\n",
    "    # Iteracija\n",
    "    print(f\"Kintamasis i yra: {i}\")\n",
    "    sarasas.append(\"Stringas\")\n",
    "    i += 1\n",
    "\n",
    "# Papildytas sąrašas:\n",
    "print(sarasas)\n"
   ]
  },
  {
   "cell_type": "code",
   "execution_count": null,
   "metadata": {},
   "outputs": [],
   "source": [
    "# Sąrašo atspausdinimas\n",
    "i = 0\n",
    "\n",
    "while i < len(sarasas) :\n",
    "    print(sarasas[i])\n",
    "    i += 1\n"
   ]
  },
  {
   "cell_type": "code",
   "execution_count": null,
   "metadata": {},
   "outputs": [],
   "source": [
    "# Reikšmių paėmimas naudojant for ciklą\n",
    "\n",
    "sarasas = [\"BMW\", \"Audi\", \"WV\"]\n",
    "\n",
    "for reiksme in sarasas :\n",
    "    print(reiksme)"
   ]
  },
  {
   "cell_type": "code",
   "execution_count": 4,
   "metadata": {},
   "outputs": [
    {
     "name": "stdout",
     "output_type": "stream",
     "text": [
      "0\n",
      "1\n",
      "2\n",
      "3\n",
      "4\n",
      "5\n",
      "6\n",
      "7\n",
      "8\n",
      "9\n"
     ]
    }
   ],
   "source": [
    "# Dešimties iteracijų ciklo paleidimas:\n",
    "\n",
    "for i in range(10) :\n",
    "    print(i)\n"
   ]
  },
  {
   "cell_type": "code",
   "execution_count": 3,
   "metadata": {},
   "outputs": [
    {
     "name": "stdout",
     "output_type": "stream",
     "text": [
      "5\n",
      "6\n",
      "7\n",
      "8\n",
      "9\n"
     ]
    }
   ],
   "source": [
    "# Penkių iteracijų ciklų paleidimas\n",
    "\n",
    "for i in range(5, 10) :\n",
    "    print(i)"
   ]
  },
  {
   "cell_type": "code",
   "execution_count": 6,
   "metadata": {},
   "outputs": [
    {
     "name": "stdout",
     "output_type": "stream",
     "text": [
      "Radome raidę a\n",
      "Radome raidę a\n",
      "Radome raidę a\n",
      "Radome raidę a\n",
      "Radome raidę a\n",
      "Radome raidę a\n",
      "Radome raidę a\n",
      "Radome raidę a\n"
     ]
    }
   ],
   "source": [
    "txt = \"sako, kad Delfi.lt yra populiariausias portalas.\"\n",
    "\n",
    "ieskoma = \"a\"\n",
    "\n",
    "for letter in txt:\n",
    "    if letter == ieskoma:\n",
    "        print(f\"Radome raidę {ieskoma}\")"
   ]
  },
  {
   "cell_type": "code",
   "execution_count": 8,
   "metadata": {},
   "outputs": [
    {
     "name": "stdout",
     "output_type": "stream",
     "text": [
      "Vartotojas įvedė 6 nulių, 3 vienetų, 3 dvejetų\n"
     ]
    }
   ],
   "source": [
    "skaiciai = [0, 0, 1, 0, 2, 2, 0, 0, 0, 2, 1, 1]\n",
    "\n",
    "nuliai = 0\n",
    "vienetai = 0\n",
    "dvejetai = 0\n",
    "\n",
    "for skaicius in skaiciai :\n",
    "    if skaicius == 0 :\n",
    "        nuliai += 1\n",
    "    if skaicius == 1 :\n",
    "        vienetai += 1\n",
    "    if skaicius == 2 :\n",
    "        dvejetai += 1\n",
    "\n",
    "print(f\"Vartotojas įvedė {nuliai} nulių, {vienetai} vienetų, {dvejetai} dvejetų\")"
   ]
  }
 ],
 "metadata": {
  "kernelspec": {
   "display_name": "Python 3",
   "language": "python",
   "name": "python3"
  },
  "language_info": {
   "codemirror_mode": {
    "name": "ipython",
    "version": 3
   },
   "file_extension": ".py",
   "mimetype": "text/x-python",
   "name": "python",
   "nbconvert_exporter": "python",
   "pygments_lexer": "ipython3",
   "version": "3.13.0"
  }
 },
 "nbformat": 4,
 "nbformat_minor": 2
}
