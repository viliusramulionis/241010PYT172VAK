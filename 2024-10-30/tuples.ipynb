{
 "cells": [
  {
   "cell_type": "code",
   "execution_count": null,
   "metadata": {},
   "outputs": [
    {
     "name": "stdout",
     "output_type": "stream",
     "text": [
      "<class 'list'>\n",
      "<class 'tuple'>\n",
      "['Jonas', 'Pavarde', 1981, False]\n"
     ]
    },
    {
     "ename": "TypeError",
     "evalue": "'tuple' object does not support item assignment",
     "output_type": "error",
     "traceback": [
      "\u001b[1;31m---------------------------------------------------------------------------\u001b[0m",
      "\u001b[1;31mTypeError\u001b[0m                                 Traceback (most recent call last)",
      "Cell \u001b[1;32mIn[5], line 11\u001b[0m\n\u001b[0;32m      7\u001b[0m sarasas[\u001b[38;5;241m0\u001b[39m] \u001b[38;5;241m=\u001b[39m \u001b[38;5;124m\"\u001b[39m\u001b[38;5;124mJonas\u001b[39m\u001b[38;5;124m\"\u001b[39m\n\u001b[0;32m      9\u001b[0m \u001b[38;5;28mprint\u001b[39m(sarasas)\n\u001b[1;32m---> 11\u001b[0m \u001b[43meilute\u001b[49m\u001b[43m[\u001b[49m\u001b[38;5;241;43m0\u001b[39;49m\u001b[43m]\u001b[49m \u001b[38;5;241m=\u001b[39m \u001b[38;5;124m\"\u001b[39m\u001b[38;5;124mPetras\u001b[39m\u001b[38;5;124m\"\u001b[39m\n\u001b[0;32m     13\u001b[0m \u001b[38;5;28mprint\u001b[39m(eilute)\n\u001b[0;32m     15\u001b[0m skaicius1 \u001b[38;5;241m=\u001b[39m \u001b[38;5;241m15\u001b[39m\n",
      "\u001b[1;31mTypeError\u001b[0m: 'tuple' object does not support item assignment"
     ]
    }
   ],
   "source": [
    "sarasas = [\"Vardenis\", \"Pavarde\", 1981, False]\n",
    "eilute = (\"Vardenis\", \"Pavardenis\", 1981, False)\n",
    "\n",
    "print(type(sarasas))\n",
    "print(type(eilute))\n",
    "\n",
    "sarasas[0] = \"Jonas\"\n",
    "\n",
    "print(sarasas)\n",
    "\n",
    "# Gauname klaida, nes eilutės nėra modifikuojamos\n",
    "eilute[0] = \"Petras\"\n",
    "\n",
    "print(eilute)\n",
    "\n",
    "\n",
    "\n"
   ]
  },
  {
   "cell_type": "code",
   "execution_count": null,
   "metadata": {},
   "outputs": [
    {
     "name": "stdout",
     "output_type": "stream",
     "text": [
      "22 15\n"
     ]
    },
    {
     "ename": "NameError",
     "evalue": "name 'listas' is not defined",
     "output_type": "error",
     "traceback": [
      "\u001b[1;31m---------------------------------------------------------------------------\u001b[0m",
      "\u001b[1;31mNameError\u001b[0m                                 Traceback (most recent call last)",
      "Cell \u001b[1;32mIn[7], line 12\u001b[0m\n\u001b[0;32m      7\u001b[0m skaicius2 \u001b[38;5;241m=\u001b[39m laikinas\n\u001b[0;32m      9\u001b[0m \u001b[38;5;28mprint\u001b[39m(skaicius1, skaicius2)\n\u001b[1;32m---> 12\u001b[0m \u001b[43mlistas\u001b[49m\n",
      "\u001b[1;31mNameError\u001b[0m: name 'listas' is not defined"
     ]
    }
   ],
   "source": [
    "# Norint sukeisti skaičius vietomis:\n",
    "skaicius1 = 15\n",
    "skaicius2 = 22\n",
    "\n",
    "laikinas = skaicius1\n",
    "\n",
    "skaicius1 = skaicius2\n",
    "skaicius2 = laikinas\n",
    "\n",
    "print(skaicius1, skaicius2)\n"
   ]
  },
  {
   "cell_type": "code",
   "execution_count": null,
   "metadata": {},
   "outputs": [
    {
     "name": "stdout",
     "output_type": "stream",
     "text": [
      "Vardenis\n",
      "Pavardenis\n"
     ]
    },
    {
     "ename": "TypeError",
     "evalue": "'tuple' object does not support item assignment",
     "output_type": "error",
     "traceback": [
      "\u001b[1;31m---------------------------------------------------------------------------\u001b[0m",
      "\u001b[1;31mTypeError\u001b[0m                                 Traceback (most recent call last)",
      "Cell \u001b[1;32mIn[10], line 7\u001b[0m\n\u001b[0;32m      4\u001b[0m \u001b[38;5;28mprint\u001b[39m(eilute[\u001b[38;5;241m0\u001b[39m])\n\u001b[0;32m      5\u001b[0m \u001b[38;5;28mprint\u001b[39m(eilute[\u001b[38;5;241m1\u001b[39m])\n\u001b[1;32m----> 7\u001b[0m \u001b[43meilute\u001b[49m\u001b[43m[\u001b[49m\u001b[38;5;241;43m0\u001b[39;49m\u001b[43m]\u001b[49m \u001b[38;5;241m=\u001b[39m \u001b[38;5;124m\"\u001b[39m\u001b[38;5;124mJonas\u001b[39m\u001b[38;5;124m\"\u001b[39m\n",
      "\u001b[1;31mTypeError\u001b[0m: 'tuple' object does not support item assignment"
     ]
    }
   ],
   "source": [
    "eilute = (\"Vardenis\", \"Pavardenis\", 1981, False)\n",
    "\n",
    "# Duomenų paėmimas iš eilutės\n",
    "print(eilute[0])\n",
    "print(eilute[1])\n"
   ]
  },
  {
   "cell_type": "code",
   "execution_count": null,
   "metadata": {},
   "outputs": [
    {
     "name": "stdout",
     "output_type": "stream",
     "text": [
      "('Vardenis', 'Pavarde', 1981, False)\n"
     ]
    }
   ],
   "source": [
    "sarasas = [\"Vardenis\", \"Pavarde\", 1981, False]\n",
    "\n",
    "# Saraso konvertavimas į eilutę\n",
    "\n",
    "print(tuple(sarasas))"
   ]
  },
  {
   "cell_type": "code",
   "execution_count": 12,
   "metadata": {},
   "outputs": [
    {
     "name": "stdout",
     "output_type": "stream",
     "text": [
      "['Vardenis', 'Pavarde', 1981, False]\n"
     ]
    }
   ],
   "source": [
    "eilute = (\"Vardenis\", \"Pavarde\", 1981, False)\n",
    "\n",
    "# Saraso konvertavimas į eilutę\n",
    "\n",
    "print(list(eilute))"
   ]
  }
 ],
 "metadata": {
  "kernelspec": {
   "display_name": "Python 3",
   "language": "python",
   "name": "python3"
  },
  "language_info": {
   "codemirror_mode": {
    "name": "ipython",
    "version": 3
   },
   "file_extension": ".py",
   "mimetype": "text/x-python",
   "name": "python",
   "nbconvert_exporter": "python",
   "pygments_lexer": "ipython3",
   "version": "3.13.0"
  }
 },
 "nbformat": 4,
 "nbformat_minor": 2
}
