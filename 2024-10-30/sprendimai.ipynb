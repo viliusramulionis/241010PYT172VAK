{
 "cells": [
  {
   "cell_type": "code",
   "execution_count": null,
   "metadata": {},
   "outputs": [
    {
     "name": "stdout",
     "output_type": "stream",
     "text": [
      "Ivyko klaida\n"
     ]
    }
   ],
   "source": [
    "try :\n",
    "    # tikriname ar ivyks klaida\n",
    "    skaicius = int(input(\"Iveskite skaiciu\"))\n",
    "except :\n",
    "    print(\"Ivyko klaida\")\n",
    "\n",
    "print(skaicius)\n"
   ]
  },
  {
   "cell_type": "code",
   "execution_count": null,
   "metadata": {},
   "outputs": [
    {
     "name": "stdout",
     "output_type": "stream",
     "text": [
      "3.75\n",
      "Sekantys veiksmai\n"
     ]
    }
   ],
   "source": [
    "try :\n",
    "    skaicius1 = int(input(\"Įveskite pirmą skaičių\"))\n",
    "    veiksmas = input(\"Įveskite veiksmą\")\n",
    "    skaicius2 = int(input(\"Įveskite antrą skaičių\"))\n",
    "except Exception as err :\n",
    "    print(\"Įvesta bloga reikšmė\")\n",
    "\n",
    "\n",
    "try :\n",
    "    if veiksmas == \"+\" :\n",
    "        print(skaicius1 + skaicius2)\n",
    "\n",
    "    if veiksmas == \"-\" :\n",
    "        print(skaicius1 - skaicius2)\n",
    "\n",
    "    if veiksmas == \"*\" :\n",
    "        print(skaicius1 * skaicius2)\n",
    "\n",
    "    if veiksmas == \"/\" :\n",
    "        print(skaicius1 / skaicius2)\n",
    "except ZeroDivisionError as err: \n",
    "    print(\"Dalyba iš nulio negalima\")\n",
    "\n",
    "print(\"Sekantys veiksmai\")"
   ]
  },
  {
   "cell_type": "code",
   "execution_count": 12,
   "metadata": {},
   "outputs": [
    {
     "ename": "ValueError",
     "evalue": "Netinkama reiksme",
     "output_type": "error",
     "traceback": [
      "\u001b[1;31m---------------------------------------------------------------------------\u001b[0m",
      "\u001b[1;31mValueError\u001b[0m                                Traceback (most recent call last)",
      "Cell \u001b[1;32mIn[12], line 1\u001b[0m\n\u001b[1;32m----> 1\u001b[0m \u001b[38;5;28;01mraise\u001b[39;00m \u001b[38;5;167;01mValueError\u001b[39;00m(\u001b[38;5;124m\"\u001b[39m\u001b[38;5;124mNetinkama reiksme\u001b[39m\u001b[38;5;124m\"\u001b[39m)\n",
      "\u001b[1;31mValueError\u001b[0m: Netinkama reiksme"
     ]
    }
   ],
   "source": [
    "raise ValueError(\"Netinkama reiksme\")"
   ]
  },
  {
   "cell_type": "code",
   "execution_count": 14,
   "metadata": {},
   "outputs": [
    {
     "name": "stdout",
     "output_type": "stream",
     "text": [
      "Turime skaiciu\n"
     ]
    }
   ],
   "source": [
    "skaicius = int(input(\"Įveskite pirmą skaičių\"))\n",
    "\n",
    "if skaicius > 0 :\n",
    "    print(\"Turime skaiciu\")"
   ]
  }
 ],
 "metadata": {
  "kernelspec": {
   "display_name": "Python 3",
   "language": "python",
   "name": "python3"
  },
  "language_info": {
   "codemirror_mode": {
    "name": "ipython",
    "version": 3
   },
   "file_extension": ".py",
   "mimetype": "text/x-python",
   "name": "python",
   "nbconvert_exporter": "python",
   "pygments_lexer": "ipython3",
   "version": "3.13.0"
  }
 },
 "nbformat": 4,
 "nbformat_minor": 2
}
