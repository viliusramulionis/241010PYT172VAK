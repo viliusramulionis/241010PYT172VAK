{
 "cells": [
  {
   "cell_type": "code",
   "execution_count": null,
   "metadata": {},
   "outputs": [
    {
     "name": "stdout",
     "output_type": "stream",
     "text": [
      "<class 'dict'>\n"
     ]
    }
   ],
   "source": [
    "zodynas = { \"vardas\" : \"Jonas\" }\n",
    "\n",
    "# Duomens tipo atvaizdavimas\n",
    "print(type(zodynas))"
   ]
  },
  {
   "cell_type": "code",
   "execution_count": 2,
   "metadata": {},
   "outputs": [
    {
     "name": "stdout",
     "output_type": "stream",
     "text": [
      "Jonas\n"
     ]
    }
   ],
   "source": [
    "zodynas = { \"vardas\" : \"Jonas\" }\n",
    "\n",
    "# Norint paimti reikšmę iš žodyno:\n",
    "\n",
    "print(zodynas['vardas'])"
   ]
  },
  {
   "cell_type": "code",
   "execution_count": null,
   "metadata": {},
   "outputs": [
    {
     "name": "stdout",
     "output_type": "stream",
     "text": [
      "{'vardas': 'Jonas'}\n"
     ]
    }
   ],
   "source": [
    "# Reikšmės patalpinimas į žodyną\n",
    "\n",
    "zodynas = {}\n",
    "\n",
    "zodynas[\"vardas\"] = \"Jonas\"\n",
    "\n",
    "print(zodynas)"
   ]
  },
  {
   "cell_type": "code",
   "execution_count": null,
   "metadata": {},
   "outputs": [
    {
     "name": "stdout",
     "output_type": "stream",
     "text": [
      "{'pavarde': 'Jonaitis', 'vardas': 'Jonas'}\n"
     ]
    }
   ],
   "source": [
    "# Zodyno papildymas nauja reikšme\n",
    "zodynas = {\"pavarde\": \"Jonaitis\"}\n",
    "\n",
    "zodynas[\"vardas\"] = \"Jonas\"\n",
    "\n",
    "print(zodynas)"
   ]
  },
  {
   "cell_type": "code",
   "execution_count": 8,
   "metadata": {},
   "outputs": [
    {
     "name": "stdout",
     "output_type": "stream",
     "text": [
      "{'amzius': 25}\n",
      "{'lytis': 'vyras'}\n"
     ]
    }
   ],
   "source": [
    "# Zodyno raktažodžiai yra unikalūs, dėl to nurodant naują reikšmę įvyksta atnaujinimas\n",
    "zodynas = { \"amzius\": 18 }\n",
    "\n",
    "zodynas[\"amzius\"] = 25\n",
    "\n",
    "print(zodynas)\n",
    "\n",
    "zodynas = { \"lytis\": \"moteris\", \"lytis\": \"vyras\" } \n",
    "\n",
    "print(zodynas)"
   ]
  },
  {
   "cell_type": "code",
   "execution_count": null,
   "metadata": {},
   "outputs": [
    {
     "name": "stdout",
     "output_type": "stream",
     "text": [
      "{'pavarde': 'Petraitis', 'amzius': 58, 'pomegiai': ['Plaukimas', 'Banklentės']}\n",
      "{'pavarde': 'Petraitis', 'pomegiai': ['Plaukimas', 'Banklentės']}\n"
     ]
    }
   ],
   "source": [
    "# Norint pašalinti reikšmę iš žodyno naudojamas pop() metodas\n",
    "\n",
    "zodynas = { \n",
    "    \"vardas\" : \"Petras\", \n",
    "    \"pavarde\" : \"Petraitis\", \n",
    "    \"amzius\" : 58,\n",
    "    \"pomegiai\": [\n",
    "        \"Plaukimas\", \"Banklentės\"\n",
    "    ]\n",
    "} \n",
    "\n",
    "zodynas.pop(\"vardas\")\n",
    "\n",
    "print(zodynas)\n",
    "\n",
    "zodynas.pop(\"amzius\")\n",
    "\n",
    "print(zodynas)"
   ]
  },
  {
   "cell_type": "code",
   "execution_count": 12,
   "metadata": {},
   "outputs": [
    {
     "name": "stdout",
     "output_type": "stream",
     "text": [
      "{}\n"
     ]
    }
   ],
   "source": [
    "zodynas = { \n",
    "    \"vardas\" : \"Petras\", \n",
    "    \"pavarde\" : \"Petraitis\", \n",
    "    \"amzius\" : 58,\n",
    "    \"pomegiai\": [\n",
    "        \"Plaukimas\", \"Banklentės\"\n",
    "    ]\n",
    "} \n",
    "\n",
    "# Išvalo žodyną:\n",
    "zodynas.clear()\n",
    "\n",
    "print(zodynas)\n"
   ]
  },
  {
   "cell_type": "code",
   "execution_count": 14,
   "metadata": {},
   "outputs": [
    {
     "name": "stdout",
     "output_type": "stream",
     "text": [
      "Petras\n"
     ]
    }
   ],
   "source": [
    "zodynas = { \n",
    "    \"vardas\" : \"Petras\", \n",
    "    \"pavarde\" : \"Petraitis\", \n",
    "    \"amzius\" : 58,\n",
    "    \"pomegiai\": [\n",
    "        \"Plaukimas\", \"Banklentės\"\n",
    "    ]\n",
    "} \n",
    "\n",
    "# Reikšmės susigrąžinimui:\n",
    "print(zodynas.get(\"vardas\"))\n"
   ]
  }
 ],
 "metadata": {
  "kernelspec": {
   "display_name": "Python 3",
   "language": "python",
   "name": "python3"
  },
  "language_info": {
   "codemirror_mode": {
    "name": "ipython",
    "version": 3
   },
   "file_extension": ".py",
   "mimetype": "text/x-python",
   "name": "python",
   "nbconvert_exporter": "python",
   "pygments_lexer": "ipython3",
   "version": "3.13.0"
  }
 },
 "nbformat": 4,
 "nbformat_minor": 2
}
