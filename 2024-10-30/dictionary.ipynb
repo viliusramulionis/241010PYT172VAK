{
 "cells": [
  {
   "cell_type": "code",
   "execution_count": null,
   "metadata": {},
   "outputs": [
    {
     "name": "stdout",
     "output_type": "stream",
     "text": [
      "<class 'dict'>\n"
     ]
    }
   ],
   "source": [
    "zodynas = { \"vardas\" : \"Jonas\" }\n",
    "\n",
    "# Duomens tipo atvaizdavimas\n",
    "print(type(zodynas))"
   ]
  },
  {
   "cell_type": "code",
   "execution_count": 2,
   "metadata": {},
   "outputs": [
    {
     "name": "stdout",
     "output_type": "stream",
     "text": [
      "Jonas\n"
     ]
    }
   ],
   "source": [
    "zodynas = { \"vardas\" : \"Jonas\" }\n",
    "\n",
    "# Norint paimti reikšmę iš žodyno:\n",
    "\n",
    "print(zodynas['vardas'])"
   ]
  },
  {
   "cell_type": "code",
   "execution_count": null,
   "metadata": {},
   "outputs": [
    {
     "name": "stdout",
     "output_type": "stream",
     "text": [
      "{'vardas': 'Jonas'}\n"
     ]
    }
   ],
   "source": [
    "# Reikšmės patalpinimas į žodyną\n",
    "\n",
    "zodynas = {}\n",
    "\n",
    "zodynas[\"vardas\"] = \"Jonas\"\n",
    "\n",
    "print(zodynas)"
   ]
  },
  {
   "cell_type": "code",
   "execution_count": null,
   "metadata": {},
   "outputs": [
    {
     "name": "stdout",
     "output_type": "stream",
     "text": [
      "{'pavarde': 'Jonaitis', 'vardas': 'Jonas'}\n"
     ]
    }
   ],
   "source": [
    "# Zodyno papildymas nauja reikšme\n",
    "zodynas = {\"pavarde\": \"Jonaitis\"}\n",
    "\n",
    "zodynas[\"vardas\"] = \"Jonas\"\n",
    "\n",
    "print(zodynas)"
   ]
  },
  {
   "cell_type": "code",
   "execution_count": 8,
   "metadata": {},
   "outputs": [
    {
     "name": "stdout",
     "output_type": "stream",
     "text": [
      "{'amzius': 25}\n",
      "{'lytis': 'vyras'}\n"
     ]
    }
   ],
   "source": [
    "# Zodyno raktažodžiai yra unikalūs, dėl to nurodant naują reikšmę įvyksta atnaujinimas\n",
    "zodynas = { \"amzius\": 18 }\n",
    "\n",
    "zodynas[\"amzius\"] = 25\n",
    "\n",
    "print(zodynas)\n",
    "\n",
    "zodynas = { \"lytis\": \"moteris\", \"lytis\": \"vyras\" } \n",
    "\n",
    "print(zodynas)"
   ]
  },
  {
   "cell_type": "code",
   "execution_count": null,
   "metadata": {},
   "outputs": [
    {
     "name": "stdout",
     "output_type": "stream",
     "text": [
      "{'pavarde': 'Petraitis', 'amzius': 58, 'pomegiai': ['Plaukimas', 'Banklentės']}\n",
      "{'pavarde': 'Petraitis', 'pomegiai': ['Plaukimas', 'Banklentės']}\n"
     ]
    }
   ],
   "source": [
    "# Norint pašalinti reikšmę iš žodyno naudojamas pop() metodas\n",
    "\n",
    "zodynas = { \n",
    "    \"vardas\" : \"Petras\", \n",
    "    \"pavarde\" : \"Petraitis\", \n",
    "    \"amzius\" : 58,\n",
    "    \"pomegiai\": [\n",
    "        \"Plaukimas\", \"Banklentės\"\n",
    "    ]\n",
    "} \n",
    "\n",
    "zodynas.pop(\"vardas\")\n",
    "\n",
    "print(zodynas)\n",
    "\n",
    "zodynas.pop(\"amzius\")\n",
    "\n",
    "print(zodynas)"
   ]
  },
  {
   "cell_type": "code",
   "execution_count": 12,
   "metadata": {},
   "outputs": [
    {
     "name": "stdout",
     "output_type": "stream",
     "text": [
      "{}\n"
     ]
    }
   ],
   "source": [
    "zodynas = { \n",
    "    \"vardas\" : \"Petras\", \n",
    "    \"pavarde\" : \"Petraitis\", \n",
    "    \"amzius\" : 58,\n",
    "    \"pomegiai\": [\n",
    "        \"Plaukimas\", \"Banklentės\"\n",
    "    ]\n",
    "} \n",
    "\n",
    "# Išvalo žodyną:\n",
    "zodynas.clear()\n",
    "\n",
    "print(zodynas)\n"
   ]
  },
  {
   "cell_type": "code",
   "execution_count": null,
   "metadata": {},
   "outputs": [
    {
     "name": "stdout",
     "output_type": "stream",
     "text": [
      "Petras\n"
     ]
    }
   ],
   "source": [
    "zodynas = { \n",
    "    \"vardas\" : \"Petras\", \n",
    "    \"pavarde\" : \"Petraitis\", \n",
    "    \"amzius\" : 58,\n",
    "    \"pomegiai\": [\n",
    "        \"Plaukimas\", \"Banglentės\"\n",
    "    ]\n",
    "} \n",
    "\n",
    "# Reikšmės susigrąžinimui:\n",
    "print(zodynas.get(\"vardas\"))\n"
   ]
  },
  {
   "cell_type": "code",
   "execution_count": 2,
   "metadata": {},
   "outputs": [
    {
     "name": "stdout",
     "output_type": "stream",
     "text": [
      "Bendra suma: 1119841.42\n"
     ]
    }
   ],
   "source": [
    "produktai = [\n",
    "    [\"Televizorius LG G-2152\", 58, 1999.99, 5],\n",
    "    [\"Telefonas Apple Iphone\", 12, 1159, 0.2],\n",
    "    [\"Automobilis Suzuki Vitara\", 66, 14999, 20000],\n",
    "]\n",
    "\n",
    "suma = 0\n",
    "\n",
    "for produktas in produktai :\n",
    "    suma += produktas[1] * produktas[2]\n",
    "\n",
    "print(\"Bendra suma:\", suma)"
   ]
  },
  {
   "cell_type": "code",
   "execution_count": 6,
   "metadata": {},
   "outputs": [
    {
     "name": "stdout",
     "output_type": "stream",
     "text": [
      "Bendra suma: 1119841.42\n"
     ]
    }
   ],
   "source": [
    "produktai = [\n",
    "    {\n",
    "        \"produktas\" : \"Televizorius LG G-2152\", \n",
    "        \"likutis\" : 58, \n",
    "        \"kaina\" : 1999.99, \n",
    "        \"svoris\" : 5\n",
    "    },\n",
    "    {\n",
    "        \"produktas\" : \"Telefonas Apple Iphone\", \n",
    "        \"likutis\" : 12, \n",
    "        \"kaina\" : 1159, \n",
    "        \"svoris\" : 0.2\n",
    "    },\n",
    "    {\n",
    "        \"produktas\" : \"Automobilis Suzuki Vitara\", \n",
    "        \"likutis\" : 66, \n",
    "        \"kaina\" : 14999, \n",
    "        \"svoris\" : 20000\n",
    "    }\n",
    "]\n",
    "\n",
    "suma = 0\n",
    "\n",
    "for produktas in produktai :\n",
    "    suma += produktas[\"likutis\"] * produktas[\"kaina\"]\n",
    "\n",
    "print(\"Bendra suma:\", suma)"
   ]
  },
  {
   "cell_type": "code",
   "execution_count": null,
   "metadata": {},
   "outputs": [
    {
     "name": "stdout",
     "output_type": "stream",
     "text": [
      "Plaukimas\n",
      "Banglentės\n"
     ]
    }
   ],
   "source": [
    "# Zodyne esancio saraso elemento iteravimas\n",
    "\n",
    "zodynas = { \n",
    "    \"vardas\" : \"Petras\", \n",
    "    \"pavarde\" : \"Petraitis\", \n",
    "    \"amzius\" : 58,\n",
    "    \"pomegiai\": [\n",
    "        \"Plaukimas\", \"Banglentės\"\n",
    "    ]\n",
    "} \n",
    "\n",
    "for pomegis in zodynas[\"pomegiai\"] :\n",
    "    print(pomegis)"
   ]
  },
  {
   "cell_type": "code",
   "execution_count": null,
   "metadata": {},
   "outputs": [
    {
     "name": "stdout",
     "output_type": "stream",
     "text": [
      "Banglentės\n"
     ]
    }
   ],
   "source": [
    "# Zodyne esancio saraso elemento paemimas\n",
    "\n",
    "zodynas = { \n",
    "    \"vardas\" : \"Petras\", \n",
    "    \"pavarde\" : \"Petraitis\", \n",
    "    \"amzius\" : 58,\n",
    "    \"pomegiai\": [\n",
    "        \"Plaukimas\", \"Banglentės\"\n",
    "    ]\n",
    "} \n",
    "\n",
    "print(zodynas[\"pomegiai\"][1])"
   ]
  },
  {
   "cell_type": "code",
   "execution_count": null,
   "metadata": {},
   "outputs": [
    {
     "name": "stdout",
     "output_type": "stream",
     "text": [
      "Tokio raktažodžio nėra registruota žodyne\n"
     ]
    }
   ],
   "source": [
    "# Tikriname ar raktažodis miestas yra žodyne:\n",
    "\n",
    "zodynas = { \n",
    "    \"vardas\" : \"Petras\", \n",
    "    \"pavarde\" : \"Petraitis\", \n",
    "    \"amzius\" : 58,\n",
    "    \"pomegiai\": [\n",
    "        \"Plaukimas\", \"Banglentės\"\n",
    "    ]\n",
    "} \n",
    "\n",
    "if not \"miestas\" in zodynas : \n",
    "    print(\"Tokio raktažodžio nėra registruota žodyne\")\n"
   ]
  },
  {
   "cell_type": "code",
   "execution_count": 19,
   "metadata": {},
   "outputs": [
    {
     "name": "stdout",
     "output_type": "stream",
     "text": [
      "{'vardas': 'PETRAS', 'pavarde': 'Petraitis', 'amzius': 58, 'pomegiai': ['Plaukimas', 'Banglentės']}\n"
     ]
    }
   ],
   "source": [
    "# Norint iteruoti per žodyną:\n",
    "\n",
    "zodynas = { \n",
    "    \"vardas\" : \"Petras\", \n",
    "    \"pavarde\" : \"Petraitis\", \n",
    "    \"amzius\" : 58,\n",
    "    \"pomegiai\": [\n",
    "        \"Plaukimas\", \"Banglentės\"\n",
    "    ]\n",
    "} \n",
    "\n",
    "# Grąžinamas raktažodis iš žodyno jį iteruojant:\n",
    "\n",
    "for raktazodis in zodynas : \n",
    "    if raktazodis == \"vardas\" :\n",
    "        zodynas[raktazodis] = zodynas[raktazodis].upper()\n",
    "\n",
    "\n",
    "print(zodynas)\n",
    "\n"
   ]
  },
  {
   "cell_type": "code",
   "execution_count": 21,
   "metadata": {},
   "outputs": [
    {
     "name": "stdout",
     "output_type": "stream",
     "text": [
      "{'vardas': 'Jonas', 'pavarde': 'Petraitis', 'amzius': 58, 'pomegiai': ['Plaukimas', 'Banglentės']}\n"
     ]
    }
   ],
   "source": [
    "zodynas = { \n",
    "    \"vardas\" : \"Petras\", \n",
    "    \"pavarde\" : \"Petraitis\", \n",
    "    \"amzius\" : 58,\n",
    "    \"pomegiai\": [\n",
    "        \"Plaukimas\", \"Banglentės\"\n",
    "    ]\n",
    "} \n",
    "\n",
    "raktazodis = \"vardas\"\n",
    "\n",
    "zodynas[raktazodis] = \"Jonas\"\n",
    "\n",
    "print(zodynas)"
   ]
  },
  {
   "cell_type": "code",
   "execution_count": null,
   "metadata": {},
   "outputs": [
    {
     "name": "stdout",
     "output_type": "stream",
     "text": [
      "dict_keys(['vardas', 'pavarde', 'amzius', 'pomegiai'])\n",
      "dict_values(['Petras', 'Petraitis', 58, ['Plaukimas', 'Banglentės']])\n",
      "Petras\n",
      "Petraitis\n",
      "58\n",
      "['Plaukimas', 'Banglentės']\n"
     ]
    }
   ],
   "source": [
    "zodynas = { \n",
    "    \"vardas\" : \"Petras\", \n",
    "    \"pavarde\" : \"Petraitis\", \n",
    "    \"amzius\" : 58,\n",
    "    \"pomegiai\": [\n",
    "        \"Plaukimas\", \"Banglentės\"\n",
    "    ]\n",
    "} \n",
    "\n",
    "# Norint susigrąžinti sąrašą su visais žodyne esamais raktažodžiais\n",
    "print(zodynas.keys())\n",
    "\n",
    "# Norint susigrąžinti visas žodyne sančias reikšmes\n",
    "print(zodynas.values())\n",
    "\n",
    "for reiksme in zodynas.values() :\n",
    "    print(reiksme)"
   ]
  },
  {
   "cell_type": "code",
   "execution_count": null,
   "metadata": {},
   "outputs": [
    {
     "name": "stdout",
     "output_type": "stream",
     "text": [
      "vardas Petras\n",
      "pavarde Petraitis\n",
      "amzius 58\n",
      "pomegiai ['Plaukimas', 'Banglentės']\n"
     ]
    }
   ],
   "source": [
    "zodynas = { \n",
    "    \"vardas\" : \"Petras\", \n",
    "    \"pavarde\" : \"Petraitis\", \n",
    "    \"amzius\" : 58,\n",
    "    \"pomegiai\": [\n",
    "        \"Plaukimas\", \"Banglentės\"\n",
    "    ]\n",
    "} \n",
    "\n",
    "# Norint susigrąžinti raktažodį ir reikšmę vienu metu naudojame .items() metodą\n",
    "\n",
    "for raktazodis, reiksme in zodynas.items() :\n",
    "    print(raktazodis, reiksme)"
   ]
  }
 ],
 "metadata": {
  "kernelspec": {
   "display_name": "Python 3",
   "language": "python",
   "name": "python3"
  },
  "language_info": {
   "codemirror_mode": {
    "name": "ipython",
    "version": 3
   },
   "file_extension": ".py",
   "mimetype": "text/x-python",
   "name": "python",
   "nbconvert_exporter": "python",
   "pygments_lexer": "ipython3",
   "version": "3.13.0"
  }
 },
 "nbformat": 4,
 "nbformat_minor": 2
}
