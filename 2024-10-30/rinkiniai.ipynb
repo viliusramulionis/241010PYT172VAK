{
 "cells": [
  {
   "cell_type": "code",
   "execution_count": 5,
   "metadata": {},
   "outputs": [
    {
     "name": "stdout",
     "output_type": "stream",
     "text": [
      "<class 'set'>\n"
     ]
    }
   ],
   "source": [
    "rinkinys = { \"Jonas\", 1981, False }\n",
    "\n",
    "print(type(rinkinys))"
   ]
  },
  {
   "cell_type": "code",
   "execution_count": null,
   "metadata": {},
   "outputs": [
    {
     "name": "stdout",
     "output_type": "stream",
     "text": [
      "{'Jonas', 'Jonaitis', 'jonas.jonaitis@gmail.com', 1981}\n"
     ]
    }
   ],
   "source": [
    "vartotojas1 = { \"Jonas\", \"Jonaitis\", 1981 }\n",
    "vartotojas2 = { \"Jonas\", \"Jonaitis\", \"jonas.jonaitis@gmail.com\" }\n",
    "\n",
    "# Rinkiniu sujungimas i viena:\n",
    "print(vartotojas1.union(vartotojas2))"
   ]
  },
  {
   "cell_type": "code",
   "execution_count": 9,
   "metadata": {},
   "outputs": [
    {
     "name": "stdout",
     "output_type": "stream",
     "text": [
      "['Jonas', 'Jonaitis', 1981, 'jonas.jonaitis@gmail.com']\n"
     ]
    }
   ],
   "source": [
    "vartotojas1 = [ \"Jonas\", \"Jonaitis\", 1981]\n",
    "vartotojas2 = [ \"Jonas\", \"Jonaitis\", \"jonas.jonaitis@gmail.com\" ]\n",
    "\n",
    "vartotojas = vartotojas1 + vartotojas2\n",
    "\n",
    "rezultatas = []\n",
    "\n",
    "for data in vartotojas :\n",
    "    if not data in rezultatas :\n",
    "        rezultatas.append(data)\n",
    "\n",
    "print(rezultatas)\n"
   ]
  },
  {
   "cell_type": "code",
   "execution_count": null,
   "metadata": {},
   "outputs": [
    {
     "name": "stdout",
     "output_type": "stream",
     "text": [
      "{'Jonas', 'Jonaitis'}\n"
     ]
    }
   ],
   "source": [
    "# Rinkiniuose nebūna dublikatų\n",
    "\n",
    "informacija = { \"Jonas\", \"Jonaitis\", \"Jonas\" }\n",
    "\n",
    "print(informacija)"
   ]
  },
  {
   "cell_type": "code",
   "execution_count": 27,
   "metadata": {},
   "outputs": [
    {
     "name": "stdout",
     "output_type": "stream",
     "text": [
      "{'Jonas', 'Jonaitis', 'jonas.jonaitis@gmail.com', 1981}\n",
      "{'Jonas', 'Jonaitis'}\n"
     ]
    }
   ],
   "source": [
    "sarasas = [ \"Jonas\", \"Jonaitis\", 1981 ]\n",
    "\n",
    "# Funkcija set() konvertuoja sarasa arba eilute i rinkini\n",
    "vartotojas1 = set(sarasas)\n",
    "vartotojas2 = { \"Jonas\", \"Jonaitis\", \"jonas.jonaitis@gmail.com\" }\n",
    "\n",
    "# Rinkiniu sujungimas i viena:\n",
    "print(vartotojas1.union(vartotojas2))\n",
    "\n",
    "print(vartotojas1 & vartotojas2)"
   ]
  },
  {
   "cell_type": "code",
   "execution_count": null,
   "metadata": {},
   "outputs": [
    {
     "name": "stdout",
     "output_type": "stream",
     "text": [
      "{1981}\n"
     ]
    },
    {
     "ename": "TypeError",
     "evalue": "unsupported operand type(s) for -: 'set' and 'list'",
     "output_type": "error",
     "traceback": [
      "\u001b[1;31m---------------------------------------------------------------------------\u001b[0m",
      "\u001b[1;31mTypeError\u001b[0m                                 Traceback (most recent call last)",
      "Cell \u001b[1;32mIn[22], line 7\u001b[0m\n\u001b[0;32m      3\u001b[0m vartotojas2 \u001b[38;5;241m=\u001b[39m [ \u001b[38;5;124m\"\u001b[39m\u001b[38;5;124mJonas\u001b[39m\u001b[38;5;124m\"\u001b[39m, \u001b[38;5;124m\"\u001b[39m\u001b[38;5;124mJonaitis\u001b[39m\u001b[38;5;124m\"\u001b[39m, \u001b[38;5;124m\"\u001b[39m\u001b[38;5;124mjonas.jonaitis@gmail.com\u001b[39m\u001b[38;5;124m\"\u001b[39m ]\n\u001b[0;32m      5\u001b[0m \u001b[38;5;28mprint\u001b[39m(vartotojas1\u001b[38;5;241m.\u001b[39mdifference(vartotojas2))\n\u001b[1;32m----> 7\u001b[0m \u001b[38;5;28mprint\u001b[39m(\u001b[43mvartotojas1\u001b[49m\u001b[43m \u001b[49m\u001b[38;5;241;43m-\u001b[39;49m\u001b[43m \u001b[49m\u001b[43mvartotojas2\u001b[49m)\n",
      "\u001b[1;31mTypeError\u001b[0m: unsupported operand type(s) for -: 'set' and 'list'"
     ]
    }
   ],
   "source": [
    "# Rinkinių palyginimas (Grąžinamos reikšmės kurios skiriasi rinkiniuose)\n",
    "vartotojas1 = { \"Jonas\", \"Jonaitis\", 1981 }\n",
    "vartotojas2 = { \"Jonas\", \"Jonaitis\", \"jonas.jonaitis@gmail.com\" }\n",
    "\n",
    "print(vartotojas1.difference(vartotojas2))\n",
    "\n",
    "print(vartotojas1 - vartotojas2)\n"
   ]
  },
  {
   "cell_type": "code",
   "execution_count": 23,
   "metadata": {},
   "outputs": [
    {
     "name": "stdout",
     "output_type": "stream",
     "text": [
      "{1981}\n"
     ]
    },
    {
     "ename": "TypeError",
     "evalue": "unsupported operand type(s) for -: 'set' and 'list'",
     "output_type": "error",
     "traceback": [
      "\u001b[1;31m---------------------------------------------------------------------------\u001b[0m",
      "\u001b[1;31mTypeError\u001b[0m                                 Traceback (most recent call last)",
      "Cell \u001b[1;32mIn[23], line 10\u001b[0m\n\u001b[0;32m      7\u001b[0m \u001b[38;5;28mprint\u001b[39m(vartotojas1\u001b[38;5;241m.\u001b[39mdifference(vartotojas2))\n\u001b[0;32m      9\u001b[0m \u001b[38;5;66;03m# Naudojant operatorių gausime klaida:\u001b[39;00m\n\u001b[1;32m---> 10\u001b[0m \u001b[38;5;28mprint\u001b[39m(\u001b[43mvartotojas1\u001b[49m\u001b[43m \u001b[49m\u001b[38;5;241;43m-\u001b[39;49m\u001b[43m \u001b[49m\u001b[43mvartotojas2\u001b[49m)\n",
      "\u001b[1;31mTypeError\u001b[0m: unsupported operand type(s) for -: 'set' and 'list'"
     ]
    }
   ],
   "source": [
    "# Rinkinių palyginimas (Grąžinamos reikšmės kurios skiriasi rinkiniuose)\n",
    "# Jeigu naudojamės rinkinių metais, šie konvertuoja perduotą reikšmę į rinkinį\n",
    "\n",
    "vartotojas1 = { \"Jonas\", \"Jonaitis\", 1981 }\n",
    "vartotojas2 = [ \"Jonas\", \"Jonaitis\", \"jonas.jonaitis@gmail.com\" ]\n",
    "\n",
    "print(vartotojas1.difference(vartotojas2))\n",
    "\n",
    "# Naudojant operatorių gausime klaida:\n",
    "print(vartotojas1 - vartotojas2)\n"
   ]
  },
  {
   "cell_type": "code",
   "execution_count": 25,
   "metadata": {},
   "outputs": [
    {
     "name": "stdout",
     "output_type": "stream",
     "text": [
      "{'jonas.jonaitis@gmail.com'}\n",
      "{'Jonas', 'Jonaitis', 'jonas.jonaitis@gmail.com', 1981}\n"
     ]
    }
   ],
   "source": [
    "# Rinkinių palyginimas iš kito vartotojo perspektyvos:\n",
    "\n",
    "vartotojas1 = { \"Jonas\", \"Jonaitis\", 1981 }\n",
    "vartotojas2 = { \"Jonas\", \"Jonaitis\", \"jonas.jonaitis@gmail.com\" }\n",
    "\n",
    "print(vartotojas2.difference(vartotojas1))\n",
    "\n",
    "print(vartotojas1 | vartotojas2)"
   ]
  },
  {
   "cell_type": "code",
   "execution_count": null,
   "metadata": {},
   "outputs": [
    {
     "name": "stdout",
     "output_type": "stream",
     "text": [
      "{'Jonas', 'Jonaitis'}\n"
     ]
    }
   ],
   "source": [
    "# Grąžinamos abiejose rinkiniuose esančios reikšmės:\n",
    "\n",
    "vartotojas1 = { \"Jonas\", \"Jonaitis\", 1981 }\n",
    "vartotojas2 = { \"Jonas\", \"Jonaitis\" }\n",
    "\n",
    "print(vartotojas1.intersection(vartotojas2))\n",
    "\n",
    "print(vartotojas1 & vartotojas2)"
   ]
  },
  {
   "cell_type": "code",
   "execution_count": null,
   "metadata": {},
   "outputs": [
    {
     "name": "stdout",
     "output_type": "stream",
     "text": [
      "{True, 'jonas.jonaitis@gmail.com', 1981}\n"
     ]
    }
   ],
   "source": [
    "# Grąžinamos reikšmės kurios skiriasi abiejuose rinkiniuose\n",
    "\n",
    "vartotojas1 = { \"Jonas\", \"Jonaitis\", 1981, True }\n",
    "vartotojas2 = { \"Jonas\", \"Jonaitis\", \"jonas.jonaitis@gmail.com\" }\n",
    "\n",
    "print(vartotojas1.symmetric_difference(vartotojas2))\n",
    "\n",
    "print(vartotojas1 ^ vartotojas2)"
   ]
  },
  {
   "cell_type": "code",
   "execution_count": null,
   "metadata": {},
   "outputs": [
    {
     "name": "stdout",
     "output_type": "stream",
     "text": [
      "{'Jonas', 'Jonaitis'}\n"
     ]
    }
   ],
   "source": [
    "vartotojas1 = { \"Jonas\", \"Jonaitis\", 1981 }\n",
    "vartotojas2 = { \"Jonas\", \"Jonaitis\" }\n",
    "\n",
    "# Originalaus atnaujinimas\n",
    "vartotojas1.intersection_update(vartotojas2)\n",
    "\n",
    "print(vartotojas1)"
   ]
  },
  {
   "cell_type": "code",
   "execution_count": 29,
   "metadata": {},
   "outputs": [
    {
     "data": {
      "text/plain": [
       "{'A', 'B', 'Jonas', 'Petras'}"
      ]
     },
     "execution_count": 29,
     "metadata": {},
     "output_type": "execute_result"
    }
   ],
   "source": [
    "pirmas = { \"A\", \"B\" }\n",
    "antras = [\"Jonas\", \"Petras\"]\n",
    "\n",
    "pirmas.union(antras)"
   ]
  }
 ],
 "metadata": {
  "kernelspec": {
   "display_name": "Python 3",
   "language": "python",
   "name": "python3"
  },
  "language_info": {
   "codemirror_mode": {
    "name": "ipython",
    "version": 3
   },
   "file_extension": ".py",
   "mimetype": "text/x-python",
   "name": "python",
   "nbconvert_exporter": "python",
   "pygments_lexer": "ipython3",
   "version": "3.13.0"
  }
 },
 "nbformat": 4,
 "nbformat_minor": 2
}
